{
 "cells": [
  {
   "cell_type": "code",
   "execution_count": 3,
   "id": "84444936",
   "metadata": {},
   "outputs": [
    {
     "name": "stdout",
     "output_type": "stream",
     "text": [
      "Python 3.8.13\n"
     ]
    }
   ],
   "source": [
    "!python -V"
   ]
  },
  {
   "cell_type": "code",
   "execution_count": 1,
   "id": "c5202f87",
   "metadata": {},
   "outputs": [
    {
     "name": "stdout",
     "output_type": "stream",
     "text": [
      "1.4.1\n"
     ]
    }
   ],
   "source": [
    "import pandas as pd\n",
    "print(pd.__version__)"
   ]
  },
  {
   "cell_type": "code",
   "execution_count": 2,
   "id": "1830b558",
   "metadata": {},
   "outputs": [
    {
     "name": "stdout",
     "output_type": "stream",
     "text": [
      "1.0.2\n"
     ]
    }
   ],
   "source": [
    "import sklearn\n",
    "print(sklearn.__version__)"
   ]
  },
  {
   "cell_type": "code",
   "execution_count": 3,
   "id": "ca096c2a",
   "metadata": {},
   "outputs": [
    {
     "name": "stdout",
     "output_type": "stream",
     "text": [
      "2.8.0\n"
     ]
    }
   ],
   "source": [
    "# import pandas as pd\n",
    "# import numpy as np\n",
    "# import matplotlib.pyplot as plt\n",
    "# import missingno as msno\n",
    "# from collections import Counter\n",
    "# import nltk \n",
    "# from nltk.corpus import stopwords\n",
    "# from nltk.tokenize import RegexpTokenizer\n",
    "# import re\n",
    "# from sklearn.feature_extraction.text import CountVectorizer\n",
    "# import sklearn.preprocessing as preprocessing\n",
    "# from sklearn.pipeline import Pipeline\n",
    "# from sklearn.feature_extraction.text import TfidfVectorizer\n",
    "# import seaborn as sns\n",
    "# import warnings\n",
    "# warnings.filterwarnings('ignore')\n",
    "\n",
    "\n",
    "# ## tensorflow imports\n",
    "# import tensorflow as tf\n",
    "# from tensorflow.keras import layers \n",
    "# from tensorflow.keras.regularizers import l2\n",
    "# print(tf.__version__)"
   ]
  },
  {
   "cell_type": "code",
   "execution_count": 4,
   "id": "743de48f",
   "metadata": {},
   "outputs": [
    {
     "name": "stdout",
     "output_type": "stream",
     "text": [
      "C:\\Users\\dey4d\\CapstoneProj\n"
     ]
    }
   ],
   "source": [
    "import os\n",
    "# the current working directory.\n",
    "currentDirectory = os.getcwd()\n",
    "print(currentDirectory)"
   ]
  },
  {
   "cell_type": "code",
   "execution_count": 5,
   "id": "17fad35e",
   "metadata": {},
   "outputs": [],
   "source": [
    "file_in = r'C:\\Users\\dey4d\\CapstoneProj\\index_sec'\n",
    "import pickle as pickle\n",
    "with open(file_in, \"rb\") as fh:\n",
    "    data2 = pickle.load(fh)"
   ]
  },
  {
   "cell_type": "code",
   "execution_count": 6,
   "id": "b04c5874",
   "metadata": {},
   "outputs": [
    {
     "data": {
      "text/html": [
       "<div>\n",
       "<style scoped>\n",
       "    .dataframe tbody tr th:only-of-type {\n",
       "        vertical-align: middle;\n",
       "    }\n",
       "\n",
       "    .dataframe tbody tr th {\n",
       "        vertical-align: top;\n",
       "    }\n",
       "\n",
       "    .dataframe thead th {\n",
       "        text-align: right;\n",
       "    }\n",
       "</style>\n",
       "<table border=\"1\" class=\"dataframe\">\n",
       "  <thead>\n",
       "    <tr style=\"text-align: right;\">\n",
       "      <th></th>\n",
       "      <th>CompanyCIK</th>\n",
       "      <th>CompanyName</th>\n",
       "      <th>FileType</th>\n",
       "      <th>FileDate</th>\n",
       "      <th>EdgarTextUrl</th>\n",
       "      <th>EdgarHtmlUrl</th>\n",
       "      <th>AccessionNumber</th>\n",
       "      <th>SecFileName</th>\n",
       "      <th>CompanyTicker</th>\n",
       "      <th>FileDate_ClosingPrice</th>\n",
       "      <th>FileDate_Plus_20</th>\n",
       "      <th>FileDate_Plus_20_Price</th>\n",
       "      <th>Pct_Change_20</th>\n",
       "      <th>Share_Unit_Value_Raw</th>\n",
       "      <th>FileName</th>\n",
       "      <th>f_text</th>\n",
       "      <th>file_text_length</th>\n",
       "    </tr>\n",
       "    <tr>\n",
       "      <th>FileDate</th>\n",
       "      <th></th>\n",
       "      <th></th>\n",
       "      <th></th>\n",
       "      <th></th>\n",
       "      <th></th>\n",
       "      <th></th>\n",
       "      <th></th>\n",
       "      <th></th>\n",
       "      <th></th>\n",
       "      <th></th>\n",
       "      <th></th>\n",
       "      <th></th>\n",
       "      <th></th>\n",
       "      <th></th>\n",
       "      <th></th>\n",
       "      <th></th>\n",
       "      <th></th>\n",
       "    </tr>\n",
       "  </thead>\n",
       "  <tbody>\n",
       "    <tr>\n",
       "      <th>2019-01-03</th>\n",
       "      <td>717954</td>\n",
       "      <td>UNIFIRST CORP</td>\n",
       "      <td>10-Q</td>\n",
       "      <td>2019-01-03</td>\n",
       "      <td>edgar/data/717954/0001284084-19-000002.txt</td>\n",
       "      <td>edgar/data/717954/0001284084-19-000002-index.html</td>\n",
       "      <td>0001284084-19-000002</td>\n",
       "      <td>2019-QTR1</td>\n",
       "      <td>UNF</td>\n",
       "      <td>133.860001</td>\n",
       "      <td>2019-01-23</td>\n",
       "      <td>136.509995</td>\n",
       "      <td>1.979676</td>\n",
       "      <td>2.649994</td>\n",
       "      <td>717954_0001284084-19-000002.txt</td>\n",
       "      <td>[various estimate, the result, timely decision...</td>\n",
       "      <td>1870</td>\n",
       "    </tr>\n",
       "    <tr>\n",
       "      <th>2019-01-03</th>\n",
       "      <td>1084765</td>\n",
       "      <td>RESOURCES CONNECTION INC</td>\n",
       "      <td>10-Q</td>\n",
       "      <td>2019-01-03</td>\n",
       "      <td>edgar/data/1084765/0001193125-19-001543.txt</td>\n",
       "      <td>edgar/data/1084765/0001193125-19-001543-index....</td>\n",
       "      <td>0001193125-19-001543</td>\n",
       "      <td>2019-QTR1</td>\n",
       "      <td>RGP</td>\n",
       "      <td>13.600000</td>\n",
       "      <td>2019-01-23</td>\n",
       "      <td>16.590000</td>\n",
       "      <td>21.985292</td>\n",
       "      <td>2.990000</td>\n",
       "      <td>1084765_0001193125-19-001543.txt</td>\n",
       "      <td>[asc topic contract term, limited number, the ...</td>\n",
       "      <td>2305</td>\n",
       "    </tr>\n",
       "  </tbody>\n",
       "</table>\n",
       "</div>"
      ],
      "text/plain": [
       "            CompanyCIK               CompanyName FileType   FileDate  \\\n",
       "FileDate                                                               \n",
       "2019-01-03      717954             UNIFIRST CORP     10-Q 2019-01-03   \n",
       "2019-01-03     1084765  RESOURCES CONNECTION INC     10-Q 2019-01-03   \n",
       "\n",
       "                                           EdgarTextUrl  \\\n",
       "FileDate                                                  \n",
       "2019-01-03   edgar/data/717954/0001284084-19-000002.txt   \n",
       "2019-01-03  edgar/data/1084765/0001193125-19-001543.txt   \n",
       "\n",
       "                                                 EdgarHtmlUrl  \\\n",
       "FileDate                                                        \n",
       "2019-01-03  edgar/data/717954/0001284084-19-000002-index.html   \n",
       "2019-01-03  edgar/data/1084765/0001193125-19-001543-index....   \n",
       "\n",
       "                 AccessionNumber SecFileName CompanyTicker  \\\n",
       "FileDate                                                     \n",
       "2019-01-03  0001284084-19-000002   2019-QTR1           UNF   \n",
       "2019-01-03  0001193125-19-001543   2019-QTR1           RGP   \n",
       "\n",
       "            FileDate_ClosingPrice FileDate_Plus_20  FileDate_Plus_20_Price  \\\n",
       "FileDate                                                                     \n",
       "2019-01-03             133.860001       2019-01-23              136.509995   \n",
       "2019-01-03              13.600000       2019-01-23               16.590000   \n",
       "\n",
       "            Pct_Change_20  Share_Unit_Value_Raw  \\\n",
       "FileDate                                          \n",
       "2019-01-03       1.979676              2.649994   \n",
       "2019-01-03      21.985292              2.990000   \n",
       "\n",
       "                                    FileName  \\\n",
       "FileDate                                       \n",
       "2019-01-03   717954_0001284084-19-000002.txt   \n",
       "2019-01-03  1084765_0001193125-19-001543.txt   \n",
       "\n",
       "                                                       f_text  \\\n",
       "FileDate                                                        \n",
       "2019-01-03  [various estimate, the result, timely decision...   \n",
       "2019-01-03  [asc topic contract term, limited number, the ...   \n",
       "\n",
       "            file_text_length  \n",
       "FileDate                      \n",
       "2019-01-03              1870  \n",
       "2019-01-03              2305  "
      ]
     },
     "execution_count": 6,
     "metadata": {},
     "output_type": "execute_result"
    }
   ],
   "source": [
    "data2.head(2)"
   ]
  },
  {
   "cell_type": "code",
   "execution_count": 56,
   "id": "4774796d",
   "metadata": {},
   "outputs": [],
   "source": [
    "# data2.info()"
   ]
  },
  {
   "cell_type": "code",
   "execution_count": 7,
   "id": "d0c39e96",
   "metadata": {},
   "outputs": [],
   "source": [
    "## features besides text to be used in the model\n",
    "df_non_text_features = data2.drop(columns = ['CompanyCIK','CompanyName','EdgarTextUrl','EdgarHtmlUrl','AccessionNumber','FileDate_Plus_20','FileDate_Plus_20_Price','Share_Unit_Value_Raw','FileName','f_text'])"
   ]
  },
  {
   "cell_type": "code",
   "execution_count": 8,
   "id": "12fdd5fd",
   "metadata": {},
   "outputs": [
    {
     "data": {
      "text/html": [
       "<div>\n",
       "<style scoped>\n",
       "    .dataframe tbody tr th:only-of-type {\n",
       "        vertical-align: middle;\n",
       "    }\n",
       "\n",
       "    .dataframe tbody tr th {\n",
       "        vertical-align: top;\n",
       "    }\n",
       "\n",
       "    .dataframe thead th {\n",
       "        text-align: right;\n",
       "    }\n",
       "</style>\n",
       "<table border=\"1\" class=\"dataframe\">\n",
       "  <thead>\n",
       "    <tr style=\"text-align: right;\">\n",
       "      <th></th>\n",
       "      <th>FileType</th>\n",
       "      <th>FileDate</th>\n",
       "      <th>SecFileName</th>\n",
       "      <th>CompanyTicker</th>\n",
       "      <th>FileDate_ClosingPrice</th>\n",
       "      <th>Pct_Change_20</th>\n",
       "      <th>file_text_length</th>\n",
       "    </tr>\n",
       "  </thead>\n",
       "  <tbody>\n",
       "    <tr>\n",
       "      <th>0</th>\n",
       "      <td>10-Q</td>\n",
       "      <td>2019-01-03</td>\n",
       "      <td>2019-QTR1</td>\n",
       "      <td>UNF</td>\n",
       "      <td>133.860001</td>\n",
       "      <td>1.979676</td>\n",
       "      <td>1870</td>\n",
       "    </tr>\n",
       "    <tr>\n",
       "      <th>1</th>\n",
       "      <td>10-Q</td>\n",
       "      <td>2019-01-03</td>\n",
       "      <td>2019-QTR1</td>\n",
       "      <td>RGP</td>\n",
       "      <td>13.600000</td>\n",
       "      <td>21.985292</td>\n",
       "      <td>2305</td>\n",
       "    </tr>\n",
       "    <tr>\n",
       "      <th>2</th>\n",
       "      <td>10-Q</td>\n",
       "      <td>2019-01-03</td>\n",
       "      <td>2019-QTR1</td>\n",
       "      <td>SMPL</td>\n",
       "      <td>19.920000</td>\n",
       "      <td>-1.355424</td>\n",
       "      <td>1342</td>\n",
       "    </tr>\n",
       "    <tr>\n",
       "      <th>3</th>\n",
       "      <td>10-Q</td>\n",
       "      <td>2019-01-04</td>\n",
       "      <td>2019-QTR1</td>\n",
       "      <td>EBF</td>\n",
       "      <td>19.790001</td>\n",
       "      <td>0.303181</td>\n",
       "      <td>1475</td>\n",
       "    </tr>\n",
       "  </tbody>\n",
       "</table>\n",
       "</div>"
      ],
      "text/plain": [
       "  FileType   FileDate SecFileName CompanyTicker  FileDate_ClosingPrice  \\\n",
       "0     10-Q 2019-01-03   2019-QTR1           UNF             133.860001   \n",
       "1     10-Q 2019-01-03   2019-QTR1           RGP              13.600000   \n",
       "2     10-Q 2019-01-03   2019-QTR1          SMPL              19.920000   \n",
       "3     10-Q 2019-01-04   2019-QTR1           EBF              19.790001   \n",
       "\n",
       "   Pct_Change_20  file_text_length  \n",
       "0       1.979676              1870  \n",
       "1      21.985292              2305  \n",
       "2      -1.355424              1342  \n",
       "3       0.303181              1475  "
      ]
     },
     "execution_count": 8,
     "metadata": {},
     "output_type": "execute_result"
    }
   ],
   "source": [
    "df_non_text_features = df_non_text_features.reset_index(drop=True)\n",
    "df_non_text_features.head(4)"
   ]
  },
  {
   "cell_type": "code",
   "execution_count": 9,
   "id": "a15a3f51",
   "metadata": {},
   "outputs": [],
   "source": [
    "## extracting the month only from file date\n",
    "df_non_text_features['FileDate']=df_non_text_features.FileDate.astype('str')\n",
    "\n",
    "FileDate = df_non_text_features['FileDate']\n",
    "\n",
    "File_Mon = []\n",
    "\n",
    "for pd in FileDate:\n",
    "    mon = pd[5:7]\n",
    "    File_Mon.append(mon)\n",
    "    \n",
    "# adding the confromed period month to the dataframe\n",
    "df_non_text_features[\"File_Mon\"] = File_Mon"
   ]
  },
  {
   "cell_type": "code",
   "execution_count": 10,
   "id": "e01a2b10",
   "metadata": {},
   "outputs": [],
   "source": [
    "## extracting the QTR only from SecFileName\n",
    "df_non_text_features['SecFileName']=df_non_text_features.SecFileName.astype('str')\n",
    "\n",
    "SecFileName = df_non_text_features['SecFileName']\n",
    "\n",
    "QTR = []\n",
    "\n",
    "for pd in SecFileName:\n",
    "    qtr = pd[5:9]\n",
    "    QTR.append(qtr)\n",
    "    \n",
    "# adding the confromed period month to the dataframe\n",
    "df_non_text_features[\"QTR\"] = QTR"
   ]
  },
  {
   "cell_type": "code",
   "execution_count": 11,
   "id": "5a719c11",
   "metadata": {},
   "outputs": [],
   "source": [
    "# df_non_text_features.head(3)"
   ]
  },
  {
   "cell_type": "code",
   "execution_count": 12,
   "id": "3f969975",
   "metadata": {},
   "outputs": [],
   "source": [
    "### Converting Pct_Change_20  to boolean variable based on whether the change is exceeding 5%\n",
    "\n",
    "per_change_exceeding = []\n",
    "\n",
    "for index, row in df_non_text_features.iterrows():\n",
    "    if row['Pct_Change_20'] > 5:     \n",
    "          per_change_exceeding.append(\"True\")\n",
    "    else: \n",
    "        per_change_exceeding.append(\"False\")\n",
    "        \n",
    "df_non_text_features[\"per_change_exceeding\"] = per_change_exceeding"
   ]
  },
  {
   "cell_type": "code",
   "execution_count": 13,
   "id": "cda19c30",
   "metadata": {},
   "outputs": [
    {
     "data": {
      "text/plain": [
       "array(['False', 'True'], dtype='<U5')"
      ]
     },
     "execution_count": 13,
     "metadata": {},
     "output_type": "execute_result"
    }
   ],
   "source": [
    "np.unique(per_change_exceeding)"
   ]
  },
  {
   "cell_type": "code",
   "execution_count": 14,
   "id": "b7bd40af",
   "metadata": {},
   "outputs": [
    {
     "data": {
      "text/html": [
       "<div>\n",
       "<style scoped>\n",
       "    .dataframe tbody tr th:only-of-type {\n",
       "        vertical-align: middle;\n",
       "    }\n",
       "\n",
       "    .dataframe tbody tr th {\n",
       "        vertical-align: top;\n",
       "    }\n",
       "\n",
       "    .dataframe thead th {\n",
       "        text-align: right;\n",
       "    }\n",
       "</style>\n",
       "<table border=\"1\" class=\"dataframe\">\n",
       "  <thead>\n",
       "    <tr style=\"text-align: right;\">\n",
       "      <th></th>\n",
       "      <th>FileType</th>\n",
       "      <th>FileDate</th>\n",
       "      <th>SecFileName</th>\n",
       "      <th>CompanyTicker</th>\n",
       "      <th>FileDate_ClosingPrice</th>\n",
       "      <th>Pct_Change_20</th>\n",
       "      <th>file_text_length</th>\n",
       "      <th>File_Mon</th>\n",
       "      <th>QTR</th>\n",
       "      <th>per_change_exceeding</th>\n",
       "    </tr>\n",
       "  </thead>\n",
       "  <tbody>\n",
       "    <tr>\n",
       "      <th>0</th>\n",
       "      <td>10-Q</td>\n",
       "      <td>2019-01-03</td>\n",
       "      <td>2019-QTR1</td>\n",
       "      <td>UNF</td>\n",
       "      <td>133.860001</td>\n",
       "      <td>1.979676</td>\n",
       "      <td>1870</td>\n",
       "      <td>01</td>\n",
       "      <td>QTR1</td>\n",
       "      <td>False</td>\n",
       "    </tr>\n",
       "    <tr>\n",
       "      <th>1</th>\n",
       "      <td>10-Q</td>\n",
       "      <td>2019-01-03</td>\n",
       "      <td>2019-QTR1</td>\n",
       "      <td>RGP</td>\n",
       "      <td>13.600000</td>\n",
       "      <td>21.985292</td>\n",
       "      <td>2305</td>\n",
       "      <td>01</td>\n",
       "      <td>QTR1</td>\n",
       "      <td>True</td>\n",
       "    </tr>\n",
       "    <tr>\n",
       "      <th>2</th>\n",
       "      <td>10-Q</td>\n",
       "      <td>2019-01-03</td>\n",
       "      <td>2019-QTR1</td>\n",
       "      <td>SMPL</td>\n",
       "      <td>19.920000</td>\n",
       "      <td>-1.355424</td>\n",
       "      <td>1342</td>\n",
       "      <td>01</td>\n",
       "      <td>QTR1</td>\n",
       "      <td>False</td>\n",
       "    </tr>\n",
       "  </tbody>\n",
       "</table>\n",
       "</div>"
      ],
      "text/plain": [
       "  FileType    FileDate SecFileName CompanyTicker  FileDate_ClosingPrice  \\\n",
       "0     10-Q  2019-01-03   2019-QTR1           UNF             133.860001   \n",
       "1     10-Q  2019-01-03   2019-QTR1           RGP              13.600000   \n",
       "2     10-Q  2019-01-03   2019-QTR1          SMPL              19.920000   \n",
       "\n",
       "   Pct_Change_20  file_text_length File_Mon   QTR per_change_exceeding  \n",
       "0       1.979676              1870       01  QTR1                False  \n",
       "1      21.985292              2305       01  QTR1                 True  \n",
       "2      -1.355424              1342       01  QTR1                False  "
      ]
     },
     "execution_count": 14,
     "metadata": {},
     "output_type": "execute_result"
    }
   ],
   "source": [
    "df_non_text_features.head(3)"
   ]
  },
  {
   "cell_type": "code",
   "execution_count": 15,
   "id": "979fbf09",
   "metadata": {},
   "outputs": [],
   "source": [
    "### Droping filedate, Secfilename and Pct_Change_20 from the dataframe\n",
    "df_non_text_features = df_non_text_features.drop(columns = ['FileDate','SecFileName', 'Pct_Change_20'])"
   ]
  },
  {
   "cell_type": "code",
   "execution_count": 16,
   "id": "378ff117",
   "metadata": {},
   "outputs": [
    {
     "data": {
      "text/html": [
       "<div>\n",
       "<style scoped>\n",
       "    .dataframe tbody tr th:only-of-type {\n",
       "        vertical-align: middle;\n",
       "    }\n",
       "\n",
       "    .dataframe tbody tr th {\n",
       "        vertical-align: top;\n",
       "    }\n",
       "\n",
       "    .dataframe thead th {\n",
       "        text-align: right;\n",
       "    }\n",
       "</style>\n",
       "<table border=\"1\" class=\"dataframe\">\n",
       "  <thead>\n",
       "    <tr style=\"text-align: right;\">\n",
       "      <th></th>\n",
       "      <th>FileType</th>\n",
       "      <th>CompanyTicker</th>\n",
       "      <th>FileDate_ClosingPrice</th>\n",
       "      <th>file_text_length</th>\n",
       "      <th>File_Mon</th>\n",
       "      <th>QTR</th>\n",
       "      <th>per_change_exceeding</th>\n",
       "    </tr>\n",
       "  </thead>\n",
       "  <tbody>\n",
       "    <tr>\n",
       "      <th>0</th>\n",
       "      <td>10-Q</td>\n",
       "      <td>UNF</td>\n",
       "      <td>133.860001</td>\n",
       "      <td>1870</td>\n",
       "      <td>01</td>\n",
       "      <td>QTR1</td>\n",
       "      <td>False</td>\n",
       "    </tr>\n",
       "    <tr>\n",
       "      <th>1</th>\n",
       "      <td>10-Q</td>\n",
       "      <td>RGP</td>\n",
       "      <td>13.600000</td>\n",
       "      <td>2305</td>\n",
       "      <td>01</td>\n",
       "      <td>QTR1</td>\n",
       "      <td>True</td>\n",
       "    </tr>\n",
       "    <tr>\n",
       "      <th>2</th>\n",
       "      <td>10-Q</td>\n",
       "      <td>SMPL</td>\n",
       "      <td>19.920000</td>\n",
       "      <td>1342</td>\n",
       "      <td>01</td>\n",
       "      <td>QTR1</td>\n",
       "      <td>False</td>\n",
       "    </tr>\n",
       "  </tbody>\n",
       "</table>\n",
       "</div>"
      ],
      "text/plain": [
       "  FileType CompanyTicker  FileDate_ClosingPrice  file_text_length File_Mon  \\\n",
       "0     10-Q           UNF             133.860001              1870       01   \n",
       "1     10-Q           RGP              13.600000              2305       01   \n",
       "2     10-Q          SMPL              19.920000              1342       01   \n",
       "\n",
       "    QTR per_change_exceeding  \n",
       "0  QTR1                False  \n",
       "1  QTR1                 True  \n",
       "2  QTR1                False  "
      ]
     },
     "execution_count": 16,
     "metadata": {},
     "output_type": "execute_result"
    }
   ],
   "source": [
    "df_non_text_features.head(3)"
   ]
  },
  {
   "cell_type": "code",
   "execution_count": null,
   "id": "416d0968",
   "metadata": {},
   "outputs": [],
   "source": []
  },
  {
   "cell_type": "code",
   "execution_count": 17,
   "id": "3227cbe4",
   "metadata": {},
   "outputs": [
    {
     "name": "stdout",
     "output_type": "stream",
     "text": [
      "   10k       10q    13a14a    15d14a  1a risk factor   8k  ability  \\\n",
      "0  0.0  0.000000  0.000000  0.000000        0.042414  0.0      0.0   \n",
      "1  0.0  0.020066  0.031527  0.000000        0.036250  0.0      0.0   \n",
      "2  0.0  0.027186  0.042713  0.049522        0.049111  0.0      0.0   \n",
      "\n",
      "   absolute assurance  acceptable term  acceptance  ...  write notice  \\\n",
      "0            0.000000         0.000000         0.0  ...           0.0   \n",
      "1            0.044935         0.039122         0.0  ...           0.0   \n",
      "2            0.000000         0.000000         0.0  ...           0.0   \n",
      "\n",
      "   writing      year  yes no indicate   you all  yous  yous dollar  yous gaap  \\\n",
      "0      0.0  0.000000         0.038051  0.000000   0.0     0.046716   0.042532   \n",
      "1      0.0  0.021240         0.032521  0.037536   0.0     0.039927   0.000000   \n",
      "2      0.0  0.028776         0.044060  0.000000   0.0     0.000000   0.000000   \n",
      "\n",
      "      yousc  yousc section  \n",
      "0  0.000000       0.028955  \n",
      "1  0.029228       0.024746  \n",
      "2  0.039598       0.033527  \n",
      "\n",
      "[3 rows x 2146 columns]\n",
      "====================================================================================================\n",
      "Size of the tfidf Vector Matrix:  (45382, 2146)\n"
     ]
    }
   ],
   "source": [
    "## tf-idf vectorizer for ngram text\n",
    "\n",
    "import pandas as pd\n",
    "\n",
    "MAX_FEATURES = 20000 \n",
    "\n",
    "def dummy_fun(doc):\n",
    "    return doc\n",
    "\n",
    "tfidvec = TfidfVectorizer(analyzer='word', \n",
    "                          tokenizer=dummy_fun,                      \n",
    "                          preprocessor=dummy_fun,\n",
    "                          token_pattern=None,\n",
    "#                           max_features = MAX_FEATURES,\n",
    "                          binary=True, \n",
    "                          smooth_idf=False,\n",
    "                          max_df=0.75,     \n",
    "                          min_df=0.1,       \n",
    "#                           norm= 'l1',      ## increase the sparsity\n",
    "                          stop_words= None,\n",
    "                          strip_accents=None,\n",
    "                          use_idf=True,\n",
    "                          sublinear_tf=True)\n",
    "\n",
    "df_tfidvec = tfidvec.fit_transform(data2[\"f_text\"])\n",
    "\n",
    "dfsp_tfidf = pd.DataFrame(df_tfidvec.toarray(), columns=tfidvec.get_feature_names_out())\n",
    "print(dfsp_tfidf.head(3))\n",
    "print('='*100)\n",
    "print('Size of the tfidf Vector Matrix: ', dfsp_tfidf.shape)"
   ]
  },
  {
   "cell_type": "code",
   "execution_count": 18,
   "id": "1b282242",
   "metadata": {},
   "outputs": [
    {
     "data": {
      "text/plain": [
       "<45382x2146 sparse matrix of type '<class 'numpy.float64'>'\n",
       "\twith 23030207 stored elements in Compressed Sparse Row format>"
      ]
     },
     "execution_count": 18,
     "metadata": {},
     "output_type": "execute_result"
    }
   ],
   "source": [
    "df_tfidvec"
   ]
  },
  {
   "cell_type": "code",
   "execution_count": 19,
   "id": "d6153dc2",
   "metadata": {},
   "outputs": [],
   "source": [
    "##  final data frame \n",
    "import pandas as pd\n",
    "df_final = pd.concat([df_non_text_features, dfsp_tfidf], axis=1, join='inner')"
   ]
  },
  {
   "cell_type": "code",
   "execution_count": 20,
   "id": "fd676d5d",
   "metadata": {},
   "outputs": [
    {
     "name": "stdout",
     "output_type": "stream",
     "text": [
      "<class 'pandas.core.frame.DataFrame'>\n",
      "RangeIndex: 45382 entries, 0 to 45381\n",
      "Columns: 2153 entries, FileType to yousc section\n",
      "dtypes: float64(2147), int64(1), object(5)\n",
      "memory usage: 745.4+ MB\n"
     ]
    }
   ],
   "source": [
    "df_final.info()"
   ]
  },
  {
   "cell_type": "code",
   "execution_count": 21,
   "id": "8e327910",
   "metadata": {},
   "outputs": [],
   "source": [
    "import pandas as pd\n",
    "categorical_columns = ['FileType','CompanyTicker','File_Mon','QTR']\n",
    "\n",
    "for column in categorical_columns:\n",
    "#     print(column, ' ', df_final_2.dtypes[column])\n",
    "    tempdf = pd.get_dummies(df_final[column], prefix=column)\n",
    "    df_final = pd.merge(\n",
    "        left=df_final,\n",
    "        right=tempdf,\n",
    "        left_index=True,\n",
    "        right_index=True,\n",
    "    )\n",
    "    df_final = df_final.drop(columns=column)"
   ]
  },
  {
   "cell_type": "code",
   "execution_count": 22,
   "id": "d3ec385c",
   "metadata": {},
   "outputs": [
    {
     "name": "stdout",
     "output_type": "stream",
     "text": [
      "<class 'pandas.core.frame.DataFrame'>\n",
      "RangeIndex: 45382 entries, 0 to 45381\n",
      "Columns: 9045 entries, FileDate_ClosingPrice to QTR_QTR4\n",
      "dtypes: float64(2147), int64(1), object(1), uint8(6896)\n",
      "memory usage: 1.0+ GB\n"
     ]
    }
   ],
   "source": [
    "df_final.info()"
   ]
  },
  {
   "cell_type": "code",
   "execution_count": 23,
   "id": "e9983e56",
   "metadata": {},
   "outputs": [
    {
     "data": {
      "text/plain": [
       "'Though not perfect, it is not unbalanced '"
      ]
     },
     "execution_count": 23,
     "metadata": {},
     "output_type": "execute_result"
    },
    {
     "data": {
      "image/png": "[encoded data removed]",
      "text/plain": [
       "<Figure size 180x360 with 1 Axes>"
      ]
     },
     "metadata": {
      "needs_background": "light"
     },
     "output_type": "display_data"
    }
   ],
   "source": [
    "## ploting the distribution of response variable \n",
    "missbeat_plot = sns.catplot(x=\"per_change_exceeding\", kind=\"count\",data=df_final,height=5, aspect=.5)\n",
    "missbeat_plot.fig.suptitle(\"'per_change_exceeding' Distribution\",\n",
    "                  fontsize=15, fontdict={\"weight\": \"bold\"})\n",
    "'''Though not perfect, it is not unbalanced '''"
   ]
  },
  {
   "cell_type": "code",
   "execution_count": 127,
   "id": "36a26dac",
   "metadata": {},
   "outputs": [],
   "source": [
    "### QR factorization to find the orthogonal columns to have a better conditioned matrix\n",
    "\n",
    "## DROP the response variable \n",
    "\n",
    "# df_final_explantory = df_final.drop(columns = ['per_change_exceeding'])\n",
    "\n",
    "# matrix = df_final_explantory.to_numpy()\n",
    "\n",
    "# q, r = np.linalg.qr(matrix)"
   ]
  },
  {
   "cell_type": "code",
   "execution_count": 205,
   "id": "f95bed62",
   "metadata": {},
   "outputs": [
    {
     "data": {
      "text/plain": [
       "8.830415632208509e+20"
      ]
     },
     "execution_count": 205,
     "metadata": {},
     "output_type": "execute_result"
    }
   ],
   "source": [
    "np.linalg.cond(df_final_explantory, p=None)\n",
    "\n",
    "'''it is an ill-conditioned matrix; so we need to use orthogonal bases'''"
   ]
  },
  {
   "cell_type": "markdown",
   "id": "1af6f6f7",
   "metadata": {},
   "source": [
    "## Using SVD decomposition"
   ]
  },
  {
   "cell_type": "code",
   "execution_count": 153,
   "id": "eed0d168",
   "metadata": {},
   "outputs": [],
   "source": [
    "## SVD\n",
    "from numpy import dot, diag, exp, real, sin, cosh, tanh\n",
    "from scipy.linalg import svd, svdvals"
   ]
  },
  {
   "cell_type": "code",
   "execution_count": 155,
   "id": "8e23b5e2",
   "metadata": {},
   "outputs": [],
   "source": [
    "def omega_approx(beta):\n",
    "    \"\"\"Return an approximate omega value for given beta. Equation (5) from Gavish 2014.\"\"\"\n",
    "    return 0.56 * beta**3 - 0.95 * beta**2 + 1.82 * beta + 1.43\n",
    "\n",
    "df_final_explantory = df_final.drop(columns = ['per_change_exceeding'])\n",
    "\n",
    "# do SVD and find tau star hat\n",
    "U,sv,Vh = svd(df_final_explantory, False, lapack_driver='gesvd')\n",
    "beta = min(df_final_explantory.shape) / max(df_final_explantory.shape)\n",
    "tau = np.median(sv) * omega_approx(beta)"
   ]
  },
  {
   "cell_type": "code",
   "execution_count": 156,
   "id": "ecd64c41",
   "metadata": {},
   "outputs": [
    {
     "name": "stdout",
     "output_type": "stream",
     "text": [
      "Optimal Cutoff Ranks, after adjustment for rounding, for SVD as per Gavish and Donoho :  6\n"
     ]
    }
   ],
   "source": [
    "rank = round(tau) + 1\n",
    "print('Optimal Cutoff Ranks, after adjustment for rounding, for SVD as per Gavish and Donoho : ', rank) "
   ]
  },
  {
   "cell_type": "code",
   "execution_count": 181,
   "id": "900e217a",
   "metadata": {},
   "outputs": [
    {
     "name": "stdout",
     "output_type": "stream",
     "text": [
      "percentage of variation represented by 7 column bases : 98.53\n"
     ]
    }
   ],
   "source": [
    "### top 7 column bases represent most of the variation\n",
    "percentage_of_variation = round((sum(np.diagonal(np.diag(sv[:7]))) / sum(np.diagonal(np.diag(sv))))*100 , 2)\n",
    "\n",
    "print('percentage of variation represented by 7 column bases :', percentage_of_variation)"
   ]
  },
  {
   "cell_type": "code",
   "execution_count": 159,
   "id": "6551475e",
   "metadata": {},
   "outputs": [
    {
     "name": "stdout",
     "output_type": "stream",
     "text": [
      "Size of the lower dimension matrix---\n",
      "(45382, 7)\n"
     ]
    }
   ],
   "source": [
    "## taking top columns to create lower dimension matrix\n",
    "df_lower = U[:,:7] \n",
    "print('Size of the lower dimension matrix---')\n",
    "print(df_lower.shape)"
   ]
  },
  {
   "cell_type": "code",
   "execution_count": 185,
   "id": "53d881d9",
   "metadata": {},
   "outputs": [
    {
     "name": "stdout",
     "output_type": "stream",
     "text": [
      "Size of the new lower dimension matrix---\n",
      "(45382, 7)\n"
     ]
    }
   ],
   "source": [
    "## weighting the column bases with the inverse of variation\n",
    "# np.diag(sv[:7])\n",
    "df_lower_new = U[:,:7] @ np.linalg.inv(np.diag(sv[:7]))\n",
    "print('Size of the new lower dimension matrix---')\n",
    "print(df_lower_new.shape)"
   ]
  },
  {
   "cell_type": "code",
   "execution_count": 196,
   "id": "441a1876",
   "metadata": {},
   "outputs": [
    {
     "name": "stdout",
     "output_type": "stream",
     "text": [
      "0    32904\n",
      "1    12478\n",
      "Name: per_change_exceeding, dtype: int64\n"
     ]
    }
   ],
   "source": [
    "df_response = pd.DataFrame(per_change_exceeding, columns =['per_change_exceeding'])\n",
    "df_response[\"per_change_exceeding\"] = (df_response[\"per_change_exceeding\"] == \"True\").astype(int)\n",
    "\n",
    "print(df_response['per_change_exceeding'].value_counts())"
   ]
  },
  {
   "cell_type": "code",
   "execution_count": 197,
   "id": "b8b8bcc9",
   "metadata": {},
   "outputs": [
    {
     "name": "stdout",
     "output_type": "stream",
     "text": [
      "Size of target vector:  (45382, 1)\n",
      "==================================================\n",
      "Size of explanatory matrix:  (45382, 7)\n"
     ]
    }
   ],
   "source": [
    "# y = df_final['per_change_exceeding']  ## this is explanatory variable\n",
    "\n",
    "y = np.array(df_response) ## already seperated from the data and stored in the y variable. converting to array\n",
    "X = df_lower_new\n",
    "print('Size of target vector: ', y.shape)\n",
    "print('='*50)\n",
    "print('Size of explanatory matrix: ',X.shape)"
   ]
  },
  {
   "cell_type": "code",
   "execution_count": 198,
   "id": "e1e2d943",
   "metadata": {},
   "outputs": [
    {
     "name": "stdout",
     "output_type": "stream",
     "text": [
      "Size of training data:  36306 and its shape :  (36306, 7)\n",
      "Size of training labels:  36306 and its shape :  (36306, 1)\n",
      "Size of test data:  9076 and its shape :  (9076, 7)\n",
      "Size of test labels:  9076 and its shape :  (9076, 1)\n"
     ]
    }
   ],
   "source": [
    "## Since the data is somewhat unbalanced, I prefer to use StratifiedKFold\n",
    "from sklearn.model_selection import StratifiedKFold\n",
    "\n",
    "cv = StratifiedKFold(n_splits= 5,shuffle=True,random_state=42)\n",
    "\n",
    "for train, test in cv.split(X,y):\n",
    "    X_train = X[train] \n",
    "    X_test  = X[test] \n",
    "    y_train = y[train]\n",
    "    y_test  = y[test] \n",
    "    \n",
    "print('Size of training data: ', len(X_train), 'and its shape : ', X_train.shape)\n",
    "print('Size of training labels: ', len(y_train), 'and its shape : ', y_train.shape)\n",
    "print('Size of test data: ', len(X_test), 'and its shape : ', X_test.shape)\n",
    "print('Size of test labels: ', len(y_test), 'and its shape : ', y_test.shape)"
   ]
  },
  {
   "cell_type": "markdown",
   "id": "c0b34e0f",
   "metadata": {},
   "source": [
    "## Dense Network"
   ]
  },
  {
   "cell_type": "code",
   "execution_count": 201,
   "id": "07befe44",
   "metadata": {},
   "outputs": [
    {
     "name": "stdout",
     "output_type": "stream",
     "text": [
      "Model: \"sequential\"\n",
      "_________________________________________________________________\n",
      " Layer (type)                Output Shape              Param #   \n",
      "=================================================================\n",
      " dense (Dense)               (None, 100)               800       \n",
      "                                                                 \n",
      " dense_1 (Dense)             (None, 100)               10100     \n",
      "                                                                 \n",
      " dense_2 (Dense)             (None, 100)               10100     \n",
      "                                                                 \n",
      " dense_3 (Dense)             (None, 1)                 101       \n",
      "                                                                 \n",
      "=================================================================\n",
      "Total params: 21,101\n",
      "Trainable params: 21,101\n",
      "Non-trainable params: 0\n",
      "_________________________________________________________________\n"
     ]
    }
   ],
   "source": [
    "# defining the architecture of this connected neural network\n",
    "\n",
    "def build_fc_model():    \n",
    "    '''defining the model using the Sequential class'''\n",
    "    fc_model = tf.keras.Sequential([\n",
    "      # First define a input layer\n",
    "      tf.keras.layers.InputLayer(input_shape=(X_train.shape[1],)),\n",
    "\n",
    "      # Defining the activation function for the first fully connected (Dense) layer      \n",
    "      tf.keras.layers.Dense(100, activation=tf.nn.relu, kernel_regularizer=tf.keras.regularizers.L2(0.01)),\n",
    "        \n",
    "      # Defining the activation function for the second fully connected (Dense) layer      \n",
    "      tf.keras.layers.Dense(100, activation=tf.nn.relu, kernel_regularizer=tf.keras.regularizers.L2(0.01)),     \n",
    "\n",
    "      # Defining the activation function for the third fully connected (Dense) layer      \n",
    "      tf.keras.layers.Dense(100, activation=tf.nn.relu, kernel_regularizer=tf.keras.regularizers.L2(0.01)),   \n",
    "        \n",
    "      # Defining the second Dense layer to output the classification probabilities\n",
    "      tf.keras.layers.Dense(1, activation=tf.nn.sigmoid, activity_regularizer=tf.keras.regularizers.L2(0.01))       \n",
    "    ])\n",
    "    return fc_model\n",
    "\n",
    "model = build_fc_model()\n",
    "model.summary()"
   ]
  },
  {
   "cell_type": "code",
   "execution_count": 202,
   "id": "3045d6b5",
   "metadata": {},
   "outputs": [],
   "source": [
    "## Using Adam optimizer with a learning rate of 0.01\n",
    "## since it is categorical classification, we are opting for caterorical_crossentropy for sparse data\n",
    "## chosing the matrix as accuracy\n",
    "\n",
    "learning_rate = 0.0001\n",
    "\n",
    "model.compile(optimizer=tf.keras.optimizers.Adam(learning_rate=learning_rate), \n",
    "              loss='binary_crossentropy',\n",
    "              metrics=['accuracy'])"
   ]
  },
  {
   "cell_type": "code",
   "execution_count": 203,
   "id": "40dbb1a9",
   "metadata": {},
   "outputs": [
    {
     "name": "stdout",
     "output_type": "stream",
     "text": [
      "Epoch 1/5\n",
      "1135/1135 [==============================] - 3s 2ms/step - loss: 1.5284 - accuracy: 0.7249\n",
      "Epoch 2/5\n",
      "1135/1135 [==============================] - 2s 1ms/step - loss: 0.6807 - accuracy: 0.7251\n",
      "Epoch 3/5\n",
      "1135/1135 [==============================] - 2s 1ms/step - loss: 0.5937 - accuracy: 0.7251\n",
      "Epoch 4/5\n",
      "1135/1135 [==============================] - 2s 1ms/step - loss: 0.5893 - accuracy: 0.7251\n",
      "Epoch 5/5\n",
      "1135/1135 [==============================] - 2s 1ms/step - loss: 0.5890 - accuracy: 0.7251\n"
     ]
    },
    {
     "data": {
      "text/plain": [
       "<keras.callbacks.History at 0x2008541f7f0>"
      ]
     },
     "execution_count": 203,
     "metadata": {},
     "output_type": "execute_result"
    }
   ],
   "source": [
    "# Defining the batch size and the number of epochs to use during training\n",
    "BATCH_SIZE = 32\n",
    "EPOCHS = 5\n",
    "\n",
    "model.fit(X_train, y_train, batch_size=BATCH_SIZE, epochs=EPOCHS)"
   ]
  },
  {
   "cell_type": "code",
   "execution_count": null,
   "id": "5c69428a",
   "metadata": {},
   "outputs": [],
   "source": []
  },
  {
   "cell_type": "markdown",
   "id": "29183945",
   "metadata": {},
   "source": [
    "## Using QR decomposition "
   ]
  },
  {
   "cell_type": "code",
   "execution_count": 24,
   "id": "c779cb14",
   "metadata": {},
   "outputs": [],
   "source": [
    "### QR factorization to find the orthogonal columns to have a better conditioned matrix\n",
    "\n",
    "df_final_explantory = df_final.drop(columns = ['per_change_exceeding'])\n",
    "matrix = df_final_explantory.to_numpy()\n",
    "\n",
    "q, r = np.linalg.qr(matrix)"
   ]
  },
  {
   "cell_type": "code",
   "execution_count": 25,
   "id": "c16cf3db",
   "metadata": {},
   "outputs": [
    {
     "data": {
      "text/html": [
       "<div>\n",
       "<style scoped>\n",
       "    .dataframe tbody tr th:only-of-type {\n",
       "        vertical-align: middle;\n",
       "    }\n",
       "\n",
       "    .dataframe tbody tr th {\n",
       "        vertical-align: top;\n",
       "    }\n",
       "\n",
       "    .dataframe thead th {\n",
       "        text-align: right;\n",
       "    }\n",
       "</style>\n",
       "<table border=\"1\" class=\"dataframe\">\n",
       "  <thead>\n",
       "    <tr style=\"text-align: right;\">\n",
       "      <th></th>\n",
       "      <th>col_0</th>\n",
       "      <th>col_1</th>\n",
       "      <th>col_2</th>\n",
       "      <th>col_3</th>\n",
       "      <th>col_4</th>\n",
       "      <th>col_5</th>\n",
       "      <th>col_6</th>\n",
       "      <th>col_7</th>\n",
       "      <th>col_8</th>\n",
       "      <th>col_9</th>\n",
       "      <th>...</th>\n",
       "      <th>col_45372</th>\n",
       "      <th>col_45373</th>\n",
       "      <th>col_45374</th>\n",
       "      <th>col_45375</th>\n",
       "      <th>col_45376</th>\n",
       "      <th>col_45377</th>\n",
       "      <th>col_45378</th>\n",
       "      <th>col_45379</th>\n",
       "      <th>col_45380</th>\n",
       "      <th>col_45381</th>\n",
       "    </tr>\n",
       "  </thead>\n",
       "  <tbody>\n",
       "    <tr>\n",
       "      <th>0</th>\n",
       "      <td>133.860001</td>\n",
       "      <td>13.6</td>\n",
       "      <td>19.92</td>\n",
       "      <td>19.790001</td>\n",
       "      <td>20.82</td>\n",
       "      <td>11.83</td>\n",
       "      <td>43.580002</td>\n",
       "      <td>75.580002</td>\n",
       "      <td>21.26</td>\n",
       "      <td>10.0</td>\n",
       "      <td>...</td>\n",
       "      <td>96.900002</td>\n",
       "      <td>2.95</td>\n",
       "      <td>460.059998</td>\n",
       "      <td>79.160004</td>\n",
       "      <td>85.870003</td>\n",
       "      <td>82.330002</td>\n",
       "      <td>61.799999</td>\n",
       "      <td>31.52</td>\n",
       "      <td>6.05</td>\n",
       "      <td>433.170013</td>\n",
       "    </tr>\n",
       "    <tr>\n",
       "      <th>1</th>\n",
       "      <td>1870.000000</td>\n",
       "      <td>2305.0</td>\n",
       "      <td>1342.00</td>\n",
       "      <td>1475.000000</td>\n",
       "      <td>1075.00</td>\n",
       "      <td>834.00</td>\n",
       "      <td>1024.000000</td>\n",
       "      <td>1692.000000</td>\n",
       "      <td>1664.00</td>\n",
       "      <td>1891.0</td>\n",
       "      <td>...</td>\n",
       "      <td>1491.000000</td>\n",
       "      <td>1916.00</td>\n",
       "      <td>2651.000000</td>\n",
       "      <td>2550.000000</td>\n",
       "      <td>1266.000000</td>\n",
       "      <td>1172.000000</td>\n",
       "      <td>1119.000000</td>\n",
       "      <td>880.00</td>\n",
       "      <td>1830.00</td>\n",
       "      <td>1671.000000</td>\n",
       "    </tr>\n",
       "    <tr>\n",
       "      <th>2</th>\n",
       "      <td>0.000000</td>\n",
       "      <td>0.0</td>\n",
       "      <td>0.00</td>\n",
       "      <td>0.000000</td>\n",
       "      <td>0.00</td>\n",
       "      <td>0.00</td>\n",
       "      <td>0.000000</td>\n",
       "      <td>0.057430</td>\n",
       "      <td>0.00</td>\n",
       "      <td>0.0</td>\n",
       "      <td>...</td>\n",
       "      <td>0.062368</td>\n",
       "      <td>0.00</td>\n",
       "      <td>0.000000</td>\n",
       "      <td>0.000000</td>\n",
       "      <td>0.067314</td>\n",
       "      <td>0.000000</td>\n",
       "      <td>0.000000</td>\n",
       "      <td>0.00</td>\n",
       "      <td>0.00</td>\n",
       "      <td>0.000000</td>\n",
       "    </tr>\n",
       "  </tbody>\n",
       "</table>\n",
       "<p>3 rows × 45382 columns</p>\n",
       "</div>"
      ],
      "text/plain": [
       "         col_0   col_1    col_2        col_3    col_4   col_5        col_6  \\\n",
       "0   133.860001    13.6    19.92    19.790001    20.82   11.83    43.580002   \n",
       "1  1870.000000  2305.0  1342.00  1475.000000  1075.00  834.00  1024.000000   \n",
       "2     0.000000     0.0     0.00     0.000000     0.00    0.00     0.000000   \n",
       "\n",
       "         col_7    col_8   col_9  ...    col_45372  col_45373    col_45374  \\\n",
       "0    75.580002    21.26    10.0  ...    96.900002       2.95   460.059998   \n",
       "1  1692.000000  1664.00  1891.0  ...  1491.000000    1916.00  2651.000000   \n",
       "2     0.057430     0.00     0.0  ...     0.062368       0.00     0.000000   \n",
       "\n",
       "     col_45375    col_45376    col_45377    col_45378  col_45379  col_45380  \\\n",
       "0    79.160004    85.870003    82.330002    61.799999      31.52       6.05   \n",
       "1  2550.000000  1266.000000  1172.000000  1119.000000     880.00    1830.00   \n",
       "2     0.000000     0.067314     0.000000     0.000000       0.00       0.00   \n",
       "\n",
       "     col_45381  \n",
       "0   433.170013  \n",
       "1  1671.000000  \n",
       "2     0.000000  \n",
       "\n",
       "[3 rows x 45382 columns]"
      ]
     },
     "execution_count": 25,
     "metadata": {},
     "output_type": "execute_result"
    }
   ],
   "source": [
    "### putting the column bases (q) into dataframe\n",
    "\n",
    "column_bases = [f'col_{num}' for num in range(len(q))]\n",
    "df_q_col_bases = pd.DataFrame(np.transpose(matrix), columns=column_bases)\n",
    "\n",
    "df_q_col_bases.head(3)"
   ]
  },
  {
   "cell_type": "code",
   "execution_count": 26,
   "id": "29d794c1",
   "metadata": {},
   "outputs": [
    {
     "data": {
      "text/html": [
       "<div>\n",
       "<style scoped>\n",
       "    .dataframe tbody tr th:only-of-type {\n",
       "        vertical-align: middle;\n",
       "    }\n",
       "\n",
       "    .dataframe tbody tr th {\n",
       "        vertical-align: top;\n",
       "    }\n",
       "\n",
       "    .dataframe thead th {\n",
       "        text-align: right;\n",
       "    }\n",
       "</style>\n",
       "<table border=\"1\" class=\"dataframe\">\n",
       "  <thead>\n",
       "    <tr style=\"text-align: right;\">\n",
       "      <th></th>\n",
       "      <th>per_change_exceeding</th>\n",
       "      <th>col_0</th>\n",
       "      <th>col_1</th>\n",
       "      <th>col_2</th>\n",
       "      <th>col_3</th>\n",
       "      <th>col_4</th>\n",
       "      <th>col_5</th>\n",
       "      <th>col_6</th>\n",
       "      <th>col_7</th>\n",
       "      <th>col_8</th>\n",
       "      <th>...</th>\n",
       "      <th>col_45372</th>\n",
       "      <th>col_45373</th>\n",
       "      <th>col_45374</th>\n",
       "      <th>col_45375</th>\n",
       "      <th>col_45376</th>\n",
       "      <th>col_45377</th>\n",
       "      <th>col_45378</th>\n",
       "      <th>col_45379</th>\n",
       "      <th>col_45380</th>\n",
       "      <th>col_45381</th>\n",
       "    </tr>\n",
       "  </thead>\n",
       "  <tbody>\n",
       "    <tr>\n",
       "      <th>0</th>\n",
       "      <td>0</td>\n",
       "      <td>133.860001</td>\n",
       "      <td>13.6</td>\n",
       "      <td>19.92</td>\n",
       "      <td>19.790001</td>\n",
       "      <td>20.82</td>\n",
       "      <td>11.83</td>\n",
       "      <td>43.580002</td>\n",
       "      <td>75.580002</td>\n",
       "      <td>21.26</td>\n",
       "      <td>...</td>\n",
       "      <td>96.900002</td>\n",
       "      <td>2.95</td>\n",
       "      <td>460.059998</td>\n",
       "      <td>79.160004</td>\n",
       "      <td>85.870003</td>\n",
       "      <td>82.330002</td>\n",
       "      <td>61.799999</td>\n",
       "      <td>31.52</td>\n",
       "      <td>6.05</td>\n",
       "      <td>433.170013</td>\n",
       "    </tr>\n",
       "    <tr>\n",
       "      <th>1</th>\n",
       "      <td>1</td>\n",
       "      <td>1870.000000</td>\n",
       "      <td>2305.0</td>\n",
       "      <td>1342.00</td>\n",
       "      <td>1475.000000</td>\n",
       "      <td>1075.00</td>\n",
       "      <td>834.00</td>\n",
       "      <td>1024.000000</td>\n",
       "      <td>1692.000000</td>\n",
       "      <td>1664.00</td>\n",
       "      <td>...</td>\n",
       "      <td>1491.000000</td>\n",
       "      <td>1916.00</td>\n",
       "      <td>2651.000000</td>\n",
       "      <td>2550.000000</td>\n",
       "      <td>1266.000000</td>\n",
       "      <td>1172.000000</td>\n",
       "      <td>1119.000000</td>\n",
       "      <td>880.00</td>\n",
       "      <td>1830.00</td>\n",
       "      <td>1671.000000</td>\n",
       "    </tr>\n",
       "    <tr>\n",
       "      <th>2</th>\n",
       "      <td>0</td>\n",
       "      <td>0.000000</td>\n",
       "      <td>0.0</td>\n",
       "      <td>0.00</td>\n",
       "      <td>0.000000</td>\n",
       "      <td>0.00</td>\n",
       "      <td>0.00</td>\n",
       "      <td>0.000000</td>\n",
       "      <td>0.057430</td>\n",
       "      <td>0.00</td>\n",
       "      <td>...</td>\n",
       "      <td>0.062368</td>\n",
       "      <td>0.00</td>\n",
       "      <td>0.000000</td>\n",
       "      <td>0.000000</td>\n",
       "      <td>0.067314</td>\n",
       "      <td>0.000000</td>\n",
       "      <td>0.000000</td>\n",
       "      <td>0.00</td>\n",
       "      <td>0.00</td>\n",
       "      <td>0.000000</td>\n",
       "    </tr>\n",
       "  </tbody>\n",
       "</table>\n",
       "<p>3 rows × 45383 columns</p>\n",
       "</div>"
      ],
      "text/plain": [
       "   per_change_exceeding        col_0   col_1    col_2        col_3    col_4  \\\n",
       "0                     0   133.860001    13.6    19.92    19.790001    20.82   \n",
       "1                     1  1870.000000  2305.0  1342.00  1475.000000  1075.00   \n",
       "2                     0     0.000000     0.0     0.00     0.000000     0.00   \n",
       "\n",
       "    col_5        col_6        col_7    col_8  ...    col_45372  col_45373  \\\n",
       "0   11.83    43.580002    75.580002    21.26  ...    96.900002       2.95   \n",
       "1  834.00  1024.000000  1692.000000  1664.00  ...  1491.000000    1916.00   \n",
       "2    0.00     0.000000     0.057430     0.00  ...     0.062368       0.00   \n",
       "\n",
       "     col_45374    col_45375    col_45376    col_45377    col_45378  col_45379  \\\n",
       "0   460.059998    79.160004    85.870003    82.330002    61.799999      31.52   \n",
       "1  2651.000000  2550.000000  1266.000000  1172.000000  1119.000000     880.00   \n",
       "2     0.000000     0.000000     0.067314     0.000000     0.000000       0.00   \n",
       "\n",
       "   col_45380    col_45381  \n",
       "0       6.05   433.170013  \n",
       "1    1830.00  1671.000000  \n",
       "2       0.00     0.000000  \n",
       "\n",
       "[3 rows x 45383 columns]"
      ]
     },
     "execution_count": 26,
     "metadata": {},
     "output_type": "execute_result"
    }
   ],
   "source": [
    "## new dataframe with response variable\n",
    "\n",
    "df_response = pd.DataFrame(per_change_exceeding, columns =['per_change_exceeding'])\n",
    "df_response[\"per_change_exceeding\"] = (df_response[\"per_change_exceeding\"] == \"True\").astype(int)\n",
    "\n",
    "df_final_col_bases = pd.concat([df_response, df_q_col_bases], axis=1, join='inner')\n",
    "df_final_col_bases.head(3)    "
   ]
  },
  {
   "cell_type": "code",
   "execution_count": 27,
   "id": "28b39eca",
   "metadata": {},
   "outputs": [
    {
     "data": {
      "text/plain": [
       "0    32904\n",
       "1    12478\n",
       "Name: per_change_exceeding, dtype: int64"
      ]
     },
     "execution_count": 27,
     "metadata": {},
     "output_type": "execute_result"
    }
   ],
   "source": [
    "df_response['per_change_exceeding'].value_counts()"
   ]
  },
  {
   "cell_type": "code",
   "execution_count": 28,
   "id": "8eed2921",
   "metadata": {},
   "outputs": [
    {
     "name": "stdout",
     "output_type": "stream",
     "text": [
      "Size of target vector:  (9044,)\n",
      "==================================================\n",
      "Size of explanatory matrix:  (9044, 45382)\n"
     ]
    }
   ],
   "source": [
    "## X for explanatory variables and y for the response variable\n",
    "y = df_final_col_bases['per_change_exceeding']\n",
    "X = df_final_col_bases.drop('per_change_exceeding', axis=1)\n",
    "print('Size of target vector: ', y.shape)\n",
    "print('='*50)\n",
    "print('Size of explanatory matrix: ',X.shape)"
   ]
  },
  {
   "cell_type": "code",
   "execution_count": 29,
   "id": "678eb2ac",
   "metadata": {},
   "outputs": [
    {
     "name": "stdout",
     "output_type": "stream",
     "text": [
      "Size of training data:  7236 and its shape :  (7236, 45382)\n",
      "Size of training labels:  7236 and its shape :  (7236,)\n",
      "Size of test data:  1808 and its shape :  (1808, 45382)\n",
      "Size of test labels:  1808 and its shape :  (1808,)\n"
     ]
    }
   ],
   "source": [
    "## Spliting data using stratifiedKFold\n",
    "from sklearn.model_selection import StratifiedKFold\n",
    "from sklearn.model_selection import KFold\n",
    "\n",
    "cross_val = StratifiedKFold(n_splits=5,shuffle=True,random_state=42)\n",
    "\n",
    "for train, test in cross_val.split(X,y):\n",
    "    X_train = X.iloc[train]\n",
    "    X_test  = X.iloc[test]\n",
    "    y_train = y.iloc[train]\n",
    "    y_test  = y.iloc[test] \n",
    "\n",
    "print('Size of training data: ', len(X_train), 'and its shape : ', X_train.shape)\n",
    "print('Size of training labels: ', len(y_train), 'and its shape : ', y_train.shape)\n",
    "print('Size of test data: ', len(X_test), 'and its shape : ', X_test.shape)\n",
    "print('Size of test labels: ', len(y_test), 'and its shape : ', y_test.shape)"
   ]
  },
  {
   "cell_type": "code",
   "execution_count": 42,
   "id": "0c5644e1",
   "metadata": {},
   "outputs": [
    {
     "data": {
      "text/plain": [
       "array([0, 1])"
      ]
     },
     "execution_count": 42,
     "metadata": {},
     "output_type": "execute_result"
    }
   ],
   "source": [
    "# y_train.unique()"
   ]
  },
  {
   "cell_type": "markdown",
   "id": "4e5c6331",
   "metadata": {},
   "source": [
    "## Dense Network"
   ]
  },
  {
   "cell_type": "code",
   "execution_count": 30,
   "id": "ab003f78",
   "metadata": {},
   "outputs": [
    {
     "name": "stdout",
     "output_type": "stream",
     "text": [
      "Model: \"sequential\"\n",
      "_________________________________________________________________\n",
      " Layer (type)                Output Shape              Param #   \n",
      "=================================================================\n",
      " dense (Dense)               (None, 100)               4538300   \n",
      "                                                                 \n",
      " dense_1 (Dense)             (None, 100)               10100     \n",
      "                                                                 \n",
      " dense_2 (Dense)             (None, 100)               10100     \n",
      "                                                                 \n",
      " dense_3 (Dense)             (None, 1)                 101       \n",
      "                                                                 \n",
      "=================================================================\n",
      "Total params: 4,558,601\n",
      "Trainable params: 4,558,601\n",
      "Non-trainable params: 0\n",
      "_________________________________________________________________\n"
     ]
    }
   ],
   "source": [
    "# defining the architecture of this connected neural network\n",
    "\n",
    "def build_fc_model():    \n",
    "    '''defining the model using the Sequential class'''\n",
    "    fc_model = tf.keras.Sequential([\n",
    "      # First define a input layer\n",
    "      tf.keras.layers.InputLayer(input_shape=(X_train.shape[1],)),\n",
    "\n",
    "      # Defining the activation function for the first fully connected (Dense) layer      \n",
    "      tf.keras.layers.Dense(100, activation=tf.nn.relu, kernel_regularizer=tf.keras.regularizers.L2(0.01)),\n",
    "        \n",
    "      # Defining the activation function for the second fully connected (Dense) layer      \n",
    "      tf.keras.layers.Dense(100, activation=tf.nn.relu, kernel_regularizer=tf.keras.regularizers.L2(0.01)),     \n",
    "\n",
    "      # Defining the activation function for the third fully connected (Dense) layer      \n",
    "      tf.keras.layers.Dense(100, activation=tf.nn.relu, kernel_regularizer=tf.keras.regularizers.L2(0.01)),   \n",
    "        \n",
    "      # Defining the second Dense layer to output the classification probabilities\n",
    "      tf.keras.layers.Dense(1, activation=tf.nn.sigmoid, activity_regularizer=tf.keras.regularizers.L2(0.01))       \n",
    "    ])\n",
    "    return fc_model\n",
    "\n",
    "model = build_fc_model()\n",
    "model.summary()"
   ]
  },
  {
   "cell_type": "code",
   "execution_count": 31,
   "id": "0b1baa83",
   "metadata": {},
   "outputs": [],
   "source": [
    "## Using Adam optimizer with a learning rate of 0.01\n",
    "## since it is categorical classification, we are opting for caterorical_crossentropy for sparse data\n",
    "## chosing the matrix as accuracy\n",
    "\n",
    "learning_rate = 0.0001\n",
    "\n",
    "model.compile(optimizer=tf.keras.optimizers.Adam(learning_rate=learning_rate), \n",
    "              loss='binary_crossentropy',\n",
    "              metrics=['accuracy'])"
   ]
  },
  {
   "cell_type": "code",
   "execution_count": 32,
   "id": "76a80190",
   "metadata": {},
   "outputs": [
    {
     "name": "stdout",
     "output_type": "stream",
     "text": [
      "Epoch 1/5\n",
      "227/227 [==============================] - 13s 46ms/step - loss: 21.7869 - accuracy: 0.7837\n",
      "Epoch 2/5\n",
      "227/227 [==============================] - 9s 39ms/step - loss: 8.4016 - accuracy: 0.7649\n",
      "Epoch 3/5\n",
      "227/227 [==============================] - 9s 39ms/step - loss: 2.1958 - accuracy: 0.7957\n",
      "Epoch 4/5\n",
      "227/227 [==============================] - 9s 38ms/step - loss: 1.6584 - accuracy: 0.8264\n",
      "Epoch 5/5\n",
      "227/227 [==============================] - 9s 39ms/step - loss: 5.6853 - accuracy: 0.8256\n"
     ]
    },
    {
     "data": {
      "text/plain": [
       "<keras.callbacks.History at 0x2080ced48b0>"
      ]
     },
     "execution_count": 32,
     "metadata": {},
     "output_type": "execute_result"
    }
   ],
   "source": [
    "# Defining the batch size and the number of epochs to use during training\n",
    "BATCH_SIZE = 32\n",
    "EPOCHS = 5\n",
    "\n",
    "model.fit(X_train, y_train, batch_size=BATCH_SIZE, epochs=EPOCHS)"
   ]
  },
  {
   "cell_type": "markdown",
   "id": "9378d134",
   "metadata": {},
   "source": [
    "## Converting images"
   ]
  },
  {
   "cell_type": "code",
   "execution_count": 43,
   "id": "5e351534",
   "metadata": {},
   "outputs": [
    {
     "data": {
      "text/plain": [
       "(45382, 9044)"
      ]
     },
     "execution_count": 43,
     "metadata": {},
     "output_type": "execute_result"
    }
   ],
   "source": [
    "## shape of the matrix\n",
    "np.transpose(df_q_col_bases).shape"
   ]
  },
  {
   "cell_type": "code",
   "execution_count": 39,
   "id": "2b4ad526",
   "metadata": {},
   "outputs": [
    {
     "data": {
      "image/png": "[encoded data removed]",
      "text/plain": [
       "<PIL.Image.Image image mode=L size=100x100 at 0x2080E3A9F10>"
      ]
     },
     "execution_count": 39,
     "metadata": {},
     "output_type": "execute_result"
    }
   ],
   "source": [
    "## Converting images from the data row\n",
    "from PIL import Image \n",
    "images = np.transpose(df_q_col_bases).apply(lambda x: Image.fromarray(x.values.reshape(1, 9044), 'L').resize((100, 100)), axis=1)\n",
    "\n",
    "# show image 0\n",
    "images[0]"
   ]
  },
  {
   "cell_type": "code",
   "execution_count": null,
   "id": "b3e01957",
   "metadata": {},
   "outputs": [],
   "source": []
  },
  {
   "cell_type": "code",
   "execution_count": null,
   "id": "f75e9771",
   "metadata": {},
   "outputs": [],
   "source": []
  },
  {
   "cell_type": "code",
   "execution_count": null,
   "id": "096cd1c6",
   "metadata": {},
   "outputs": [],
   "source": []
  },
  {
   "cell_type": "code",
   "execution_count": null,
   "id": "df45e428",
   "metadata": {},
   "outputs": [],
   "source": []
  },
  {
   "cell_type": "code",
   "execution_count": null,
   "id": "280e9f35",
   "metadata": {},
   "outputs": [],
   "source": []
  },
  {
   "cell_type": "code",
   "execution_count": null,
   "id": "b895dcfa",
   "metadata": {},
   "outputs": [],
   "source": []
  },
  {
   "cell_type": "code",
   "execution_count": null,
   "id": "1b9cf666",
   "metadata": {},
   "outputs": [],
   "source": []
  },
  {
   "cell_type": "code",
   "execution_count": null,
   "id": "4090ccc2",
   "metadata": {},
   "outputs": [],
   "source": [
    "# text = text.casefold()  # Lowercase all text casefold() is the more agressive unicode support version of lower()\n",
    "# text = contractions.fix(text) # Expand all contractions \n",
    "# text = re.sub(r\"\\S+\\.htm\", \"\", text) # Remove tokens ending in .htm\n",
    "# text = re.sub(r\"<.*?>\", \" \", text) # Remove all HTML tags but keep their contents\n",
    "# text = re.sub(f\"[{re.escape(punctuation)}]\", \"\", text)  # Remove punctuation\n",
    "# text = \" \".join(text.split())  # Remove extra spaces, tabs, and new lines\n",
    "# text = re.sub(r\"https?://\\S+\", \"\", text) # Remove hyperlinks\n",
    "# text = re.sub(r\"\\b[0-9]+\\b\\s*\", \"\", text) # Remove all numbers and dates \n",
    "# text = re.sub(r'\\b(\\w+)( \\1\\b)+', r'\\1', text) # Replace duplicate words with a single instance of the word\n",
    "    \n",
    "# # Remove short and long tokens\n",
    "# tokens = text.split()\n",
    "# clean_tokens = [t for t in tokens if len(t) > 1 and len(t) < 46]\n",
    "# text = \" \".join(clean_tokens)"
   ]
  },
  {
   "cell_type": "code",
   "execution_count": null,
   "id": "c0729456",
   "metadata": {},
   "outputs": [],
   "source": []
  }
 ],
 "metadata": {
  "kernelspec": {
   "display_name": "Python 3 (ipykernel)",
   "language": "python",
   "name": "python3"
  },
  "language_info": {
   "codemirror_mode": {
    "name": "ipython",
    "version": 3
   },
   "file_extension": ".py",
   "mimetype": "text/x-python",
   "name": "python",
   "nbconvert_exporter": "python",
   "pygments_lexer": "ipython3",
   "version": "3.8.13"
  }
 },
 "nbformat": 4,
 "nbformat_minor": 5
}

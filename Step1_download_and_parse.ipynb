{
 "cells": [
  {
   "cell_type": "markdown",
   "metadata": {},
   "source": [
    "Download SEC filing data"
   ]
  },
  {
   "cell_type": "code",
   "execution_count": 1,
   "metadata": {},
   "outputs": [],
   "source": [
    "from sec_edgar_downloader import Downloader\n",
    "import os\n",
    "import pandas as pd\n",
    "from bs4 import BeautifulSoup"
   ]
  },
  {
   "cell_type": "code",
   "execution_count": null,
   "metadata": {},
   "outputs": [],
   "source": [
    "# Initialize a downloader instance. If no argument is passed\n",
    "# to the constructor, the package will download filings to\n",
    "# the current working directory.\n",
    "\n",
    "# dl = Downloader(\"/path/to/valid/save/location\")\n",
    "\n",
    "currentDirectory = os.getcwd()\n",
    "print(currentDirectory)\n",
    "dl = Downloader(currentDirectory + '/data/download/')"
   ]
  },
  {
   "cell_type": "markdown",
   "metadata": {},
   "source": [
    "Download dow30 10-K 10-Q"
   ]
  },
  {
   "cell_type": "code",
   "execution_count": null,
   "metadata": {},
   "outputs": [],
   "source": [
    "dow30 = ['AAPL','AMGN','AXP','BA','CAT','CRM','CSCO','CVX','DIS','DOW','GS','HD','HON','IBM','INTC','JNJ','JPM','KO','MCD','MMM','MRK','MSFT','NKE','PG','TRV','UNH','V','VZ','WBA','WMT']\n",
    "for x in dow30:\n",
    "    dl.get(\"10-Q\",x,amount=6)\n",
    "    dl.get(\"10-K\",x,amount=5)"
   ]
  },
  {
   "cell_type": "markdown",
   "metadata": {},
   "source": [
    "Functions to parse report"
   ]
  },
  {
   "cell_type": "code",
   "execution_count": 48,
   "metadata": {},
   "outputs": [],
   "source": [
    "import nltk\n",
    "from nltk.tokenize import RegexpTokenizer\n",
    "from nltk.stem import WordNetLemmatizer,PorterStemmer\n",
    "from nltk.corpus import stopwords\n",
    "import re\n",
    "lemmatizer = WordNetLemmatizer()\n",
    "stemmer = PorterStemmer() \n",
    "\n",
    "def preprocess(sentence):\n",
    "    sentence=str(sentence)\n",
    "    sentence = sentence.lower()\n",
    "    sentence=sentence.replace('{html}',\"\") \n",
    "    cleanr = re.compile('<.*?>')\n",
    "    cleantext = re.sub(cleanr, '', sentence)\n",
    "    rem_url=re.sub(r'http\\S+', '',cleantext)\n",
    "    rem_num = re.sub('[0-9]+', '', rem_url)\n",
    "    tokenizer = RegexpTokenizer(r'\\w+')\n",
    "    tokens = tokenizer.tokenize(rem_num)  \n",
    "    filtered_words = [w for w in tokens if len(w) > 2 if not w in stopwords.words('english')]\n",
    "    stem_words=[stemmer.stem(w) for w in filtered_words]\n",
    "    lemma_words=[lemmatizer.lemmatize(w) for w in stem_words]\n",
    "    return \" \".join(filtered_words)\n",
    "\n"
   ]
  },
  {
   "cell_type": "code",
   "execution_count": 80,
   "metadata": {},
   "outputs": [],
   "source": [
    "def parse_10k(filepath): \n",
    "    f = open(filepath)\n",
    "    raw_10k = f.read()\n",
    "    \n",
    "    ## find start end range to avoid xml parsing problems ##\n",
    "    import re\n",
    "    # Regex to find <DOCUMENT> tags\n",
    "    doc_start_pattern = re.compile(r'<DOCUMENT>')\n",
    "    doc_end_pattern = re.compile(r'</DOCUMENT>')\n",
    "    # Regex to find <TYPE> tag prceeding any characters, terminating at new line\n",
    "    type_pattern = re.compile(r'<TYPE>[^\\n]+')\n",
    "    doc_start_is = [x.end() for x in doc_start_pattern.finditer(raw_10k)]\n",
    "    doc_end_is = [x.start() for x in doc_end_pattern.finditer(raw_10k)]\n",
    "    \n",
    "    doc_types = [x[len('<TYPE>'):] for x in type_pattern.findall(raw_10k)]\n",
    "    \n",
    "    document = {}\n",
    "\n",
    "    # Create a loop to go through each section type and save only the 10-K section in the dictionary\n",
    "    for doc_type, doc_start, doc_end in zip(doc_types, doc_start_is, doc_end_is):\n",
    "        if doc_type == '10-K':\n",
    "            #print(doc_start)\n",
    "            #print(doc_end)\n",
    "            doc_10k = raw_10k[doc_start:doc_end].lower()\n",
    "            \n",
    "    doc_10k_bs = BeautifulSoup(doc_10k, 'lxml')\n",
    "    doc_10k_str = str(doc_10k_bs)\n",
    "    \n",
    "    i7 = \"management’s discussion and analysis of financial condition and results of operations\"\n",
    "    sec7_find = re.finditer(i7, doc_10k_str)\n",
    "    i7a = 'quantitative and qualitative disclosures about market risk' \n",
    "    sec7a_find = re.finditer(i7a, doc_10k_str)\n",
    "\n",
    "    # moving keyword range to dataframe\n",
    "    sec7_start_range = []\n",
    "    sec7_end_range = []\n",
    "    for x in sec7_find: \n",
    "        #print(x.start())\n",
    "        sec7_start_range.append(x.start())\n",
    "        sec7_end_range.append(x.end())\n",
    "        sec7_df = pd.DataFrame({'start': sec7_start_range,'end': sec7_end_range})\n",
    "    sec7a_start_range = []\n",
    "    sec7a_end_range = []    \n",
    "    for x in sec7a_find: \n",
    "        sec7a_start_range.append(x.start())\n",
    "        sec7a_end_range.append(x.end())\n",
    "        sec7a_df = pd.DataFrame({'start': sec7a_start_range,'end': sec7a_end_range})\n",
    "\n",
    "    #qc check\n",
    "    #for index, row in sec7_df.iterrows():\n",
    "    #    print(row['start'], row['end'])\n",
    "    #    print('7aaaa')\n",
    "        #for index, row in sec7a_df.iterrows():\n",
    "        #    print(row['start'], row['end'])\n",
    "        \n",
    "    # get possible ranges \n",
    "    possible_start_range = []\n",
    "    possible_end_range = []\n",
    "    for index, row7a in sec7a_df.iterrows():\n",
    "        filtered = []\n",
    "        for i, row7 in sec7_df.iterrows():\n",
    "            if row7['end'] < row7a['start']:\n",
    "                filtered.append(row7['end'])\n",
    "        #print(filtered)\n",
    "        max_y = max(filtered)\n",
    "        possible_start_range.append(max_y)\n",
    "        possible_end_range.append(row7a['start']-1)\n",
    "\n",
    "        # qc \n",
    "        #for x in possible_start_range:\n",
    "        #    print(x)\n",
    "\n",
    "        # get the largest possible range\n",
    "    possible_df = pd.DataFrame({'start': possible_start_range,'end': possible_end_range})\n",
    "    possible_df['delta'] = possible_df['end'] - possible_df['start']\n",
    "\n",
    "    item7_df = possible_df.loc[possible_df['delta'].idxmax()]\n",
    "    \n",
    "    item_7_content = doc_10k[item7_df['start']:item7_df['end']]\n",
    "    item_7_cleaned = preprocess(item_7_content)\n",
    "    bagOfWordsA = item_7_cleaned.split(' ')\n",
    "    \n",
    "    return bagOfWordsA\n"
   ]
  },
  {
   "cell_type": "code",
   "execution_count": 83,
   "metadata": {},
   "outputs": [],
   "source": [
    "def read_file_date(filepath):\n",
    "    # Regex to find <DOCUMENT> tags\n",
    "    date_start_pattern = re.compile(r'FILED AS OF DATE:')\n",
    "    date_end_pattern = re.compile(r'DATE AS OF CHANGE:')\n",
    "    # Regex to find <TYPE> tag prceeding any characters, terminating at new line\n",
    "    date_type_pattern = re.compile(r'<TYPE>[^\\n]+')\n",
    "\n",
    "    f = open(filepath, \"r\")\n",
    "\n",
    "    raw_10k = f.read()\n",
    "    document = {}\n",
    "\n",
    "    date_start_is = [x.end() for x in date_start_pattern.finditer(raw_10k)]\n",
    "    date_end_is = [x.start() for x in date_end_pattern.finditer(raw_10k)]\n",
    "    date_types = [x[len('<TYPE>'):] for x in date_type_pattern.findall(raw_10k)]\n",
    "\n",
    "    # Create a loop to go through each section type and save only the 10-K section in the dictionary\n",
    "    for date_type, date_start, date_end in zip(date_types, date_start_is, date_end_is):\n",
    "        if date_type == '10-K':\n",
    "            ddd = raw_10k[date_start:date_end]\n",
    "            ddd = ddd.strip()\n",
    "        if date_type == '10-Q':\n",
    "            ddd = raw_10k[date_start:date_end]\n",
    "            ddd = ddd.strip()\n",
    "    return ddd"
   ]
  },
  {
   "cell_type": "markdown",
   "metadata": {},
   "source": [
    "Parse 10K "
   ]
  },
  {
   "cell_type": "code",
   "execution_count": 85,
   "metadata": {},
   "outputs": [
    {
     "name": "stdout",
     "output_type": "stream",
     "text": [
      "/Users/wailunchung/Documents/GitHub/DS6120_Capstone_A_dey_chung/data/download/sec-edgar-filings/AAPL/10-K/0000320193-19-000119/full-submission.txt\n",
      "2143\n",
      "1\n",
      "/Users/wailunchung/Documents/GitHub/DS6120_Capstone_A_dey_chung/data/download/sec-edgar-filings/AAPL/10-K/0000320193-17-000070/full-submission.txt\n",
      "4772\n",
      "2\n",
      "/Users/wailunchung/Documents/GitHub/DS6120_Capstone_A_dey_chung/data/download/sec-edgar-filings/AMGN/10-K/0000318154-20-000017/full-submission.txt\n",
      "4369\n",
      "1\n",
      "/Users/wailunchung/Documents/GitHub/DS6120_Capstone_A_dey_chung/data/download/sec-edgar-filings/AMGN/10-K/0000318154-18-000004/full-submission.txt\n",
      "5631\n",
      "2\n",
      "/Users/wailunchung/Documents/GitHub/DS6120_Capstone_A_dey_chung/data/download/sec-edgar-filings/AXP/10-K/0000004962-19-000018/full-submission.txt\n",
      "12195\n",
      "1\n",
      "/Users/wailunchung/Documents/GitHub/DS6120_Capstone_A_dey_chung/data/download/sec-edgar-filings/AXP/10-K/0000004962-20-000030/full-submission.txt\n",
      "12220\n",
      "2\n",
      "/Users/wailunchung/Documents/GitHub/DS6120_Capstone_A_dey_chung/data/download/sec-edgar-filings/BA/10-K/0001140361-21-009939/full-submission.txt\n",
      "13\n",
      "1\n",
      "/Users/wailunchung/Documents/GitHub/DS6120_Capstone_A_dey_chung/data/download/sec-edgar-filings/BA/10-K/0001140361-19-005717/full-submission.txt\n",
      "27\n",
      "2\n",
      "/Users/wailunchung/Documents/GitHub/DS6120_Capstone_A_dey_chung/data/download/sec-edgar-filings/CAT/10-K/0000018230-21-000063/full-submission.txt\n"
     ]
    },
    {
     "ename": "RecursionError",
     "evalue": "maximum recursion depth exceeded",
     "output_type": "error",
     "traceback": [
      "\u001b[0;31m---------------------------------------------------------------------------\u001b[0m",
      "\u001b[0;31mRecursionError\u001b[0m                            Traceback (most recent call last)",
      "\u001b[0;32m<ipython-input-85-80e1048f3586>\u001b[0m in \u001b[0;36m<module>\u001b[0;34m\u001b[0m\n\u001b[1;32m     17\u001b[0m                 \u001b[0;32mbreak\u001b[0m\u001b[0;34m\u001b[0m\u001b[0;34m\u001b[0m\u001b[0m\n\u001b[1;32m     18\u001b[0m             \u001b[0mprint\u001b[0m\u001b[0;34m(\u001b[0m\u001b[0mos\u001b[0m\u001b[0;34m.\u001b[0m\u001b[0mpath\u001b[0m\u001b[0;34m.\u001b[0m\u001b[0mjoin\u001b[0m\u001b[0;34m(\u001b[0m\u001b[0mfile_dir\u001b[0m\u001b[0;34m,\u001b[0m\u001b[0mname\u001b[0m\u001b[0;34m)\u001b[0m\u001b[0;34m+\u001b[0m\u001b[0;34m'/full-submission.txt'\u001b[0m\u001b[0;34m)\u001b[0m\u001b[0;34m\u001b[0m\u001b[0;34m\u001b[0m\u001b[0m\n\u001b[0;32m---> 19\u001b[0;31m             \u001b[0mitem7\u001b[0m \u001b[0;34m=\u001b[0m \u001b[0mparse_10k\u001b[0m\u001b[0;34m(\u001b[0m\u001b[0mos\u001b[0m\u001b[0;34m.\u001b[0m\u001b[0mpath\u001b[0m\u001b[0;34m.\u001b[0m\u001b[0mjoin\u001b[0m\u001b[0;34m(\u001b[0m\u001b[0mfile_dir\u001b[0m\u001b[0;34m,\u001b[0m\u001b[0mname\u001b[0m\u001b[0;34m)\u001b[0m\u001b[0;34m+\u001b[0m\u001b[0;34m'/full-submission.txt'\u001b[0m\u001b[0;34m)\u001b[0m\u001b[0;34m\u001b[0m\u001b[0;34m\u001b[0m\u001b[0m\n\u001b[0m\u001b[1;32m     20\u001b[0m             \u001b[0mprint\u001b[0m\u001b[0;34m(\u001b[0m\u001b[0mlen\u001b[0m\u001b[0;34m(\u001b[0m\u001b[0mitem7\u001b[0m\u001b[0;34m)\u001b[0m\u001b[0;34m)\u001b[0m\u001b[0;34m\u001b[0m\u001b[0;34m\u001b[0m\u001b[0m\n\u001b[1;32m     21\u001b[0m             \u001b[0mcontentk\u001b[0m\u001b[0;34m.\u001b[0m\u001b[0mappend\u001b[0m\u001b[0;34m(\u001b[0m\u001b[0mitem7\u001b[0m\u001b[0;34m)\u001b[0m\u001b[0;34m\u001b[0m\u001b[0;34m\u001b[0m\u001b[0m\n",
      "\u001b[0;32m<ipython-input-80-ef1cd9998b1e>\u001b[0m in \u001b[0;36mparse_10k\u001b[0;34m(filepath)\u001b[0m\n\u001b[1;32m     25\u001b[0m \u001b[0;34m\u001b[0m\u001b[0m\n\u001b[1;32m     26\u001b[0m     \u001b[0mdoc_10k_bs\u001b[0m \u001b[0;34m=\u001b[0m \u001b[0mBeautifulSoup\u001b[0m\u001b[0;34m(\u001b[0m\u001b[0mdoc_10k\u001b[0m\u001b[0;34m,\u001b[0m \u001b[0;34m'lxml'\u001b[0m\u001b[0;34m)\u001b[0m\u001b[0;34m\u001b[0m\u001b[0;34m\u001b[0m\u001b[0m\n\u001b[0;32m---> 27\u001b[0;31m     \u001b[0mdoc_10k_str\u001b[0m \u001b[0;34m=\u001b[0m \u001b[0mstr\u001b[0m\u001b[0;34m(\u001b[0m\u001b[0mdoc_10k_bs\u001b[0m\u001b[0;34m)\u001b[0m\u001b[0;34m\u001b[0m\u001b[0;34m\u001b[0m\u001b[0m\n\u001b[0m\u001b[1;32m     28\u001b[0m \u001b[0;34m\u001b[0m\u001b[0m\n\u001b[1;32m     29\u001b[0m     \u001b[0mi7\u001b[0m \u001b[0;34m=\u001b[0m \u001b[0;34m\"management’s discussion and analysis of financial condition and results of operations\"\u001b[0m\u001b[0;34m\u001b[0m\u001b[0;34m\u001b[0m\u001b[0m\n",
      "\u001b[0;32m~/.pyenv/versions/3.7.3/lib/python3.7/site-packages/bs4/element.py\u001b[0m in \u001b[0;36m__unicode__\u001b[0;34m(self)\u001b[0m\n\u001b[1;32m   1494\u001b[0m     \u001b[0;32mdef\u001b[0m \u001b[0m__unicode__\u001b[0m\u001b[0;34m(\u001b[0m\u001b[0mself\u001b[0m\u001b[0;34m)\u001b[0m\u001b[0;34m:\u001b[0m\u001b[0;34m\u001b[0m\u001b[0;34m\u001b[0m\u001b[0m\n\u001b[1;32m   1495\u001b[0m         \u001b[0;34m\"\"\"Renders this PageElement as a Unicode string.\"\"\"\u001b[0m\u001b[0;34m\u001b[0m\u001b[0;34m\u001b[0m\u001b[0m\n\u001b[0;32m-> 1496\u001b[0;31m         \u001b[0;32mreturn\u001b[0m \u001b[0mself\u001b[0m\u001b[0;34m.\u001b[0m\u001b[0mdecode\u001b[0m\u001b[0;34m(\u001b[0m\u001b[0;34m)\u001b[0m\u001b[0;34m\u001b[0m\u001b[0;34m\u001b[0m\u001b[0m\n\u001b[0m\u001b[1;32m   1497\u001b[0m \u001b[0;34m\u001b[0m\u001b[0m\n\u001b[1;32m   1498\u001b[0m     \u001b[0;32mdef\u001b[0m \u001b[0m__str__\u001b[0m\u001b[0;34m(\u001b[0m\u001b[0mself\u001b[0m\u001b[0;34m)\u001b[0m\u001b[0;34m:\u001b[0m\u001b[0;34m\u001b[0m\u001b[0;34m\u001b[0m\u001b[0m\n",
      "\u001b[0;32m~/.pyenv/versions/3.7.3/lib/python3.7/site-packages/bs4/__init__.py\u001b[0m in \u001b[0;36mdecode\u001b[0;34m(self, pretty_print, eventual_encoding, formatter)\u001b[0m\n\u001b[1;32m    757\u001b[0m             \u001b[0mindent_level\u001b[0m \u001b[0;34m=\u001b[0m \u001b[0;36m0\u001b[0m\u001b[0;34m\u001b[0m\u001b[0;34m\u001b[0m\u001b[0m\n\u001b[1;32m    758\u001b[0m         return prefix + super(BeautifulSoup, self).decode(\n\u001b[0;32m--> 759\u001b[0;31m             indent_level, eventual_encoding, formatter)\n\u001b[0m\u001b[1;32m    760\u001b[0m \u001b[0;34m\u001b[0m\u001b[0m\n\u001b[1;32m    761\u001b[0m \u001b[0;31m# Aliases to make it easier to get started quickly, e.g. 'from bs4 import _soup'\u001b[0m\u001b[0;34m\u001b[0m\u001b[0;34m\u001b[0m\u001b[0;34m\u001b[0m\u001b[0m\n",
      "\u001b[0;32m~/.pyenv/versions/3.7.3/lib/python3.7/site-packages/bs4/element.py\u001b[0m in \u001b[0;36mdecode\u001b[0;34m(self, indent_level, eventual_encoding, formatter)\u001b[0m\n\u001b[1;32m   1602\u001b[0m             \u001b[0mindent_contents\u001b[0m \u001b[0;34m=\u001b[0m \u001b[0;32mNone\u001b[0m\u001b[0;34m\u001b[0m\u001b[0;34m\u001b[0m\u001b[0m\n\u001b[1;32m   1603\u001b[0m         contents = self.decode_contents(\n\u001b[0;32m-> 1604\u001b[0;31m             \u001b[0mindent_contents\u001b[0m\u001b[0;34m,\u001b[0m \u001b[0meventual_encoding\u001b[0m\u001b[0;34m,\u001b[0m \u001b[0mformatter\u001b[0m\u001b[0;34m\u001b[0m\u001b[0;34m\u001b[0m\u001b[0m\n\u001b[0m\u001b[1;32m   1605\u001b[0m         )\n\u001b[1;32m   1606\u001b[0m \u001b[0;34m\u001b[0m\u001b[0m\n",
      "\u001b[0;32m~/.pyenv/versions/3.7.3/lib/python3.7/site-packages/bs4/element.py\u001b[0m in \u001b[0;36mdecode_contents\u001b[0;34m(self, indent_level, eventual_encoding, formatter)\u001b[0m\n\u001b[1;32m   1696\u001b[0m             \u001b[0;32melif\u001b[0m \u001b[0misinstance\u001b[0m\u001b[0;34m(\u001b[0m\u001b[0mc\u001b[0m\u001b[0;34m,\u001b[0m \u001b[0mTag\u001b[0m\u001b[0;34m)\u001b[0m\u001b[0;34m:\u001b[0m\u001b[0;34m\u001b[0m\u001b[0;34m\u001b[0m\u001b[0m\n\u001b[1;32m   1697\u001b[0m                 s.append(c.decode(indent_level, eventual_encoding,\n\u001b[0;32m-> 1698\u001b[0;31m                                   formatter))\n\u001b[0m\u001b[1;32m   1699\u001b[0m             preserve_whitespace = (\n\u001b[1;32m   1700\u001b[0m                 \u001b[0mself\u001b[0m\u001b[0;34m.\u001b[0m\u001b[0mpreserve_whitespace_tags\u001b[0m \u001b[0;32mand\u001b[0m \u001b[0mself\u001b[0m\u001b[0;34m.\u001b[0m\u001b[0mname\u001b[0m \u001b[0;32min\u001b[0m \u001b[0mself\u001b[0m\u001b[0;34m.\u001b[0m\u001b[0mpreserve_whitespace_tags\u001b[0m\u001b[0;34m\u001b[0m\u001b[0;34m\u001b[0m\u001b[0m\n",
      "... last 2 frames repeated, from the frame below ...\n",
      "\u001b[0;32m~/.pyenv/versions/3.7.3/lib/python3.7/site-packages/bs4/element.py\u001b[0m in \u001b[0;36mdecode\u001b[0;34m(self, indent_level, eventual_encoding, formatter)\u001b[0m\n\u001b[1;32m   1602\u001b[0m             \u001b[0mindent_contents\u001b[0m \u001b[0;34m=\u001b[0m \u001b[0;32mNone\u001b[0m\u001b[0;34m\u001b[0m\u001b[0;34m\u001b[0m\u001b[0m\n\u001b[1;32m   1603\u001b[0m         contents = self.decode_contents(\n\u001b[0;32m-> 1604\u001b[0;31m             \u001b[0mindent_contents\u001b[0m\u001b[0;34m,\u001b[0m \u001b[0meventual_encoding\u001b[0m\u001b[0;34m,\u001b[0m \u001b[0mformatter\u001b[0m\u001b[0;34m\u001b[0m\u001b[0;34m\u001b[0m\u001b[0m\n\u001b[0m\u001b[1;32m   1605\u001b[0m         )\n\u001b[1;32m   1606\u001b[0m \u001b[0;34m\u001b[0m\u001b[0m\n",
      "\u001b[0;31mRecursionError\u001b[0m: maximum recursion depth exceeded"
     ]
    }
   ],
   "source": [
    "dow30 = ['AAPL','AMGN','AXP','BA','CAT','CRM','CSCO','CVX','DIS','DOW','GS','HD','HON','IBM','INTC','JNJ','JPM','KO','MCD','MMM','MRK','MSFT','NKE','PG','TRV','UNH','V','VZ','WBA','WMT']\n",
    "#dow30 = ['AAPL','AMGN','AXP']\n",
    "companyk = []\n",
    "file_namek = []\n",
    "doc_typek = []\n",
    "file_datek = []\n",
    "contentk = []\n",
    "for x in dow30: # company loop\n",
    "    i = 0\n",
    "    currentDirectory = os.getcwd()\n",
    "    file_dir = currentDirectory + '/data/download/'\n",
    "    file_dir = file_dir + 'sec-edgar-filings/' + x + '/10-K/'\n",
    "    for name in os.listdir(file_dir): \n",
    "        if not name.startswith('.') and os.path.isfile(os.path.join(file_dir,name)+'/full-submission.txt'):\n",
    "            \n",
    "            if i >=2: # only get 2 10K files from each company\n",
    "                break\n",
    "            print(os.path.join(file_dir,name)+'/full-submission.txt')\n",
    "            item7 = parse_10k(os.path.join(file_dir,name)+'/full-submission.txt')\n",
    "            print(len(item7))\n",
    "            contentk.append(item7)\n",
    "            companyk.append(x)\n",
    "            file_namek.append(name)\n",
    "            doc_typek.append('10-K')\n",
    "            file_d = read_file_date(os.path.join(file_dir,name)+'/full-submission.txt')\n",
    "            file_datek.append(file_d)\n",
    "            i = i+1\n",
    "            print(i)"
   ]
  },
  {
   "cell_type": "code",
   "execution_count": null,
   "metadata": {},
   "outputs": [],
   "source": []
  },
  {
   "cell_type": "code",
   "execution_count": null,
   "metadata": {},
   "outputs": [],
   "source": []
  },
  {
   "cell_type": "code",
   "execution_count": null,
   "metadata": {},
   "outputs": [],
   "source": []
  },
  {
   "cell_type": "code",
   "execution_count": null,
   "metadata": {},
   "outputs": [],
   "source": []
  },
  {
   "cell_type": "code",
   "execution_count": null,
   "metadata": {},
   "outputs": [],
   "source": []
  },
  {
   "cell_type": "markdown",
   "metadata": {},
   "source": [
    "step by step testing"
   ]
  },
  {
   "cell_type": "code",
   "execution_count": 100,
   "metadata": {},
   "outputs": [],
   "source": [
    "filepath = '/Users/wailunchung/Documents/GitHub/DS6120_Capstone_A_dey_chung/data/download/sec-edgar-filings/CAT/10-K/0000018230-21-000063/full-submission.txt'\n"
   ]
  },
  {
   "cell_type": "code",
   "execution_count": 101,
   "metadata": {},
   "outputs": [],
   "source": [
    "f = open(filepath)\n",
    "raw_10k = f.read()"
   ]
  },
  {
   "cell_type": "code",
   "execution_count": 102,
   "metadata": {},
   "outputs": [],
   "source": [
    "import re\n",
    "# Regex to find <DOCUMENT> tags\n",
    "doc_start_pattern = re.compile(r'<DOCUMENT>')\n",
    "doc_end_pattern = re.compile(r'</DOCUMENT>')\n",
    "# Regex to find <TYPE> tag prceeding any characters, terminating at new line\n",
    "type_pattern = re.compile(r'<TYPE>[^\\n]+')\n",
    "doc_start_is = [x.end() for x in doc_start_pattern.finditer(raw_10k)]\n",
    "doc_end_is = [x.start() for x in doc_end_pattern.finditer(raw_10k)]"
   ]
  },
  {
   "cell_type": "code",
   "execution_count": 103,
   "metadata": {},
   "outputs": [],
   "source": [
    "doc_types = [x[len('<TYPE>'):] for x in type_pattern.findall(raw_10k)]"
   ]
  },
  {
   "cell_type": "code",
   "execution_count": 127,
   "metadata": {},
   "outputs": [
    {
     "name": "stdout",
     "output_type": "stream",
     "text": [
      "1106\n",
      "8444285\n",
      "14209841\n",
      "17674001\n"
     ]
    }
   ],
   "source": [
    "document = {}\n",
    "\n",
    "    # Create a loop to go through each section type and save only the 10-K section in the dictionary\n",
    "for doc_type, doc_start, doc_end in zip(doc_types, doc_start_is, doc_end_is):\n",
    "    if doc_type == '10-K':\n",
    "        print(doc_start)\n",
    "        print(doc_end)\n",
    "        #doc_10k = raw_10k[doc_start:doc_end].lower()\n",
    "        document[doc_type] = raw_10k[doc_start:doc_end].lower()"
   ]
  },
  {
   "cell_type": "code",
   "execution_count": 129,
   "metadata": {},
   "outputs": [
    {
     "data": {
      "text/plain": [
       "3464160"
      ]
     },
     "execution_count": 129,
     "metadata": {},
     "output_type": "execute_result"
    }
   ],
   "source": [
    "len(document['10-K'])"
   ]
  },
  {
   "cell_type": "code",
   "execution_count": 105,
   "metadata": {},
   "outputs": [],
   "source": [
    "doc_10k = BeautifulSoup(doc_10k, 'lxml')"
   ]
  },
  {
   "cell_type": "code",
   "execution_count": 112,
   "metadata": {},
   "outputs": [],
   "source": [
    "doc_10k = str(doc_10k)"
   ]
  },
  {
   "cell_type": "code",
   "execution_count": 111,
   "metadata": {},
   "outputs": [
    {
     "name": "stdout",
     "output_type": "stream",
     "text": [
      "5000\n"
     ]
    }
   ],
   "source": [
    "import sys\n",
    "print(sys.getrecursionlimit())\n",
    "sys.setrecursionlimit(10000)"
   ]
  },
  {
   "cell_type": "code",
   "execution_count": 131,
   "metadata": {},
   "outputs": [],
   "source": [
    "doc_10k = raw_10k[1106:8444285]"
   ]
  },
  {
   "cell_type": "code",
   "execution_count": 142,
   "metadata": {},
   "outputs": [],
   "source": [
    "i7 = \"discussion and analysis of financial condition and results of operations\"\n",
    "i7 = \"financial condition and results of operations\"\n",
    "sec7_find = re.finditer(i7, doc_10k)"
   ]
  },
  {
   "cell_type": "code",
   "execution_count": 143,
   "metadata": {},
   "outputs": [
    {
     "name": "stdout",
     "output_type": "stream",
     "text": [
      "1087998\n",
      "1132112\n"
     ]
    }
   ],
   "source": [
    "for x in sec7_find: \n",
    "    print(x.start())"
   ]
  },
  {
   "cell_type": "code",
   "execution_count": 145,
   "metadata": {},
   "outputs": [
    {
     "data": {
      "text/plain": [
       "'uding successfully integrating acquired businesses, could have an adverse effect on our business, financial condition and results of operations.&#160; Furthermore, we make strategic divestitures from time to time. In the case of divestitures, we may agree to indemnify acquiring parties for certain liabilities arising from our former businesses. These divestitures may also result in continued financial involvement in the divested businesses following the transaction, including through guarantees or other financial arrangements.&#160; Lower performance by those divested businesses could affect our future financial results.</span></div><div><span><br/></span></div><div><span style=\"color:#000000;font-family:\\'Times New Roman\\',sans-serif;font-size:10pt;font-weight:700;line-height:120%\">Union disputes or other labor matters could adversely affect our operations and financial results.</span></div><div><span style=\"color:#000000;font-family:\\'Times New Roman\\',sans-serif;font-size:10pt;font-weight:400;line-height:120%\">&#160;</span></div><div><span style=\"color:#000000;font-family:\\'Times New Roman\\',sans-serif;font-size:10pt;font-weight:400;line-height:120%\">Some of our employees are represented by labor unions in a number of countries under various collective bargaining agreements with varying durations and expiration dates.&#160; There can be no assurance that any current or future issues with our employees will be resolved or that we will not encounter future strikes, work stoppages or other disputes with labor unions or our employees.&#160; We may not be able to satisfactorily renegotiate collective bargaining agreements in the United States and other countries when they expire.&#160; If we fail to renegotiate our existing collective bargaining agreements, we could encounter strikes or work stoppages or other disputes with labor unions.&#160; In addition, existing collective bargaining agreements may not prevent a strike or work stoppage at our facilities in the future.&#160; We may also be subject to general country strikes or work stoppages unrelated to our business or collective bargaining agreements. A work stoppage or other limitations on production at our facilities for any reason could have an adverse effect on our business, results of operations and financial condition. In addition, many of our customers and suppliers have unionized work forces. Strikes or work stoppages experienced by our customers or suppliers could have an adverse effect on our business, results of operations and financial condition.</span></div><div><span><br/></span></div><div><span style=\"color:#000000;font-family:\\'Times New Roman\\',sans-serif;font-size:10pt;font-weight:700;line-height:120%\">Unexpected events may increase our cost of doing business or disrupt our operations.</span></div><div><span style=\"color:#000000;font-family:\\'Times New Roman\\',sans-serif;font-size:10pt;font-weight:400;line-height:120%\">&#160;</span></div><div><span style=\"color:#000000;font-family:\\'Times New Roman\\',sans-serif;font-size:10pt;font-weight:400;line-height:120%\">The occurrence of one or more unexpected events, including war, acts of terrorism or violence, civil unrest, fires, tornadoes, tsunamis, hurricanes, earthquakes, floods and other forms of severe weather in the United States or in other countries in which we operate or in which our suppliers are located could adversely affect our operations and financial performance.&#160; Natural disasters, pandemic illness, including the current COVID-19 outbreak, equipment failures, power outages or other unexpected events could result in physical damage to and complete or partial closure of one or more of our manufacturing facilities or distribution centers, temporary or long-term disruption in the supply of component products from some local and international suppliers, and disruption and delay in the transport of our products to dealers, end-users and distribution centers.&#160; Existing insurance coverage may not provide protection for all of the costs that may arise from such events.</span></div><div><span><br/></span></div><div><span style=\"color:#000000;font-family:\\'Times New Roman\\',sans-serif;font-size:10pt;font-weight:700;line-height:120%\">FINANCIAL RISKS</span></div><div><span><br/></span></div><div><span style=\"color:#000000;font-family:\\'Times New Roman\\',sans-serif;font-size:10pt;font-weight:700;line-height:120%\">Disruptions or volatility in global financial markets could limit our sources of liquidity, or the liquidity of our customers, dealers and suppliers.</span></div><div><span style=\"color:#000000;font-family:\\'Times New Roman\\',sans-serif;font-size:10pt;font-weight:400;line-height:120%\">&#160;</span></div><div><span style=\"color:#000000;font-family:\\'Times New Roman\\',sans-serif;font-size:10pt;font-weight:400;line-height:120%\">Continuing to meet our cash requirements over the long-term requires substantial liquidity and access to varied sources of funds, including capital and credit markets. Global economic conditions may cause volatility and disruptions in the capital and credit markets. Market volatility, changes in counterparty credit risk, the impact of government intervention in financial markets and general economic conditions may also adversely impact our ability to access capital and credit markets to fund operating needs.&#160; Global or regional economic downturns could cause financial markets to decrease the availability of liquidity, credit and credit capacity for certain issuers, including certain customers, dealers and suppliers. An inability to access capital and credit markets may have an adverse effect on our business, results of operations, financial condition and competitive position.  Furthermore, changes in global economic conditions, including material cost increases and decreases in economic activity in key markets we serve, and the success of plans to manage cost increases, inventory and other important elements of our business may significantly impact our ability to generate funds from operations.&#160;</span></div><div style=\"text-align:center\"><span style=\"color:#000000;font-family:\\'Times New Roman\\',sans-serif;font-size:10pt;font-weight:400;line-height:120%\">&#160;</span></div><div><span style=\"color:#000000;font-family:\\'Times New Roman\\',sans-serif;font-size:10pt;font-weight:400;line-height:120%\">In addition, demand for our products generally depends on customers&#8217; ability to pay for our products, which, in turn, depends on their access to funds. Changes in global economic conditions may result in customers experiencing increased difficulty in generating funds from operations. Capital and credit market volatility and uncertainty may cause financial institutions to revise their lending standards, resulting in customers&#8217; decreased access to capital. If capital and credit market volatility occurs, customers&#8217; liquidity may decline which, in turn, would reduce their ability to purchase our products.</span></div><div><span><br/></span></div><div style=\"height:42.75pt;position:relative;width:100%\"><div style=\"bottom:0;position:absolute;width:100%\"><div style=\"text-align:center\"><span style=\"color:#000000;font-family:\\'Times New Roman\\',sans-serif;font-size:10pt;font-weight:400;line-height:120%\">15</span></div></div></div><hr style=\"page-break-after:always\"/><div style=\"min-height:42.75pt;width:100%\"><div><span style=\"color:#0000ff;font-family:\\'Times New Roman\\',sans-serif;font-size:10pt;font-weight:400;line-height:120%;text-decoration:underline\"><a style=\"color:#0000ff;font-family:\\'Times New Roman\\',sans-serif;font-size:10pt;font-weight:400;line-height:120%;text-decoration:underline\" href=\"#if6412df6b19e4bea8ee4f990dd75a3de_7\">Table of Contents</a></span></div></div><div><span style=\"color:#000000;font-family:\\'Times New Roman\\',sans-serif;font-size:10pt;font-weight:700;line-height:120%\">Failure to maintain our credit ratings would increase our cost of borrowing and could adversely affect our cost of funds, liquidity, competitive position and access to capital markets.</span></div><div><span style=\"color:#000000;font-family:\\'Times New Roman\\',sans-serif;font-size:10pt;font-weight:400;line-height:120%\">&#160;</span></div><div><span style=\"color:#000000;font-family:\\'Times New Roman\\',sans-serif;font-size:10pt;font-weight:400;line-height:120%\">Each of Caterpillar&#8217;s and Cat Financial&#8217;s costs of borrowing and their respective ability to access the capital markets are affected not only by market conditions but also by the short- and long-term credit ratings assigned to their respective debt by the major credit rating agencies.&#160; These ratings are based, in significant part, on each of Caterpillar&#8217;s and Cat Financial&#8217;s performance as measured by financial metrics such as net worth, interest coverage and leverage ratios, as well as transparency with rating agencies and timeliness of financial reporting.&#160; There can be no assurance that Caterpillar and Cat Financial will be able to maintain their credit ratings.  We receive debt ratings from the major credit rating agencies.&#160; Moody&#8217;s </span></div><div><span style=\"color:#000000;font-family:\\'Times New Roman\\',sans-serif;font-size:10pt;font-weight:400;line-height:120%\">long- and short-term ratings of Caterpillar and Cat Financial are A3 and Prime-2 (&#8220;low-A&#8221;), while other major credit rating agencies maintain a &#8220;mid-A&#8221; debt rating.  A downgrade of our credit rating by any of the major credit rating agencies would result in increased borrowing costs and could adversely affect Caterpillar&#8217;s and Cat Financial&#8217;s liquidity, competitive position and access to the capital markets, including restricting, in whole or in part, access to the commercial paper market.&#160; There can be no assurance that the commercial paper market will continue to be a reliable source of short-term financing for Cat Financial or an available source of short-term financing for Caterpillar. An inability to access the capital markets could have an adverse effect on our cash flow, results of operations and financial condition.</span></div><div><span style=\"color:#000000;font-family:\\'Times New Roman\\',sans-serif;font-size:10pt;font-weight:400;line-height:120%\">&#160;</span></div><div><span style=\"color:#000000;font-family:\\'Times New Roman\\',sans-serif;font-size:10pt;font-weight:700;line-height:120%\">Our Financial Products segment is subject to risks associated with the financial services industry.</span></div><div><span style=\"color:#000000;font-family:\\'Times New Roman\\',sans-serif;font-size:10pt;font-weight:400;line-height:120%\">&#160;</span></div><div><span style=\"color:#000000;font-family:\\'Times New Roman\\',sans-serif;font-size:10pt;font-weight:400;line-height:120%\">Cat Financial is significant to our operations and provides financing support for a significant share of our global sales. The inability of Cat Financial to access funds to support its financing activities to our customers could have an adverse effect on our business, results of operations and financial condition.</span></div><div><span><br/></span></div><div><span style=\"color:#000000;font-family:\\'Times New Roman\\',sans-serif;font-size:10pt;font-weight:400;line-height:120%\">Continuing to meet Cat Financial\\'s cash requirements over the long-term could require substantial liquidity and access to sources of funds, including capital and credit markets. Cat Financial has continued to maintain access to key global medium term note and commercial paper markets, but there can be no assurance that such markets will continue to represent a reliable source of financing. If global economic conditions were to deteriorate, Cat Financial could face materially higher financing costs, become unable to access adequate funding to operate and grow its business and/or meet its debt service obligations as they mature, and be required to draw upon contractually committed lending agreements and/or seek other funding sources. However, there can be no assurance that such agreements and other funding sources would be available or sufficient under extreme market conditions.&#160; Any of these events could negatively impact Cat Financial&#8217;s business, as well as our and Cat Financial\\'s results of operations and financial condition. </span></div><div><span style=\"color:#000000;font-family:\\'Times New Roman\\',sans-serif;font-size:10pt;font-weight:400;line-height:120%\">&#160;</span></div><div><span style=\"color:#000000;font-family:\\'Times New Roman\\',sans-serif;font-size:10pt;font-weight:400;line-height:120%\">Market disruption and volatility may also lead to a number of other risks in connection with these events, including but not limited to:</span></div><div><span><br/></span></div><div style=\"padding-left:36pt;text-indent:-18pt\"><span style=\"color:#000000;font-family:\\'Times New Roman\\',sans-serif;font-size:10pt;font-weight:400;line-height:120%\">&#8226;</span><span style=\"color:#000000;font-family:\\'Times New Roman\\',sans-serif;font-size:10pt;font-weight:400;line-height:120%;padding-left:14.5pt\">Market developments that may affect customer confidence levels and cause declines in the demand for financing and adverse changes in payment patterns, causing increases in delinquencies and default rates, which could impact Cat Financial&#8217;s write-offs and provision for credit losses.</span></div><div><span><br/></span></div><div style=\"padding-left:36pt;text-indent:-18pt\"><span style=\"color:#000000;font-family:\\'Times New Roman\\',sans-serif;font-size:10pt;font-weight:400;line-height:120%\">&#8226;</span><span style=\"color:#000000;font-family:\\'Times New Roman\\',sans-serif;font-size:10pt;font-weight:400;line-height:120%;padding-left:14.5pt\">The process Cat Financial uses to estimate losses inherent in its credit exposure requires a high degree of management&#8217;s judgment regarding numerous subjective qualitative factors, including forecasts of economic conditions and how economic predictors might impair the ability of its borrowers to repay their loans.&#160; Financial market disruption and volatility may impact the accuracy of these judgments.</span></div><div><span><br/></span></div><div style=\"padding-left:36pt;text-indent:-18pt\"><span style=\"color:#000000;font-family:\\'Times New Roman\\',sans-serif;font-size:10pt;font-weight:400;line-height:120%\">&#8226;</span><span style=\"color:#000000;font-family:\\'Times New Roman\\',sans-serif;font-size:10pt;font-weight:400;line-height:120%;padding-left:14.5pt\">Cat Financial&#8217;s ability to engage in routine funding transactions or borrow from other financial institutions on acceptable terms or at all could be adversely affected by disruptions in the capital markets or other events, including actions by rating agencies and deteriorating investor expectations.</span></div><div><span><br/></span></div><div style=\"padding-left:36pt;text-indent:-18pt\"><span style=\"color:#000000;font-family:\\'Times New Roman\\',sans-serif;font-size:10pt;font-weight:400;line-height:120%\">&#8226;</span><span style=\"color:#000000;font-family:\\'Times New Roman\\',sans-serif;font-size:10pt;font-weight:400;line-height:120%;padding-left:14.5pt\">As Cat Financial&#8217;s lending agreements are primarily with financial institutions, their ability to perform in accordance with any of its underlying agreements could be adversely affected by market volatility and/or disruptions in financial markets.</span></div><div style=\"height:42.75pt;position:relative;width:100%\"><div style=\"bottom:0;position:absolute;width:100%\"><div style=\"text-align:center\"><span style=\"color:#000000;font-family:\\'Times New Roman\\',sans-serif;font-size:10pt;font-weight:400;line-height:120%\">16</span></div></div></div><hr style=\"page-break-after:always\"/><div style=\"min-height:42.75pt;width:100%\"><div><span style=\"color:#0000ff;font-family:\\'Times New Roman\\',sans-serif;font-size:10pt;font-weight:400;line-height:120%;text-decoration:underline\"><a style=\"color:#0000ff;font-family:\\'Times New Roman\\',sans-serif;font-size:10pt;font-weight:400;line-height:120%;text-decoration:underline\" href=\"#if6412df6b19e4bea8ee4f990dd75a3de_7\">Table of Contents</a></span></div></div><div><span style=\"color:#000000;font-family:\\'Times New Roman\\',sans-serif;font-size:10pt;font-weight:700;line-height:120%\">Changes in interest rates or market liquidity conditions could adversely affect Cat Financial\\'s and our earnings and/or cash flow.</span></div><div><span style=\"color:#000000;font-family:\\'Times New Roman\\',sans-serif;font-size:10pt;font-weight:400;line-height:115%\">Changes in interest rates and market liquidity conditions could have an adverse impact on Cat Financial\\'s and our earnings and cash flows. Because a significant number of the loans made by Cat Financial are made at fixed interest rates, its business results are subject to fluctuations in interest rates. Certain loans made by Cat Financial and various financing extended to Cat Financial are made at variable rates that use LIBOR as a benchmark for establishing the interest rate.&#160; LIBOR is the subject of recent proposals for reform.&#160; On July 27, 2017, the United Kingdom&#8217;s Financial Conduct Authority (\"FCA\")  announced that it intends to stop persuading or compelling banks to submit LIBOR rates after 2021.&#160; On November 18, 2020, ICE Benchmark Administration (\"IBA\"), the administrator of USD LIBOR, announced plans to consult on its intention to cease the publication of all GBP, EUR, CHF and JPY LIBOR settings immediately following the LIBOR publication on December 31, 2021. On November 30, 2020, IBA, with the support of the United States Federal Reserve and the FCA, announced plans to consult on ceasing publication of USD LIBOR on December 31, 2021 for only the one week and two month USD LIBOR tenors, and on June 30, 2023 for all other USD LIBOR tenors.  While the November 30th announcement extends the transition period to June 2023, the United States Federal Reserve concurrently issued a statement advising banks to stop new USD LIBOR issuances by the end of 2021. These reforms may cause LIBOR to cease to exist, new methods of calculating LIBOR to be established such that LIBOR continues to exist after 2021 or the establishment of an alternative reference rate(s).&#160; Several offerings of securities that include such an alternative reference rate have now been completed by other companies. The consequences of these developments cannot be entirely predicted and could have an adverse impact on the market value for or value of LIBOR-linked securities, loans, derivatives, and other financial obligations or extensions of credit held by or due to Cat Financial, as well as the revenue and expenses associated with those securities, loans and financial instruments. Cat Financial has created a cross-functional team that will assess risk across multiple categories as it relates to the use of LIBOR in securities, loans, derivatives, and other financial obligations or extensions of credit held by or due to us. Other changes in market interest rates may influence Cat Financial&#8217;s  borrowing costs and could reduce its and our earnings and cash flows, returns on financial investments and the valuation of derivative contracts. Cat Financial manages interest rate and market liquidity risks through a variety of techniques that include a match funding strategy, the selective use of derivatives and a broadly diversified funding program. There can be no assurance, however, that fluctuations in interest rates and market liquidity conditions will not have an adverse impact on its and our earnings and cash flows. If any of the variety of instruments and strategies Cat Financial uses to hedge its exposure to these types of risk is ineffective, this may have an adverse impact on our earnings and cash flows.&#160; With respect to Insurance Services\\' investment activities, changes in the equity and bond markets could result in a decline in value of its investment portfolio, resulting in an unfavorable impact to earnings. </span></div><div><span><br/></span></div><div><span style=\"color:#000000;font-family:\\'Times New Roman\\',sans-serif;font-size:10pt;font-weight:700;line-height:120%\">An increase in delinquencies, repossessions or net losses of Cat Financial customers could adversely affect its results.</span></div><div><span style=\"color:#000000;font-family:\\'Times New Roman\\',sans-serif;font-size:10pt;font-weight:400;line-height:120%\">&#160;</span></div><div><span style=\"color:#000000;font-family:\\'Times New Roman\\',sans-serif;font-size:10pt;font-weight:400;line-height:120%\">Inherent in the operation of Cat Financial is the credit risk associated with its customers. The creditworthiness of each customer and the rate of delinquencies, repossessions and net losses on customer obligations are directly impacted by several factors, including relevant industry and economic conditions, the availability of capital, the experience and expertise of the customer\\'s management team, commodity prices, political events and the sustained value of the underlying collateral. Any increase in delinquencies, repossessions and net losses on customer obligations could have a material adverse effect on Cat Financial\\'s and our earnings and cash flows. In addition, although Cat Financial evaluates and adjusts its allowance for credit losses related to past due and non-performing receivables on a regular basis, adverse economic conditions or other factors that might cause deterioration of the financial health of its customers could change the timing and level of payments received and necessitate an increase in Cat Financial\\'s estimated losses, which could also have a material adverse effect on Cat Financial\\'s and our earnings and cash flows.</span></div><div><span><br/></span></div><div><span style=\"color:#000000;font-family:\\'Times New Roman\\',sans-serif;font-size:10pt;font-weight:700;line-height:120%\">Currency exchange rate fluctuations affect our results of operations.</span></div><div><span style=\"color:#000000;font-family:\\'Times New Roman\\',sans-serif;font-size:10pt;font-weight:400;line-height:120%\">&#160;</span></div><div><span style=\"color:#000000;font-family:\\'Times New Roman\\',sans-serif;font-size:10pt;font-weight:400;line-height:120%\">We conduct operations in many countries involving transactions denominated in a variety of currencies.&#160; We are subject to currency exchange rate risk to the extent that our costs are denominated in currencies other than those in which we earn revenues.&#160; Fluctuations in currency exchange rates have had, and will continue to have, an impact on our results as expressed in U.S. dollars.&#160; There can be no assurance that currency exchange rate fluctuations will not adversely affect our results of operations, financial condition and cash flows. While the use of currency hedging instruments may provide us with protection from adverse fluctuations in currency exchange rates, by utilizing these instruments we potentially forego the benefits that might result from favorable fluctuations in currency exchange rates. In addition, our outlooks do not assume fluctuations in currency exchange rates. Adverse fluctuations in currency exchange rates from the date of our outlooks could cause our actual results to differ materially from those anticipated in our outlooks and adversely impact our business, results of operations and financial condition. </span></div><div><span style=\"color:#000000;font-family:\\'Times New Roman\\',sans-serif;font-size:10pt;font-weight:400;line-height:120%\">&#160;</span></div><div style=\"height:42.75pt;position:relative;width:100%\"><div style=\"bottom:0;position:absolute;width:100%\"><div style=\"text-align:center\"><span style=\"color:#000000;font-family:\\'Times New Roman\\',sans-serif;font-size:10pt;font-weight:400;line-height:120%\">17</span></div></div></div><hr style=\"page-break-after:always\"/><div style=\"min-height:42.75pt;width:100%\"><div><span style=\"color:#0000ff;font-family:\\'Times New Roman\\',sans-serif;font-size:10pt;font-weight:400;line-height:120%;text-decoration:underline\"><a style=\"color:#0000ff;font-family:\\'Times New Roman\\',sans-serif;font-size:10pt;font-weight:400;line-height:120%;text-decoration:underline\" href=\"#if6412df6b19e4bea8ee4f990dd75a3de_7\">Table of Contents</a></span></div></div><div><span style=\"color:#000000;font-family:\\'Times New Roman\\',sans-serif;font-size:10pt;font-weight:400;line-height:120%\">We also face risks arising from the imposition of exchange controls and currency devaluations. Exchange controls may limit our ability to convert foreign currencies into U.S. dollars or to remit dividends and other payments by our foreign subsidiaries or businesses located in or conducted within a country imposing controls. Currency devaluations result in a diminished value of funds denominated in the currency of the country instituting the devaluation.</span></div><div><span style=\"color:#000000;font-family:\\'Times New Roman\\',sans-serif;font-size:10pt;font-weight:400;line-height:120%\">&#160;</span></div><div><span style=\"color:#000000;font-family:\\'Times New Roman\\',sans-serif;font-size:10pt;font-weight:700;line-height:120%\">Restrictive covenants in our debt agreements could limit our financial and operating flexibility.</span></div><div><span style=\"color:#000000;font-family:\\'Times New Roman\\',sans-serif;font-size:10pt;font-weight:400;line-height:120%\">&#160;</span></div><div><span style=\"color:#000000;font-family:\\'Times New Roman\\',sans-serif;font-size:10pt;font-weight:400;line-height:120%\">We maintain a number of credit facilities to support general corporate purposes (facilities) and have issued debt securities to manage liquidity and fund operations (debt securities).&#160; The agreements relating to a number of the facilities and the debt securities contain certain restrictive covenants applicable to us and certain subsidiaries, including Cat Financial.&#160; These covenants include maintaining a minimum consolidated net worth (defined as the consolidated shareholder&#8217;s equity including preferred stock but excluding the pension and other post-retirement benefits balance within accumulated other comprehensive income (loss)), limitations on the incurrence of liens and certain restrictions on consolidation and merger. Cat Financial has also agreed under certain of these agreements not to exceed a certain leverage ratio (consolidated debt to consolidated net worth, calculated (1)&#160;on a monthly basis as the average of the leverage ratios determined on the last day of each of the six preceding calendar months and (2)&#160;at each December&#160;31), to maintain a minimum interest coverage ratio (profit excluding income taxes, interest expense and net gain/(loss) from interest rate derivatives to interest expense, calculated at the end of each calendar quarter for the rolling four quarter period then most recently ended) and not to terminate, amend or modify its support agreement with us.</span></div><div><span style=\"color:#000000;font-family:\\'Times New Roman\\',sans-serif;font-size:10pt;font-weight:400;line-height:120%\">&#160;</span></div><div><span style=\"color:#000000;font-family:\\'Times New Roman\\',sans-serif;font-size:10pt;font-weight:400;line-height:120%\">A breach of one or more of the covenants could result in adverse consequences that could negatively impact our business, results of operations and financial condition. These consequences may include the acceleration of amounts outstanding under certain of the facilities, triggering of an obligation to redeem certain debt securities, termination of existing unused commitments by our lenders, refusal by our lenders to extend further credit under one or more of the facilities or to enter into new facilities or the lowering or modification of our credit ratings or those of one or more of our subsidiaries.</span></div><div><span style=\"color:#000000;font-family:\\'Times New Roman\\',sans-serif;font-size:10pt;font-weight:400;line-height:120%\">&#160;</span></div><div><span style=\"color:#000000;font-family:\\'Times New Roman\\',sans-serif;font-size:10pt;font-weight:700;line-height:120%\">Sustained increases in funding obligations under our pension plans may impair our liquidity or financial condition.</span></div><div><span style=\"color:#000000;font-family:\\'Times New Roman\\',sans-serif;font-size:10pt;font-weight:400;line-height:120%\">&#160;</span></div><div><span style=\"color:#000000;font-family:\\'Times New Roman\\',sans-serif;font-size:10pt;font-weight:400;line-height:120%\">We maintain certain defined benefit pension plans for our employees, which impose on us certain funding obligations. In determining our future payment obligations under the plans, we assume certain rates of return on the plan assets and a certain level of future benefit payments.  Significant adverse changes in credit or capital markets could result in actual rates of return being materially lower than projected and result in increased contribution requirements.&#160; Our assumptions for future benefit payments may also change over time and could be materially higher than originally projected. We expect to make contributions to our pension plans in the future, and may be required to make contributions that could be material.&#160; We may fund contributions through the use of cash on hand, the proceeds of borrowings, shares of our common stock or a combination of the foregoing, as permitted by applicable law.  Our assumptions for future benefit payments may change over time and could be materially higher than projected.&#160; These factors could significantly increase our payment obligations under the plans, and as a result, adversely affect our business and overall financial condition.</span></div><div><span><br/></span></div><div><span style=\"color:#000000;font-family:\\'Times New Roman\\',sans-serif;font-size:10pt;font-weight:700;line-height:120%\">LEGAL &amp; REGULATORY RISKS</span></div><div><span><br/></span></div><div><span style=\"color:#000000;font-family:\\'Times New Roman\\',sans-serif;font-size:10pt;font-weight:700;line-height:120%\">Our global operations are subject to a wide-range of trade and anti-corruption laws and regulations.</span></div><div><span style=\"color:#000000;font-family:\\'Times New Roman\\',sans-serif;font-size:10pt;font-weight:400;line-height:120%\">&#160;</span></div><div><span style=\"color:#000000;font-family:\\'Times New Roman\\',sans-serif;font-size:10pt;font-weight:400;line-height:120%\">Due to the international scope of our operations, we are subject to a complex system of import- and export-related laws and regulations, including U.S. regulations issued by Customs and Border Protection, the Bureau of Industry and Security, the Office of Antiboycott Compliance, the Directorate of Defense Trade Controls and the Office of Foreign Assets Control, as well as the counterparts of these agencies in other countries.&#160; Any alleged or actual violations may subject us to increased government scrutiny, investigation and civil and criminal penalties, and may limit our ability to import or export our products or to provide services outside the United States.&#160; Furthermore, embargoes and sanctions imposed by the U.S. and other governments restricting or prohibiting sales to specific persons or countries or based on product classification may expose us to potential criminal and civil sanctions. We cannot predict the nature, scope or effect of future regulatory requirements to which our operations might be subject or in certain locations the manner in which existing laws might be administered or interpreted.</span></div><div><span style=\"color:#000000;font-family:\\'Times New Roman\\',sans-serif;font-size:10pt;font-weight:400;line-height:120%\">&#160;</span></div><div style=\"height:42.75pt;position:relative;width:100%\"><div style=\"bottom:0;position:absolute;width:100%\"><div style=\"text-align:center\"><span style=\"color:#000000;font-family:\\'Times New Roman\\',sans-serif;font-size:10pt;font-weight:400;line-height:120%\">18</span></div></div></div><hr style=\"page-break-after:always\"/><div style=\"min-height:42.75pt;width:100%\"><div><span style=\"color:#0000ff;font-family:\\'Times New Roman\\',sans-serif;font-size:10pt;font-weight:400;line-height:120%;text-decoration:underline\"><a style=\"color:#0000ff;font-family:\\'Times New Roman\\',sans-serif;font-size:10pt;font-weight:400;line-height:120%;text-decoration:underline\" href=\"#if6412df6b19e4bea8ee4f990dd75a3de_7\">Table of Contents</a></span></div></div><div><span style=\"color:#000000;font-family:\\'Times New Roman\\',sans-serif;font-size:10pt;font-weight:400;line-height:120%\">In addition, the U.S. Foreign Corrupt Practices Act and similar foreign anti-corruption laws generally prohibit companies and their intermediaries from making improper payments or providing anything of value to improperly influence foreign government officials for the purpose of obtaining or retaining business, or obtaining an unfair advantage. Recent years have seen a substantial increase in the global enforcement of anti-corruption laws.&#160; Our operations outside the United States, including in developing countries, expose us to the risk of such violations.  Violations of anti-corruption laws or regulations by our employees, intermediaries acting on our behalf, or our joint venture partners may result in severe criminal or civil sanctions, could disrupt our business, and result in an adverse effect on our reputation, business and results of operations or financial condition.</span></div><div><span><br/></span></div><div><span style=\"color:#000000;font-family:\\'Times New Roman\\',sans-serif;font-size:10pt;font-weight:700;line-height:120%\">International trade policies may impact demand for our products and our competitive position.</span></div><div><span style=\"color:#000000;font-family:\\'Times New Roman\\',sans-serif;font-size:10pt;font-weight:400;line-height:120%\">&#160;</span></div><div><span style=\"color:#000000;font-family:\\'Times New Roman\\',sans-serif;font-size:10pt;font-weight:400;line-height:120%\">Government policies on international trade and investment such as import quotas, capital controls or tariffs, whether adopted by individual governments or addressed by regional trade blocs, can affect the demand for our products and services, impact the competitive position of our products or prevent us from being able to sell products in certain countries.&#160; The implementation of more restrictive trade policies, such as more detailed inspections, higher tariffs or new barriers to entry, in countries where we sell large quantities of products and services could negatively impact our business, results of operations and financial condition.&#160; For example, a government&#8217;s adoption of &#8220;buy national&#8221; policies or retaliation by another government against such policies could have a negative impact on our results of operations.</span></div><div><span><br/></span></div><div><span style=\"color:#000000;font-family:\\'Times New Roman\\',sans-serif;font-size:10pt;font-weight:700;line-height:120%\">We may incur additional tax expense or become subject to additional tax exposure.</span></div><div><span style=\"color:#000000;font-family:\\'Times New Roman\\',sans-serif;font-size:10pt;font-weight:400;line-height:120%\">&#160;</span></div><div><span style=\"color:#000000;font-family:\\'Times New Roman\\',sans-serif;font-size:10pt;font-weight:400;line-height:120%\">We are subject to income taxes in the United States and numerous other jurisdictions. Our future results of operations could be adversely affected by changes in the effective tax rate as a result of a change in the mix of earnings between U.S. and non-U.S. jurisdictions or among jurisdictions with differing statutory tax rates, changes in our overall profitability, changes in tax laws or treaties or in their application or interpretation, changes in tax rates, changes in generally accepted accounting principles, changes in the valuation of deferred tax assets and liabilities, changes in the amount of earnings indefinitely reinvested in certain non-U.S. jurisdictions, the results of audits and examinations of previously filed tax returns and continuing assessments of our tax exposures. We are also subject to the continuous examination of our income tax returns by the U.S. Internal Revenue Service and other tax authorities. We regularly assess the likelihood of an adverse outcome resulting from these examinations. If our effective tax rates were to increase, or if the ultimate determination of our taxes owed is for an amount in excess of amounts previously accrued, our operating results, cash flows and financial condition could be adversely affected. For information regarding additional legal matters related to our taxes, please see Note 6 &#8212; &#8220;Income taxes&#8221; and Note 22 &#8212; &#8220;Environmental and legal matters&#8221; of Part II, Item 8 &#8220;Financial Statements and Supplementary Data&#8221; to this Annual Report on Form 10-K</span><span style=\"color:#1f497d;font-family:\\'Times New Roman\\',sans-serif;font-size:10pt;font-weight:400;line-height:120%\">. </span></div><div><span><br/></span></div><div><span style=\"color:#000000;font-family:\\'Times New Roman\\',sans-serif;font-size:10pt;font-weight:700;line-height:120%\">Costs associated with lawsuits or investigations or adverse rulings in enforcement or other legal proceedings may have an adverse effect on our results of operations.</span></div><div><span style=\"color:#000000;font-family:\\'Times New Roman\\',sans-serif;font-size:10pt;font-weight:400;line-height:120%\">&#160;</span></div><div><span style=\"color:#000000;font-family:\\'Times New Roman\\',sans-serif;font-size:10pt;font-weight:400;line-height:120%\">We are subject to a variety of legal proceedings and legal compliance risks in virtually every part of the world. We face risk of exposure to various types of claims, lawsuits and government investigations. We are involved in various claims and lawsuits related to product design, manufacture and performance liability (including claimed asbestos exposure), contracts, employment issues, environmental matters, intellectual property rights, tax, securities and other legal proceedings that arise in and outside of the ordinary course of our business.&#160; The industries in which we operate are also periodically reviewed or investigated by regulators, which could lead to enforcement actions, fines and penalties or the assertion of private litigation claims.&#160; It is not possible to predict with certainty the outcome of claims, investigations and lawsuits, and we could in the future incur judgments, fines or penalties or enter into settlements of lawsuits and claims that could have an adverse effect on our reputation, business, results of operations or financial condition in any particular period.&#160;</span></div><div><span><br/></span></div><div><span style=\"color:#000000;font-family:\\'Times New Roman\\',sans-serif;font-size:10pt;font-weight:400;line-height:120%\">The global and diverse nature of our operations means that legal and compliance risks will continue to exist and additional legal proceedings and other contingencies, the outcome of which cannot be predicted with certainty, may arise from time to time. In addition, subsequent developments in legal proceedings may affect our assessment and estimates of loss contingencies recorded as a reserve and require us to make payments in excess of our reserves, which could have an adverse effect on our reputation, business and results of operations or financial condition.</span></div><div><span><br/></span></div><div style=\"height:42.75pt;position:relative;width:100%\"><div style=\"bottom:0;position:absolute;width:100%\"><div style=\"text-align:center\"><span style=\"color:#000000;font-family:\\'Times New Roman\\',sans-serif;font-size:10pt;font-weight:400;line-height:120%\">19</span></div></div></div><hr style=\"page-break-after:always\"/><div style=\"min-height:42.75pt;width:100%\"><div><span style=\"color:#0000ff;font-family:\\'Times New Roman\\',sans-serif;font-size:10pt;font-weight:400;line-height:120%;text-decoration:underline\"><a style=\"color:#0000ff;font-family:\\'Times New Roman\\',sans-serif;font-size:10pt;font-weight:400;line-height:120%;text-decoration:underline\" href=\"#if6412df6b19e4bea8ee4f990dd75a3de_7\">Table of Contents</a></span></div></div><div><span style=\"color:#000000;font-family:\\'Times New Roman\\',sans-serif;font-size:10pt;font-weight:700;line-height:120%\">New regulations or changes in financial services regulation could adversely impact Caterpillar and Cat Financial.</span></div><div><span style=\"color:#000000;font-family:\\'Times New Roman\\',sans-serif;font-size:10pt;font-weight:400;line-height:120%\">&#160;</span></div><div><span style=\"color:#000000;font-family:\\'Times New Roman\\',sans-serif;font-size:10pt;font-weight:400;line-height:120%\">Cat Financial&#8217;s operations are highly regulated by governmental authorities in the locations where it operates, which can impose significant additional costs and/or restrictions on its business. In the United States, for example, certain Cat Financial activities are subject to the U.S. Dodd-Frank Wall Street Reform and Consumer Protection Act (Dodd-Frank), which includes extensive provisions regulating the financial services industry. As a result, Cat Financial has become and could continue to become subject to additional regulatory costs that could be significant</span><span style=\"color:#000000;font-family:\\'Times New Roman\\',sans-serif;font-size:11pt;font-weight:400;line-height:120%\"> </span><span style=\"color:#000000;font-family:\\'Times New Roman\\',sans-serif;font-size:10pt;font-weight:400;line-height:120%\">and have an adverse effect on Cat Financial</span><span style=\"color:#000000;font-family:\\'Times New Roman\\',sans-serif;font-size:11pt;font-weight:400;line-height:120%\">&#8217;</span><span style=\"color:#000000;font-family:\\'Times New Roman\\',sans-serif;font-size:10pt;font-weight:400;line-height:120%\">s and our results of operations and financial condition. Changes in regulations or additional regulations in the United States or internationally impacting the financial services industry could also add significant cost or operational constraints that might have an adverse effect on Cat Financial</span><span style=\"color:#000000;font-family:\\'Times New Roman\\',sans-serif;font-size:11pt;font-weight:400;line-height:120%\">&#8217;</span><span style=\"color:#000000;font-family:\\'Times New Roman\\',sans-serif;font-size:10pt;font-weight:400;line-height:120%\">s and our results of operations and financial condition. </span></div><div><span><br/></span></div><div><span style=\"color:#000000;font-family:\\'Times New Roman\\',sans-serif;font-size:10pt;font-weight:700;line-height:120%\">We are subject to stringent environmental laws and regulations that impose significant compliance costs.</span></div><div><span style=\"color:#000000;font-family:\\'Times New Roman\\',sans-serif;font-size:10pt;font-weight:400;line-height:120%\">&#160;</span></div><div><span style=\"color:#000000;font-family:\\'Times New Roman\\',sans-serif;font-size:10pt;font-weight:400;line-height:120%\">Our facilities, operations and products are subject to increasingly stringent environmental laws and regulations globally, including laws and regulations governing emissions to noise, air, releases to soil and discharges to water and the generation, handling, storage, transportation, treatment and disposal of non-hazardous and hazardous waste materials. Some environmental laws impose strict, retroactive and joint and several liability for the remediation of the release of hazardous substances, even for conduct that was lawful at the time it occurred, or for the conduct of, or conditions caused by, prior operators, predecessors or other third parties. Failure to comply with environmental laws could expose us to penalties or clean-up costs, civil or criminal liability and sanctions on certain of our activities, as well as damage to property or natural resources. The potential liabilities, sanctions, damages and remediation efforts related to any non-compliance with such laws and regulations could negatively impact our ability to conduct our operations and our '"
      ]
     },
     "execution_count": 145,
     "metadata": {},
     "output_type": "execute_result"
    }
   ],
   "source": [
    "doc_10k[1087900:1132112]"
   ]
  },
  {
   "cell_type": "code",
   "execution_count": 133,
   "metadata": {},
   "outputs": [],
   "source": [
    "#i7 = 'management&#8217;s discussion and analysis of financial condition and results of operations'\n",
    "i7 = \"management’s discussion and analysis of financial condition and results of operations\"\n",
    "sec7_find = re.finditer(i7, doc_10k)\n",
    "i7a = 'quantitative and qualitative disclosures about market risk' \n",
    "sec7a_find = re.finditer(i7a, doc_10k)\n",
    "    \n",
    "# moving keyword range to dataframe\n",
    "sec7_start_range = []\n",
    "sec7_end_range = []\n",
    "for x in sec7_find: \n",
    "    print(x.start())\n",
    "    print(x.end())\n",
    "    sec7_start_range.append(x.start())\n",
    "    sec7_end_range.append(x.end())\n",
    "    sec7_df = pd.DataFrame({'start': sec7_start_range,'end': sec7_end_range})\n",
    "sec7a_start_range = []\n",
    "sec7a_end_range = []    \n",
    "for x in sec7a_find: \n",
    "    print(x.start())\n",
    "    print(x.end())\n",
    "    sec7a_start_range.append(x.start())\n",
    "    sec7a_end_range.append(x.end())\n",
    "    sec7a_df = pd.DataFrame({'start': sec7a_start_range,'end': sec7a_end_range})\n",
    "    \n",
    "#qc check\n",
    "#for index, row in sec7_df.iterrows():\n",
    "#    print(row['start'], row['end'])\n",
    "#    print('7aaaa')\n",
    "    #for index, row in sec7a_df.iterrows():\n",
    "    #    print(row['start'], row['end'])\n"
   ]
  },
  {
   "cell_type": "code",
   "execution_count": 114,
   "metadata": {},
   "outputs": [],
   "source": [
    "    \n",
    "# get possible ranges \n",
    "possible_start_range = []\n",
    "possible_end_range = []\n",
    "for index, row7a in sec7a_df.iterrows():\n",
    "    filtered = []\n",
    "    for i, row7 in sec7_df.iterrows():\n",
    "        if row7['end'] < row7a['start']:\n",
    "            filtered.append(row7['end'])\n",
    "    #print(filtered)\n",
    "    max_y = max(filtered)\n",
    "    possible_start_range.append(max_y)\n",
    "    possible_end_range.append(row7a['start']-1)\n",
    "    \n",
    "    # qc \n",
    "    #for x in possible_start_range:\n",
    "    #    print(x)\n",
    "    \n",
    "    # get the largest possible range\n",
    "possible_df = pd.DataFrame({'start': possible_start_range,'end': possible_end_range})\n",
    "possible_df['delta'] = possible_df['end'] - possible_df['start']\n",
    "    \n",
    "possible_df = possible_df.loc[possible_df['delta'].idxmax()]\n"
   ]
  },
  {
   "cell_type": "code",
   "execution_count": 115,
   "metadata": {},
   "outputs": [
    {
     "data": {
      "text/plain": [
       "start    45884\n",
       "end      46460\n",
       "delta      576\n",
       "Name: 0, dtype: int64"
      ]
     },
     "execution_count": 115,
     "metadata": {},
     "output_type": "execute_result"
    }
   ],
   "source": [
    "possible_df"
   ]
  },
  {
   "cell_type": "code",
   "execution_count": 116,
   "metadata": {},
   "outputs": [],
   "source": [
    "item_7_content = doc_10k[possible_df['start']:possible_df['end']]\n",
    "sss = preprocess(item_7_content)\n",
    "bagOfWordsA = sss.split(' ')"
   ]
  },
  {
   "cell_type": "code",
   "execution_count": 117,
   "metadata": {},
   "outputs": [
    {
     "data": {
      "text/plain": [
       "['amp',\n",
       " 'vgp',\n",
       " 'amp',\n",
       " 'jmo',\n",
       " 'xouqw',\n",
       " 'cqgi',\n",
       " 'amp',\n",
       " 'hwb',\n",
       " 'amp',\n",
       " 'ebedj',\n",
       " 'hly',\n",
       " 'mfdh',\n",
       " 'amp',\n",
       " 'ipftsh',\n",
       " 'yck',\n",
       " 'ynn',\n",
       " 'yphbtxx',\n",
       " 'tksj',\n",
       " 'lgf',\n",
       " 'gwonu',\n",
       " 'amp',\n",
       " 'mwekkacmz',\n",
       " 'amp',\n",
       " 'naibt',\n",
       " 'kkf',\n",
       " 'bizxh',\n",
       " 'amp']"
      ]
     },
     "execution_count": 117,
     "metadata": {},
     "output_type": "execute_result"
    }
   ],
   "source": [
    "bagOfWordsA"
   ]
  },
  {
   "cell_type": "code",
   "execution_count": null,
   "metadata": {},
   "outputs": [],
   "source": []
  }
 ],
 "metadata": {
  "kernelspec": {
   "display_name": "Python 3.7.3 64-bit ('3.7.3': pyenv)",
   "language": "python",
   "name": "python37364bit373pyenv2732a8268b3e4c21a7f9024113089ae8"
  },
  "language_info": {
   "codemirror_mode": {
    "name": "ipython",
    "version": 3
   },
   "file_extension": ".py",
   "mimetype": "text/x-python",
   "name": "python",
   "nbconvert_exporter": "python",
   "pygments_lexer": "ipython3",
   "version": "3.7.3"
  }
 },
 "nbformat": 4,
 "nbformat_minor": 4
}

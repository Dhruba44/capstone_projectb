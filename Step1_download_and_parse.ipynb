{
 "cells": [
  {
   "cell_type": "markdown",
   "metadata": {},
   "source": [
    "Download SEC filing data"
   ]
  },
  {
   "cell_type": "code",
   "execution_count": 1,
   "metadata": {},
   "outputs": [],
   "source": [
    "from sec_edgar_downloader import Downloader\n",
    "import os\n",
    "import pandas as pd\n",
    "from bs4 import BeautifulSoup"
   ]
  },
  {
   "cell_type": "code",
   "execution_count": null,
   "metadata": {},
   "outputs": [],
   "source": [
    "# Initialize a downloader instance. If no argument is passed\n",
    "# to the constructor, the package will download filings to\n",
    "# the current working directory.\n",
    "\n",
    "# dl = Downloader(\"/path/to/valid/save/location\")\n",
    "\n",
    "currentDirectory = os.getcwd()\n",
    "print(currentDirectory)\n",
    "dl = Downloader(currentDirectory + '/data/download/')"
   ]
  },
  {
   "cell_type": "markdown",
   "metadata": {},
   "source": [
    "Download dow30 10-K 10-Q"
   ]
  },
  {
   "cell_type": "code",
   "execution_count": null,
   "metadata": {},
   "outputs": [],
   "source": [
    "dow30 = ['AAPL','AMGN','AXP','BA','CAT','CRM','CSCO','CVX','DIS','DOW','GS','HD','HON','IBM','INTC','JNJ','JPM','KO','MCD','MMM','MRK','MSFT','NKE','PG','TRV','UNH','V','VZ','WBA','WMT']\n",
    "for x in dow30:\n",
    "    dl.get(\"10-Q\",x,amount=6)\n",
    "    dl.get(\"10-K\",x,amount=5)"
   ]
  },
  {
   "cell_type": "markdown",
   "metadata": {},
   "source": [
    "Functions to parse report"
   ]
  },
  {
   "cell_type": "code",
   "execution_count": 2,
   "metadata": {},
   "outputs": [],
   "source": [
    "import nltk\n",
    "from nltk.tokenize import RegexpTokenizer\n",
    "from nltk.stem import WordNetLemmatizer,PorterStemmer\n",
    "from nltk.corpus import stopwords\n",
    "import re\n",
    "lemmatizer = WordNetLemmatizer()\n",
    "stemmer = PorterStemmer() \n",
    "\n",
    "def preprocess(sentence):\n",
    "    sentence=str(sentence)\n",
    "    sentence = sentence.lower()\n",
    "    sentence=sentence.replace('{html}',\"\") \n",
    "    cleanr = re.compile('<.*?>')\n",
    "    cleantext = re.sub(cleanr, '', sentence)\n",
    "    rem_url=re.sub(r'http\\S+', '',cleantext)\n",
    "    rem_num = re.sub('[0-9]+', '', rem_url)\n",
    "    tokenizer = RegexpTokenizer(r'\\w+')\n",
    "    tokens = tokenizer.tokenize(rem_num)  \n",
    "    filtered_words = [w for w in tokens if len(w) > 2 if not w in stopwords.words('english')] ## change to 3 \n",
    "    stem_words=[stemmer.stem(w) for w in filtered_words]\n",
    "    lemma_words=[lemmatizer.lemmatize(w) for w in stem_words]\n",
    "    return \" \".join(filtered_words)\n",
    "\n"
   ]
  },
  {
   "cell_type": "code",
   "execution_count": 82,
   "metadata": {},
   "outputs": [],
   "source": [
    "def parse_10k(filepath): \n",
    "    f = open(filepath)\n",
    "    raw_10k = f.read()\n",
    "    \n",
    "    ## find start end range to avoid xml parsing problems ##\n",
    "    import re\n",
    "    # Regex to find <DOCUMENT> tags\n",
    "    doc_start_pattern = re.compile(r'<DOCUMENT>')\n",
    "    doc_end_pattern = re.compile(r'</DOCUMENT>')\n",
    "    # Regex to find <TYPE> tag prceeding any characters, terminating at new line\n",
    "    type_pattern = re.compile(r'<TYPE>[^\\n]+')\n",
    "    doc_start_is = [x.end() for x in doc_start_pattern.finditer(raw_10k)]\n",
    "    doc_end_is = [x.start() for x in doc_end_pattern.finditer(raw_10k)]\n",
    "    \n",
    "    doc_types = [x[len('<TYPE>'):] for x in type_pattern.findall(raw_10k)]\n",
    "    \n",
    "    document = {}\n",
    "\n",
    "    # Create a loop to go through each section type and save only the 10-K section in the dictionary\n",
    "    for doc_type, doc_start, doc_end in zip(doc_types, doc_start_is, doc_end_is):\n",
    "        if doc_type == '10-K':\n",
    "            #print(doc_start)\n",
    "            #print(doc_end)\n",
    "            doc_10k = raw_10k[doc_start:doc_end].lower()\n",
    "            break\n",
    "            \n",
    "    doc_10k_bs = BeautifulSoup(doc_10k, 'lxml')\n",
    "    doc_10k_str = str(doc_10k_bs)\n",
    "    \n",
    "    i7 = \"management’s discussion and analysis of financial condition and results of operations\"\n",
    "    i7 = \"s discussion and analysis of financial condition and results of operations\"\n",
    "    sec7_find = re.finditer(i7, doc_10k_str)\n",
    "    i7a = 'quantitative and qualitative disclosures about market risk' \n",
    "    sec7a_find = re.finditer(i7a, doc_10k_str)\n",
    "\n",
    "    # moving keyword range to dataframe\n",
    "    sec7_start_range = []\n",
    "    sec7_end_range = []\n",
    "    for x in sec7_find: \n",
    "        #print(x.start())\n",
    "        sec7_start_range.append(x.start())\n",
    "        sec7_end_range.append(x.end())\n",
    "        sec7_df = pd.DataFrame({'start': sec7_start_range,'end': sec7_end_range})\n",
    "    if not sec7_start_range: \n",
    "        return sec7_start_range\n",
    "    sec7a_start_range = []\n",
    "    sec7a_end_range = []    \n",
    "    for x in sec7a_find: \n",
    "        sec7a_start_range.append(x.start())\n",
    "        sec7a_end_range.append(x.end())\n",
    "        sec7a_df = pd.DataFrame({'start': sec7a_start_range,'end': sec7a_end_range})\n",
    "    if not sec7a_start_range: \n",
    "        return sec7a_start_range\n",
    "    \n",
    "    #qc check\n",
    "    for index, row in sec7_df.iterrows():\n",
    "        print('7' , str(row['start']) , str(row['end']))\n",
    "    for index, row in sec7a_df.iterrows():\n",
    "        print('7a', str(row['start']), str(row['end']))\n",
    "        \n",
    "    # get possible ranges \n",
    "    possible_start_range = []\n",
    "    possible_end_range = []\n",
    "    for index, row7a in sec7a_df.iterrows():\n",
    "        #print(row7a['start'])\n",
    "        filtered = []\n",
    "        for i, row7 in sec7_df.iterrows():\n",
    "            #print(row7['end'])\n",
    "            if row7['end'] < row7a['start']:\n",
    "                filtered.append(row7['end'])\n",
    "        #print(filtered)\n",
    "        if not filtered:\n",
    "            continue # nothing before item 7a\n",
    "        max_y = max(filtered)\n",
    "        possible_start_range.append(max_y)\n",
    "        possible_end_range.append(row7a['start']-12)\n",
    "\n",
    "        # qc \n",
    "        #for x in possible_start_range:\n",
    "        #    print(x)\n",
    "\n",
    "        # get the largest possible range\n",
    "    possible_df = pd.DataFrame({'start': possible_start_range,'end': possible_end_range})\n",
    "    possible_df['delta'] = possible_df['end'] - possible_df['start']\n",
    "    print(possible_df.loc[possible_df['delta'].idxmax()])\n",
    "\n",
    "    item7_df = possible_df.loc[possible_df['delta'].idxmax()]\n",
    "    \n",
    "    item_7_content = doc_10k[item7_df['start']:item7_df['end']]\n",
    "    item_7_cleaned = preprocess(item_7_content)\n",
    "    bagOfWordsA = item_7_cleaned.split(' ')\n",
    "    \n",
    "    return bagOfWordsA\n"
   ]
  },
  {
   "cell_type": "code",
   "execution_count": 3,
   "metadata": {},
   "outputs": [],
   "source": [
    "def read_file_date(filepath):\n",
    "    # Regex to find <DOCUMENT> tags\n",
    "    date_start_pattern = re.compile(r'FILED AS OF DATE:')\n",
    "    date_end_pattern = re.compile(r'DATE AS OF CHANGE:')\n",
    "    # Regex to find <TYPE> tag prceeding any characters, terminating at new line\n",
    "    date_type_pattern = re.compile(r'<TYPE>[^\\n]+')\n",
    "\n",
    "    f = open(filepath, \"r\")\n",
    "\n",
    "    raw_10k = f.read()\n",
    "    document = {}\n",
    "\n",
    "    date_start_is = [x.end() for x in date_start_pattern.finditer(raw_10k)]\n",
    "    date_end_is = [x.start() for x in date_end_pattern.finditer(raw_10k)]\n",
    "    date_types = [x[len('<TYPE>'):] for x in date_type_pattern.findall(raw_10k)]\n",
    "\n",
    "    # Create a loop to go through each section type and save only the 10-K section in the dictionary\n",
    "    for date_type, date_start, date_end in zip(date_types, date_start_is, date_end_is):\n",
    "        if date_type == '10-K':\n",
    "            ddd = raw_10k[date_start:date_end]\n",
    "            ddd = ddd.strip()\n",
    "        if date_type == '10-Q':\n",
    "            ddd = raw_10k[date_start:date_end]\n",
    "            ddd = ddd.strip()\n",
    "    return ddd"
   ]
  },
  {
   "cell_type": "markdown",
   "metadata": {},
   "source": [
    "Parse 10K "
   ]
  },
  {
   "cell_type": "code",
   "execution_count": 84,
   "metadata": {},
   "outputs": [
    {
     "name": "stdout",
     "output_type": "stream",
     "text": [
      "/Users/wailunchung/Documents/GitHub/DS6120_Capstone_A_dey_chung/data/download/sec-edgar-filings/IBM/10-K/0001558370-20-001786/full-submission.txt\n",
      "7 426842 426916\n",
      "7 447986 448060\n",
      "7 453097 453171\n",
      "7 474181 474255\n",
      "7 512001 512075\n",
      "7 537839 537913\n",
      "7 542380 542454\n",
      "7 548656 548730\n",
      "7 615813 615887\n",
      "7 620130 620204\n",
      "7 688402 688476\n",
      "7 741854 741928\n",
      "7 791290 791364\n",
      "7 801098 801172\n",
      "7 865802 865876\n",
      "7 900852 900926\n",
      "7 971573 971647\n",
      "7 1030752 1030826\n",
      "7 1081015 1081089\n",
      "7 1128623 1128697\n",
      "7 1135237 1135311\n",
      "7 1148810 1148884\n",
      "7 1201715 1201789\n",
      "7 1242169 1242243\n",
      "7 1267163 1267237\n",
      "7 1273651 1273725\n",
      "7 1280197 1280271\n",
      "7 3757845 3757919\n",
      "7a 427979 428037\n",
      "7a 1147901 1147959\n",
      "7a 1203595 1203653\n",
      "7a 1282372 1282430\n",
      "start    1135311\n",
      "end      1147889\n",
      "delta      12578\n",
      "Name: 1, dtype: int64\n",
      "412\n",
      "1\n",
      "/Users/wailunchung/Documents/GitHub/DS6120_Capstone_A_dey_chung/data/download/sec-edgar-filings/IBM/10-K/0001558370-20-001334/full-submission.txt\n",
      "7 1041149 1041223\n",
      "7 1193004 1193078\n",
      "7a 1041976 1042034\n",
      "7a 1194388 1194446\n",
      "start    1193078\n",
      "end      1194376\n",
      "delta       1298\n",
      "Name: 1, dtype: int64\n",
      "5\n",
      "2\n",
      "/Users/wailunchung/Documents/GitHub/DS6120_Capstone_A_dey_chung/data/download/sec-edgar-filings/INTC/10-K/0000050863-19-000007/full-submission.txt\n",
      "7 3859271 3859345\n",
      "7a 37502 37560\n",
      "7a 901657 901715\n",
      "7a 3865798 3865856\n",
      "start    3859345\n",
      "end      3865786\n",
      "delta       6441\n",
      "Name: 0, dtype: int64\n",
      "24\n",
      "1\n",
      "/Users/wailunchung/Documents/GitHub/DS6120_Capstone_A_dey_chung/data/download/sec-edgar-filings/INTC/10-K/0000050863-20-000011/full-submission.txt\n",
      "7 4779464 4779538\n",
      "7a 477774 477832\n",
      "7a 1311094 1311152\n",
      "7a 4787117 4787175\n",
      "start    4779538\n",
      "end      4787105\n",
      "delta       7567\n",
      "Name: 0, dtype: int64\n",
      "13\n",
      "2\n",
      "/Users/wailunchung/Documents/GitHub/DS6120_Capstone_A_dey_chung/data/download/sec-edgar-filings/JNJ/10-K/0000200406-21-000008/full-submission.txt\n",
      "0\n",
      "1\n",
      "/Users/wailunchung/Documents/GitHub/DS6120_Capstone_A_dey_chung/data/download/sec-edgar-filings/JNJ/10-K/0000200406-17-000006/full-submission.txt\n",
      "0\n",
      "2\n",
      "/Users/wailunchung/Documents/GitHub/DS6120_Capstone_A_dey_chung/data/download/sec-edgar-filings/JPM/10-K/0000019617-20-000257/full-submission.txt\n",
      "7 2518506 2518580\n",
      "7 2537771 2537845\n",
      "7 3001481 3001555\n",
      "7 3001713 3001787\n",
      "7a 2519444 2519502\n",
      "7a 3002720 3002778\n",
      "7a 3003164 3003222\n",
      "start    3001787\n",
      "end      3003152\n",
      "delta       1365\n",
      "Name: 2, dtype: int64\n",
      "90\n",
      "1\n",
      "/Users/wailunchung/Documents/GitHub/DS6120_Capstone_A_dey_chung/data/download/sec-edgar-filings/JPM/10-K/0000019617-21-000236/full-submission.txt\n",
      "7 1462331 1462405\n",
      "7 1481811 1481885\n",
      "7 1926014 1926088\n",
      "7 1926255 1926329\n",
      "7a 1463424 1463482\n",
      "7a 1926998 1927056\n",
      "7a 1927333 1927391\n",
      "start    1462405\n",
      "end      1463412\n",
      "delta       1007\n",
      "Name: 0, dtype: int64\n",
      "19\n",
      "2\n",
      "/Users/wailunchung/Documents/GitHub/DS6120_Capstone_A_dey_chung/data/download/sec-edgar-filings/MCD/10-K/0000063908-17-000017/full-submission.txt\n",
      "7 40329 40403\n",
      "7 79662 79736\n",
      "7 92617 92691\n",
      "7 161572 161646\n",
      "7 377458 377532\n",
      "7 1131857 1131931\n",
      "7a 41425 41483\n",
      "7a 1152278 1152336\n",
      "7a 1152758 1152816\n",
      "start    1131931\n",
      "end      1152746\n",
      "delta      20815\n",
      "Name: 2, dtype: int64\n",
      "748\n",
      "1\n",
      "/Users/wailunchung/Documents/GitHub/DS6120_Capstone_A_dey_chung/data/download/sec-edgar-filings/MCD/10-K/0000063908-20-000022/full-submission.txt\n",
      "7 184622 184696\n",
      "7 222269 222343\n",
      "7 234707 234781\n",
      "7 978314 978388\n",
      "7 1210036 1210110\n",
      "7 3038226 3038300\n",
      "7a 3039221 3039279\n",
      "start    3038300\n",
      "end      3039209\n",
      "delta        909\n",
      "Name: 0, dtype: int64\n",
      "14\n",
      "2\n",
      "/Users/wailunchung/Documents/GitHub/DS6120_Capstone_A_dey_chung/data/download/sec-edgar-filings/MSFT/10-K/0001564590-21-039151/full-submission.txt\n",
      "7 360718 360792\n",
      "7 411342 411416\n",
      "7 412052 412126\n",
      "7 446022 446096\n",
      "7 853795 853869\n",
      "7 854089 854163\n",
      "7 854776 854850\n",
      "7a 363612 363670\n",
      "7a 412134 412192\n",
      "start    360792\n",
      "end      363600\n",
      "delta      2808\n",
      "Name: 0, dtype: int64\n",
      "5\n",
      "1\n",
      "/Users/wailunchung/Documents/GitHub/DS6120_Capstone_A_dey_chung/data/download/sec-edgar-filings/MSFT/10-K/0001564590-19-027952/full-submission.txt\n",
      "7 64902 64976\n",
      "7 115710 115784\n",
      "7 116420 116494\n",
      "7 615029 615103\n",
      "7a 67796 67854\n",
      "7a 116502 116560\n",
      "start    64976\n",
      "end      67784\n",
      "delta     2808\n",
      "Name: 0, dtype: int64\n",
      "30\n",
      "2\n",
      "/Users/wailunchung/Documents/GitHub/DS6120_Capstone_A_dey_chung/data/download/sec-edgar-filings/V/10-K/0001403161-21-000060/full-submission.txt\n",
      "7 364733 364807\n",
      "7 384286 384360\n",
      "7 397205 397279\n",
      "7 645182 645256\n",
      "7 646438 646512\n",
      "7 646545 646619\n",
      "7 992843 992917\n",
      "7a 365867 365925\n",
      "7a 1108977 1109035\n",
      "start     992917\n",
      "end      1108965\n",
      "delta     116048\n",
      "Name: 1, dtype: int64\n",
      "2084\n",
      "1\n",
      "/Users/wailunchung/Documents/GitHub/DS6120_Capstone_A_dey_chung/data/download/sec-edgar-filings/V/10-K/0001104659-21-086267/full-submission.txt\n",
      "7 23016 23090\n",
      "7 149192 149266\n",
      "7a 23532 23590\n",
      "start    23090\n",
      "end      23520\n",
      "delta      430\n",
      "Name: 0, dtype: int64\n",
      "25\n",
      "2\n",
      "/Users/wailunchung/Documents/GitHub/DS6120_Capstone_A_dey_chung/data/download/sec-edgar-filings/VZ/10-K/0000732712-19-000012/full-submission.txt\n",
      "7 42127 42201\n",
      "7 72393 72467\n",
      "7 199655 199729\n",
      "7 304335 304409\n",
      "7 304803 304877\n",
      "7 306268 306342\n",
      "7a 43722 43780\n",
      "7a 305816 305874\n",
      "start    42201\n",
      "end      43710\n",
      "delta     1509\n",
      "Name: 0, dtype: int64\n",
      "16\n",
      "1\n",
      "/Users/wailunchung/Documents/GitHub/DS6120_Capstone_A_dey_chung/data/download/sec-edgar-filings/VZ/10-K/0000732712-21-000012/full-submission.txt\n",
      "7 655544 655618\n",
      "7 681469 681543\n",
      "7 865486 865560\n",
      "7 921159 921233\n",
      "7a 656877 656935\n",
      "7a 1494845 1494903\n",
      "start     921233\n",
      "end      1494833\n",
      "delta     573600\n",
      "Name: 1, dtype: int64\n",
      "9488\n",
      "2\n",
      "/Users/wailunchung/Documents/GitHub/DS6120_Capstone_A_dey_chung/data/download/sec-edgar-filings/WBA/10-K/0001618921-21-000085/full-submission.txt\n",
      "0\n",
      "1\n",
      "/Users/wailunchung/Documents/GitHub/DS6120_Capstone_A_dey_chung/data/download/sec-edgar-filings/WBA/10-K/0001628280-18-012472/full-submission.txt\n",
      "0\n",
      "2\n"
     ]
    }
   ],
   "source": [
    "## BA: report omitted item 7 \n",
    "    # solution download more reports, read more reports \n",
    "## CVX: repeated keyword when page break \n",
    "    # solution: put period at the end of keyword\n",
    "## GS: one report omitted item 7, \n",
    "##     \"management\\x92s discussion and analysis of financial condition and results of operations\" \n",
    "##.    'quantitative and qualitative disclosures about market risk'  <<-- disclosure no s in report\n",
    "## HD: one ok, the other t’s -> t's \n",
    "\n",
    "## IBM: one report omitted, keyword repeated each page break; Operations – (continued)\n",
    "    #solution: put period at the end of keyword\n",
    "## INTC: keyword format different, Management's Discussion and analysis (md&A) - results of operations\n",
    "    #solution: put md&A as part of the keyword.\n",
    "## JNJ: switch  \" analysis of financial condition and results of operations\" => results of operations and financial condidtion\n",
    "    #solution: switch and \n",
    "## JPM: keyword = no item 7 \n",
    "    # maybe use C (citi bank) 10K?\n",
    "## MCD: keyword in between 2 keywords \n",
    "    # solution: use exact: ITEM 7. Management’s Discussion and Analysis of Financial Condition and Results of Operations\n",
    "\n",
    "# 10K -> 5 + 10Q -> 15 \n",
    "\n",
    "## Can't parse: BA, GS,'IBM','INTC','JNJ','JPM','MCD','MSFT','WBA'\n",
    "## can't parse 1/2 time: ('V'),('VZ')\n",
    "dow30 = ['AAPL','AMGN','AXP','BA','CAT','CRM','CSCO','CVX','DIS','DOW','GS','HD','HON','IBM','INTC','JNJ','JPM','KO','MCD','MMM','MRK','MSFT','NKE','PG','TRV','UNH','V','VZ','WBA','WMT']\n",
    "#dow30 = ['AAPL','AMGN','AXP']\n",
    "dow30 = ['IBM','INTC','JNJ','JPM','MCD','MSFT','V','VZ','WBA']\n",
    "companyk = []\n",
    "file_namek = []\n",
    "doc_typek = []\n",
    "file_datek = []\n",
    "contentk = []\n",
    "for x in dow30: # company loop\n",
    "    i = 0\n",
    "    currentDirectory = os.getcwd()\n",
    "    file_dir = currentDirectory + '/data/download/'\n",
    "    file_dir = file_dir + 'sec-edgar-filings/' + x + '/10-K/'\n",
    "    for name in os.listdir(file_dir): \n",
    "        if not name.startswith('.') and os.path.isfile(os.path.join(file_dir,name)+'/full-submission.txt'):\n",
    "            \n",
    "            if i >=2: # only get 2 10K files from each company\n",
    "                break\n",
    "            print(os.path.join(file_dir,name)+'/full-submission.txt')\n",
    "            item7 = parse_10k(os.path.join(file_dir,name)+'/full-submission.txt')\n",
    "            print(len(item7))\n",
    "            contentk.append(item7)\n",
    "            companyk.append(x)\n",
    "            file_namek.append(name)\n",
    "            doc_typek.append('10-K')\n",
    "            file_d = read_file_date(os.path.join(file_dir,name)+'/full-submission.txt')\n",
    "            file_datek.append(file_d)\n",
    "            i = i+1\n",
    "            print(i)"
   ]
  },
  {
   "cell_type": "code",
   "execution_count": null,
   "metadata": {},
   "outputs": [],
   "source": []
  },
  {
   "cell_type": "code",
   "execution_count": null,
   "metadata": {},
   "outputs": [],
   "source": []
  },
  {
   "cell_type": "code",
   "execution_count": null,
   "metadata": {},
   "outputs": [],
   "source": []
  },
  {
   "cell_type": "code",
   "execution_count": null,
   "metadata": {},
   "outputs": [],
   "source": []
  },
  {
   "cell_type": "code",
   "execution_count": null,
   "metadata": {},
   "outputs": [],
   "source": []
  },
  {
   "cell_type": "markdown",
   "metadata": {},
   "source": [
    "step by step testing"
   ]
  },
  {
   "cell_type": "code",
   "execution_count": 114,
   "metadata": {},
   "outputs": [
    {
     "name": "stdout",
     "output_type": "stream",
     "text": [
      "3000\n"
     ]
    }
   ],
   "source": [
    "import sys\n",
    "print(sys.getrecursionlimit())\n",
    "sys.setrecursionlimit(10000)"
   ]
  },
  {
   "cell_type": "code",
   "execution_count": 123,
   "metadata": {},
   "outputs": [],
   "source": [
    "filepath = '/Users/wailunchung/Documents/GitHub/DS6120_Capstone_A_dey_chung/data/download/sec-edgar-filings/CAT/10-K/0000018230-21-000063/full-submission.txt'\n",
    "filepath = '/Users/wailunchung/Documents/GitHub/DS6120_Capstone_A_dey_chung/data/download/sec-edgar-filings/GS/10-K/0001193125-21-102511/full-submission.txt'\n",
    "filepath = '/Users/wailunchung/Documents/GitHub/DS6120_Capstone_A_dey_chung/data/download/sec-edgar-filings/IBM/10-K/0001558370-20-001786/full-submission.txt'\n",
    "filepath = '/Users/wailunchung/Documents/GitHub/DS6120_Capstone_A_dey_chung/data/download/sec-edgar-filings/JNJ/10-K/0000200406-21-000008/full-submission.txt'\n",
    "\n",
    "filepath = '/Users/wailunchung/Documents/GitHub/DS6120_Capstone_A_dey_chung/data/download/sec-edgar-filings/MCD/10-K/0000063908-17-000017/full-submission.txt'\n"
   ]
  },
  {
   "cell_type": "code",
   "execution_count": 124,
   "metadata": {},
   "outputs": [],
   "source": [
    "f = open(filepath)\n",
    "raw_10k = f.read()"
   ]
  },
  {
   "cell_type": "code",
   "execution_count": 125,
   "metadata": {},
   "outputs": [],
   "source": [
    "import re\n",
    "# Regex to find <DOCUMENT> tags\n",
    "doc_start_pattern = re.compile(r'<DOCUMENT>')\n",
    "doc_end_pattern = re.compile(r'</DOCUMENT>')\n",
    "# Regex to find <TYPE> tag prceeding any characters, terminating at new line\n",
    "type_pattern = re.compile(r'<TYPE>[^\\n]+')\n",
    "doc_start_is = [x.end() for x in doc_start_pattern.finditer(raw_10k)]\n",
    "doc_end_is = [x.start() for x in doc_end_pattern.finditer(raw_10k)]"
   ]
  },
  {
   "cell_type": "code",
   "execution_count": 126,
   "metadata": {},
   "outputs": [],
   "source": [
    "doc_types = [x[len('<TYPE>'):] for x in type_pattern.findall(raw_10k)]"
   ]
  },
  {
   "cell_type": "code",
   "execution_count": 132,
   "metadata": {},
   "outputs": [
    {
     "name": "stdout",
     "output_type": "stream",
     "text": [
      "955\n",
      "2697627\n"
     ]
    }
   ],
   "source": [
    "document = {}\n",
    "\n",
    "    # Create a loop to go through each section type and save only the 10-K section in the dictionary\n",
    "for doc_type, doc_start, doc_end in zip(doc_types, doc_start_is, doc_end_is):\n",
    "    if doc_type == '10-K':\n",
    "        print(doc_start)\n",
    "        print(doc_end)\n",
    "        #doc_10k = raw_10k[doc_start:doc_end].lower()\n",
    "        document[doc_type] = raw_10k[doc_start:doc_end].lower()\n",
    "        doc_10k = raw_10k[doc_start:doc_end].lower()\n",
    "        break"
   ]
  },
  {
   "cell_type": "code",
   "execution_count": 133,
   "metadata": {},
   "outputs": [
    {
     "data": {
      "text/plain": [
       "2696672"
      ]
     },
     "execution_count": 133,
     "metadata": {},
     "output_type": "execute_result"
    }
   ],
   "source": [
    "len(document['10-K'])"
   ]
  },
  {
   "cell_type": "code",
   "execution_count": 134,
   "metadata": {},
   "outputs": [],
   "source": [
    "doc_10k = BeautifulSoup(doc_10k, 'lxml')"
   ]
  },
  {
   "cell_type": "code",
   "execution_count": 135,
   "metadata": {},
   "outputs": [],
   "source": [
    "doc_10k_str = str(doc_10k)"
   ]
  },
  {
   "cell_type": "code",
   "execution_count": 139,
   "metadata": {},
   "outputs": [],
   "source": [
    "i7 = \"management’s discussion and analysis of financial condition and results of operations\"\n",
    "i7 = \"management's discussion and analysis of financial condition and results of operations\"\n",
    "i7 = \"s discussion and analysis of financial condition and results of operations\"\n",
    "#i7 = \"results of operations\"\n",
    "sec7_find = re.finditer(i7, doc_10k_str)\n",
    "i7a = 'quantitative and qualitative disclosures about market risk' \n",
    "#i7a = 'market risk' \n",
    "sec7a_find = re.finditer(i7a, doc_10k_str)\n",
    "\n",
    "#for x in sec7a_find: \n",
    "#    print(x)\n",
    "\n",
    "    # moving keyword range to dataframe\n",
    "sec7_start_range = []\n",
    "sec7_end_range = []\n",
    "for x in sec7_find: \n",
    "    #print(x.start())\n",
    "    sec7_start_range.append(x.start())\n",
    "    sec7_end_range.append(x.end())\n",
    "    sec7_df = pd.DataFrame({'start': sec7_start_range,'end': sec7_end_range})\n",
    "sec7a_start_range = []\n",
    "sec7a_end_range = []    \n",
    "for x in sec7a_find: \n",
    "    sec7a_start_range.append(x.start())\n",
    "    sec7a_end_range.append(x.end())\n",
    "    sec7a_df = pd.DataFrame({'start': sec7a_start_range,'end': sec7a_end_range})\n",
    "\n",
    "    \n",
    "    #qc check\n",
    "#for index, row in sec7_df.iterrows():\n",
    "#    print('7' , str(row['start']) , str(row['end']))\n",
    "#for index, row in sec7a_df.iterrows():\n",
    "#    print('7a', str(row['start']), str(row['end']))"
   ]
  },
  {
   "cell_type": "code",
   "execution_count": 140,
   "metadata": {},
   "outputs": [
    {
     "data": {
      "text/html": [
       "<div>\n",
       "<style scoped>\n",
       "    .dataframe tbody tr th:only-of-type {\n",
       "        vertical-align: middle;\n",
       "    }\n",
       "\n",
       "    .dataframe tbody tr th {\n",
       "        vertical-align: top;\n",
       "    }\n",
       "\n",
       "    .dataframe thead th {\n",
       "        text-align: right;\n",
       "    }\n",
       "</style>\n",
       "<table border=\"1\" class=\"dataframe\">\n",
       "  <thead>\n",
       "    <tr style=\"text-align: right;\">\n",
       "      <th></th>\n",
       "      <th>start</th>\n",
       "      <th>end</th>\n",
       "    </tr>\n",
       "  </thead>\n",
       "  <tbody>\n",
       "    <tr>\n",
       "      <th>0</th>\n",
       "      <td>41425</td>\n",
       "      <td>41483</td>\n",
       "    </tr>\n",
       "    <tr>\n",
       "      <th>1</th>\n",
       "      <td>1152278</td>\n",
       "      <td>1152336</td>\n",
       "    </tr>\n",
       "    <tr>\n",
       "      <th>2</th>\n",
       "      <td>1152758</td>\n",
       "      <td>1152816</td>\n",
       "    </tr>\n",
       "  </tbody>\n",
       "</table>\n",
       "</div>"
      ],
      "text/plain": [
       "     start      end\n",
       "0    41425    41483\n",
       "1  1152278  1152336\n",
       "2  1152758  1152816"
      ]
     },
     "execution_count": 140,
     "metadata": {},
     "output_type": "execute_result"
    }
   ],
   "source": [
    "sec7a_df"
   ]
  },
  {
   "cell_type": "code",
   "execution_count": 142,
   "metadata": {},
   "outputs": [
    {
     "data": {
      "text/plain": [
       "' is based upon the company’s consolidated financial statements, which have been prepared in accordance with accounting principles generally accepted in the u.s. the preparation of these financial statements requires the company to make estimates and judgments that affect the reported amounts of assets, liabilities, revenues and expenses as well as related disclosures. on an ongoing basis, the company evaluates its estimates and judgments based on historical experience and various other factors that are believed to be reasonable under the circumstances. actual results may differ from these estimates.</font></div><div style=\"line-height:120%;text-indent:24px;font-size:9pt;\"><font style=\"font-family:arial;font-size:9pt;\">the company reviews its financial reporting and disclosure practices and accounting policies quarterly to ensure that they provide accurate and transparent information relative to the current economic and business environment. the company believes that of its significant accounting policies, the following involve a higher degree of judgment and/or complexity:</font></div><table cellpadding=\"0\" cellspacing=\"0\" style=\"padding-top:8px;font-family:times new roman; font-size:10pt;\"><tr><td style=\"width:28px;\"></td><td></td></tr><tr><td style=\"vertical-align:top\"><div style=\"line-height:120%;font-size:9pt;padding-left:4px;\"><font style=\"font-family:arial;font-size:9pt;font-style:italic;font-weight:bold;\">•</font></div></td><td style=\"vertical-align:top;\"><div style=\"line-height:120%;text-align:left;font-size:9pt;\"><font style=\"font-family:arial;font-size:9pt;font-style:italic;font-weight:bold;\">property and equipment</font></div></td></tr></table><div style=\"line-height:120%;padding-top:2px;font-size:9pt;\"><font style=\"font-family:arial;font-size:9pt;\">property and equipment are depreciated or amortized on a straight-line basis over their useful lives based on management’s estimates of the period over which the assets will generate revenue (not to exceed lease term plus options for leased property). the useful lives are estimated based on historical experience with similar assets, taking into account anticipated technological or other changes. the company periodically reviews these lives relative to physical factors, economic factors and industry trends. if there are changes in the planned use of property and equipment, or if technological changes occur more rapidly than anticipated, the useful lives assigned to these assets may need to be shortened, resulting in the accelerated recognition of depreciation and amortization expense or write-offs in future periods.</font></div><table cellpadding=\"0\" cellspacing=\"0\" style=\"padding-top:8px;font-family:times new roman; font-size:10pt;\"><tr><td style=\"width:28px;\"></td><td></td></tr><tr><td style=\"vertical-align:top\"><div style=\"line-height:120%;font-size:9pt;padding-left:4px;\"><font style=\"font-family:arial;font-size:9pt;font-style:italic;font-weight:bold;\">•</font></div></td><td style=\"vertical-align:top;\"><div style=\"line-height:120%;text-align:left;font-size:9pt;\"><font style=\"font-family:arial;font-size:9pt;font-style:italic;font-weight:bold;\">businesses held for sale</font></div></td></tr></table><div style=\"line-height:120%;padding-top:2px;font-size:9pt;\"><font style=\"font-family:arial;font-size:9pt;\">assets and liabilities of businesses held for sale on the consolidated balance sheet primarily consist of balances related to businesses in china and hong kong. in december 2016, the company’s board of directors approved an agreement for the company to sell its existing businesses in china and hong kong, which comprise over 2,600 restaurants, to a developmental licensee organization.  under the terms of the agreement, the company will retain a 20% ownership in the business. the company expects to complete the sale and licensing transaction mid-year 2017, subject to satisfaction of customary conditions, including receipt of any regulatory approvals.</font></div><div style=\"line-height:120%;text-align:left;text-indent:24px;font-size:9pt;\"><font style=\"font-family:arial;font-size:9pt;\">based on approval by the board of directors, the company concluded that these markets were “held for sale” as of december 31, 2016 in accordance with the requirements of asc 360 “property, plant and equipment”.  accordingly, the company has ceased recording depreciation expense with respect to the assets of the china and hong kong markets effective january 1, 2017. as of december 31, 2016, total assets relating to businesses in china and hong kong were $1.3 billion, of which $217 million  was current, and total liabilities were $592 million, most of which was current.</font></div></div><div style=\"width:3%; float:left;\">\\xa0</div><div style=\"float:right; width:48%;\"><div style=\"line-height:120%;text-align:left;text-indent:24px;font-size:9pt;\"><font style=\"font-family:arial;font-size:9pt;\">as a result of this sale, the company expects to record a gain of approximately $700-$900 million reflecting the difference between the net book value of the businesses and an estimated $1.5 billion of cash proceeds to be received at closing, subject to adjustments.</font></div><table cellpadding=\"0\" cellspacing=\"0\" style=\"padding-top:8px;font-family:times new roman; font-size:10pt;\"><tr><td style=\"width:28px;\"></td><td></td></tr><tr><td style=\"vertical-align:top\"><div style=\"line-height:120%;font-size:9pt;padding-left:4px;\"><font style=\"font-family:arial;font-size:9pt;font-style:italic;font-weight:bold;\">•</font></div></td><td style=\"vertical-align:top;\"><div style=\"line-height:120%;text-align:left;font-size:9pt;\"><font style=\"font-family:arial;font-size:9pt;font-style:italic;font-weight:bold;\">share-based compensation</font></div></td></tr></table><div style=\"line-height:120%;padding-top:2px;font-size:9pt;\"><font style=\"font-family:arial;font-size:9pt;\">the company has a share-based compensation plan which authorizes the granting of various equity-based incentives including stock options and restricted stock units (\"rsus\") to employees and nonemployee directors. the expense for these equity-based incentives is based on their fair value at date of grant and generally amortized over their vesting period. the company estimates forfeitures when determining the amount of compensation costs to be recognized in each period.</font></div><div style=\"line-height:120%;text-indent:24px;font-size:9pt;\"><font style=\"font-family:arial;font-size:9pt;\">the fair value of each stock option granted is estimated on the date of grant using a closed-form pricing model. the pricing model requires assumptions, which impact the assumed fair value, including the expected life of the stock option, the risk-free interest rate, expected volatility of the company’s stock over the expected life and the expected dividend yield. the company uses historical data to determine these assumptions and if these assumptions change significantly for future grants, share-based compensation expense will fluctuate in future years. the fair value of each rsu granted is equal to the market price of the company’s stock at date of grant less the present value of expected dividends over the vesting period.</font></div><table cellpadding=\"0\" cellspacing=\"0\" style=\"padding-top:8px;font-family:times new roman; font-size:10pt;\"><tr><td style=\"width:28px;\"></td><td></td></tr><tr><td style=\"vertical-align:top\"><div style=\"line-height:120%;font-size:9pt;padding-left:4px;\"><font style=\"font-family:arial;font-size:9pt;font-style:italic;font-weight:bold;\">•</font></div></td><td style=\"vertical-align:top;\"><div style=\"line-height:120%;text-align:left;font-size:9pt;\"><font style=\"font-family:arial;font-size:9pt;font-style:italic;font-weight:bold;\">long-lived assets impairment review</font></div></td></tr></table><div style=\"line-height:120%;padding-top:2px;font-size:9pt;\"><font style=\"font-family:arial;font-size:9pt;\">long-lived assets (including goodwill) are reviewed for impairment annually in the fourth quarter and whenever events or changes in circumstances indicate that the carrying amount of an asset may not be recoverable. in assessing the recoverability of the company’s long-lived assets, the company considers changes in economic conditions and makes assumptions regarding estimated future cash flows and other factors. estimates of future cash flows are highly subjective judgments based on the company’s experience and knowledge of its operations. these estimates can be significantly impacted by many factors including changes in global and local business and economic conditions, operating costs, inflation, competition, and consumer and demographic trends. a key assumption impacting estimated future cash flows is the estimated change in comparable sales. if the company’s estimates or underlying assumptions change in the future, the company may be required to record impairment charges. based on the annual goodwill impairment test, conducted in the fourth quarter, approximately 5-10% of goodwill may be at risk of future impairment as the fair values of certain reporting units were not substantially in excess of their carrying amounts. </font></div><table cellpadding=\"0\" cellspacing=\"0\" style=\"padding-top:8px;font-family:times new roman; font-size:10pt;\"><tr><td style=\"width:28px;\"></td><td></td></tr><tr><td style=\"vertical-align:top\"><div style=\"line-height:120%;font-size:9pt;padding-left:4px;\"><font style=\"font-family:arial;font-size:9pt;font-style:italic;font-weight:bold;\">•</font></div></td><td style=\"vertical-align:top;\"><div style=\"line-height:120%;text-align:left;font-size:9pt;\"><font style=\"font-family:arial;font-size:9pt;font-style:italic;font-weight:bold;\">litigation accruals</font></div></td></tr></table><div style=\"line-height:120%;padding-top:2px;font-size:9pt;\"><font style=\"font-family:arial;font-size:9pt;\">in the ordinary course of business, the company is subject to proceedings, lawsuits and other claims primarily related to competitors, customers, employees, franchisees, government agencies, intellectual property, shareholders and suppliers. the company is required to assess the likelihood of any adverse judgments or outcomes to these matters as well as potential ranges of probable losses. a determination of the amount of accrual required, if any, for these contingencies is made after</font></div><div style=\"line-height:120%;font-size:9pt;\"><font style=\"font-family:arial;font-size:9pt;\">careful analysis of each matter. the required accrual may change in the future due to new developments in each matter or changes in approach such as a change in settlement strategy in dealing with these matters. the company does not believe that any such matter currently being reviewed will have a material adverse effect on its financial condition or results of operations.</font></div></div></div><div><br/></div><div><div style=\"line-height:120%;text-align:left;font-size:10pt;\"><font style=\"font-family:inherit;font-size:10pt;\"><br/></font></div><div style=\"line-height:120%;text-align:left;font-size:9pt;\"><font style=\"font-family:arial;font-size:9pt;\">26</font><font style=\"font-family:inherit;font-size:8pt;font-weight:bold;\">    mcdonald\\'s corporation </font><font style=\"font-family:inherit;font-size:8pt;\">2016 annual report</font></div></div><hr style=\"page-break-after:always\"/><div><br/></div><div style=\"display:inline-block; width:100%;\"><div style=\"float:left; width:48%;\"><table cellpadding=\"0\" cellspacing=\"0\" style=\"font-family:times new roman; font-size:10pt;\"><tr><td style=\"width:28px;\"></td><td></td></tr><tr><td style=\"vertical-align:top\"><div style=\"line-height:120%;font-size:9pt;padding-left:4px;\"><font style=\"font-family:arial;font-size:9pt;font-style:italic;font-weight:bold;\">•</font></div></td><td style=\"vertical-align:top;\"><div style=\"line-height:120%;text-align:left;font-size:9pt;\"><font style=\"font-family:arial;font-size:9pt;font-style:italic;font-weight:bold;\">income taxes</font></div></td></tr></table><div style=\"line-height:120%;font-size:9pt;\"><font style=\"font-family:arial;font-size:9pt;\">the company records a valuation allowance to reduce its deferred tax assets if it is more likely than not that some portion or all of the deferred assets will not be realized. while the company has considered future taxable income and ongoing prudent and feasible tax strategies, including the sale of appreciated assets, in assessing the need for the valuation allowance, if these estimates and assumptions change in the future, the company may be required to adjust its valuation allowance. this could result in a charge to, or an increase in, income in the period such determination is made.</font></div><div style=\"line-height:120%;text-indent:24px;font-size:9pt;\"><font style=\"font-family:arial;font-size:9pt;\">the company operates within multiple taxing jurisdictions and is subject to audit in these jurisdictions. the company records accruals for the estimated outcomes of these audits, and the accruals may change in the future due to new developments in each matter. </font></div><div style=\"line-height:120%;text-indent:24px;font-size:9pt;\"><font style=\"font-family:arial;font-size:9pt;\">in 2016, the company increased the balance of unrecognized tax benefits related to tax positions taken in prior years by $150 million. in 2015, the company decreased the balance of unrecognized tax benefits related to settlements with taxing authorities by $258 million. see the income taxes footnote in the consolidated financial statements for the related tax reconciliations. the most significant new developments in 2015 and 2016 are described below.</font></div><div style=\"line-height:120%;text-indent:24px;font-size:9pt;\"><font style=\"font-family:arial;font-size:9pt;\">in 2015, the company received an unfavorable decision related to its procedural efforts to appeal a prior year unfavorable lower tax court ruling in a foreign tax jurisdiction related to exempt income matters. as a result of this new information, the company agreed to settle the issue for 2003-2008 with the tax authorities and the unrecognized tax benefits were reduced by $143 million. no cash payment was made related to this settlement in 2015 as the company had previously made a payment to the taxing authority. the settlement did not have a material impact on the company\\'s cash flows, results of operations or financial position. in 2016, the unrecognized tax benefits related to this issue for 2009-2010 were reduced by $57 million as a result of the lapsing of the statute of limitations.</font></div><div style=\"line-height:120%;text-indent:24px;font-size:9pt;\"><font style=\"font-family:arial;font-size:9pt;\">in 2015, the internal revenue service (“irs”) issued a revenue agent report for certain agreed adjustments related to the company’s u.s. federal income tax returns for 2009 and 2010 and the balance of unrecognized tax benefits was reduced by $102 million. also in 2015, the company filed a protest with the irs appeals office related to certain disagreed transfer pricing matters related to the company’s u.s. federal income tax returns for 2009 and 2010. as of december 31, 2016, the company had not yet received a response to this protest from the irs. the company expects resolution on these issues in either 2017 or 2018. in addition, the company\\'s 2011 and 2012 u.s. federal income tax returns are currently under examination and the completion of the field audit is expected in 2017.</font></div></div><div style=\"width:3%; float:left;\">\\xa0</div><div style=\"float:right; width:48%;\"><div style=\"line-height:120%;text-indent:24px;font-size:9pt;\"><font style=\"font-family:arial;font-size:9pt;\">in 2016, the company received new information during the progression of tax audits in multiple foreign tax jurisdictions. as a result of this new information, the company changed its judgment on the measurement of the related unrecognized tax benefits and recorded an increase in the gross unrecognized tax benefits of $125 million. </font></div><div style=\"line-height:120%;text-indent:24px;font-size:9pt;\"><font style=\"font-family:arial;font-size:9pt;\">in december 2015, the european commission opened a formal investigation directly with the luxembourg government to examine whether decisions by the tax authorities in luxembourg with regard to the corporate income tax paid by certain of our subsidiaries comply with european union rules on state aid. if this matter is adversely resolved, luxembourg may be required to assess, and the company may be required to pay, additional amounts with respect to current and prior periods and our taxes in the future could increase. as of december 31, 2016, no decision has been published with respect to this investigation.</font></div><div style=\"line-height:120%;text-indent:24px;font-size:9pt;\"><font style=\"font-family:arial;font-size:9pt;\">while the company cannot predict the ultimate resolution of the aforementioned tax matters, we believe that the liabilities recorded are appropriate and adequate as determined in accordance with topic 740 - income taxes of the accounting standards codification (“asc”).  </font></div><div style=\"line-height:120%;text-indent:24px;font-size:9pt;\"><font style=\"font-family:arial;font-size:9pt;\">deferred u.s. income taxes have not been recorded for temporary differences totaling $16.0 billion related to investments in certain foreign subsidiaries and corporate affiliates. the temporary differences consist primarily of undistributed earnings that are considered permanently invested in operations outside the u.s. if management\\'s intentions change in the future, deferred taxes may need to be provided.</font></div><div style=\"line-height:120%;padding-top:10px;font-size:8pt;\"><font style=\"font-family:arial;font-size:8pt;font-weight:bold;\">effects of changing prices—inflation</font></div><div style=\"line-height:120%;padding-top:2px;font-size:9pt;\"><font style=\"font-family:arial;font-size:9pt;\">the company has demonstrated an ability to manage inflationary cost increases effectively. this ability is because of rapid inventory turnover, the ability to adjust menu prices, cost controls and substantial property holdings, many of which are at fixed costs and partly financed by debt made less expensive by inflation.</font></div></div></div><div><br/></div><div style=\"text-align:center;\"><div style=\"line-height:120%;text-align:right;font-size:9pt;\"><font style=\"font-family:arial;font-size:9pt;\">\\xa0</font></div><div style=\"line-height:120%;text-align:right;font-size:9pt;\"><font style=\"font-family:inherit;font-size:8pt;font-weight:bold;\">mcdonald\\'s corporation </font><font style=\"font-family:inherit;font-size:8pt;\">2016 annual report    </font><font style=\"font-family:arial;font-size:9pt;\">27</font></div></div><hr style=\"page-break-after:always\"/><div><a name=\"s269e0c294e985775a28981d60014ceaf\"></a></div><div><br/></div><div style=\"line-height:120%;padding-left:4px;padding-bottom:4px;padding-top:8px;text-align:left;font-size:8pt;\"><font style=\"font-family:arial;font-size:8pt;font-weight:bold;\">risk factors and cautionary statement about forward-looking information</font></div><div style=\"line-height:120%;padding-left:4px;padding-bottom:4px;text-align:left;font-size:9pt;\"><font style=\"font-family:arial;font-size:9pt;\">this report includes forward-looking statements about our plans and future performance, including those under outlook for </font><font style=\"font-family:arial;font-size:9pt;color:#000000;text-decoration:none;\">2017</font><font style=\"font-family:arial;font-size:9pt;\">. refer to the cautionary statement regarding forward-looking statements in part 1, item 1a, page 3, of this form 10-k.</font></div><div><a name=\"s776ccd38706c530b945c894a0273fbf9\"></a></div><div style=\"line-height:120%;font-size:12pt;\"><div style=\"padding-left:0px;text-indent:0px;line-height:normal;padding-top:10px;\"><table cellpadding=\"0\" cellspacing=\"0\" style=\"font-family:times new roman;font-size:10pt;width:100%;border-collapse:collapse;text-align:left;\"><tr><td colspan=\"1\"></td></tr><tr><td style=\"width:100%;\"></td></tr><tr><td style=\"vertical-align:bottom;padding-left:2px;padding-top:2px;padding-bottom:2px;padding-right:2px;\"><div style=\"padding-top:22px;text-align:left;font-size:12pt;\"><font style=\"font-family:arial;font-size:12pt;\">item\\xa07a. quantitative and qualitative disclosures about market risk</font></div></td></tr><tr><td style=\"vertical-align:bottom;border-bottom:1px solid #000000;padding-left:2px;padding-top:2px;padding-bottom:2px;padding-right:2px;\"><div style=\"overflow:hidden;height:5px;font-size:10pt;\"><font style=\"font-family:inherit;font-size:10pt;\">\\xa0</font></div></td></tr></table></div></div><div style=\"line-height:120%;padding-top:2px;font-size:9pt;\"><font style=\"font-family:arial;font-size:9pt;\">'"
      ]
     },
     "execution_count": 142,
     "metadata": {},
     "output_type": "execute_result"
    }
   ],
   "source": [
    "doc_10k_str[1131931:1152758]"
   ]
  },
  {
   "cell_type": "code",
   "execution_count": 50,
   "metadata": {},
   "outputs": [],
   "source": [
    "i7 = \"discussion and analysis of financial condition and results of operations\"\n",
    "#i7 = \"financial condition and results of operations\"\n",
    "sec7_find = re.finditer(i7, doc_10k)"
   ]
  },
  {
   "cell_type": "code",
   "execution_count": 51,
   "metadata": {},
   "outputs": [
    {
     "name": "stdout",
     "output_type": "stream",
     "text": [
      "30319\n",
      "518530\n",
      "716604\n"
     ]
    }
   ],
   "source": [
    "for x in sec7_find: \n",
    "    print(x.start())"
   ]
  },
  {
   "cell_type": "code",
   "execution_count": 145,
   "metadata": {},
   "outputs": [
    {
     "data": {
      "text/plain": [
       "'uding successfully integrating acquired businesses, could have an adverse effect on our business, financial condition and results of operations.&#160; Furthermore, we make strategic divestitures from time to time. In the case of divestitures, we may agree to indemnify acquiring parties for certain liabilities arising from our former businesses. These divestitures may also result in continued financial involvement in the divested businesses following the transaction, including through guarantees or other financial arrangements.&#160; Lower performance by those divested businesses could affect our future financial results.</span></div><div><span><br/></span></div><div><span style=\"color:#000000;font-family:\\'Times New Roman\\',sans-serif;font-size:10pt;font-weight:700;line-height:120%\">Union disputes or other labor matters could adversely affect our operations and financial results.</span></div><div><span style=\"color:#000000;font-family:\\'Times New Roman\\',sans-serif;font-size:10pt;font-weight:400;line-height:120%\">&#160;</span></div><div><span style=\"color:#000000;font-family:\\'Times New Roman\\',sans-serif;font-size:10pt;font-weight:400;line-height:120%\">Some of our employees are represented by labor unions in a number of countries under various collective bargaining agreements with varying durations and expiration dates.&#160; There can be no assurance that any current or future issues with our employees will be resolved or that we will not encounter future strikes, work stoppages or other disputes with labor unions or our employees.&#160; We may not be able to satisfactorily renegotiate collective bargaining agreements in the United States and other countries when they expire.&#160; If we fail to renegotiate our existing collective bargaining agreements, we could encounter strikes or work stoppages or other disputes with labor unions.&#160; In addition, existing collective bargaining agreements may not prevent a strike or work stoppage at our facilities in the future.&#160; We may also be subject to general country strikes or work stoppages unrelated to our business or collective bargaining agreements. A work stoppage or other limitations on production at our facilities for any reason could have an adverse effect on our business, results of operations and financial condition. In addition, many of our customers and suppliers have unionized work forces. Strikes or work stoppages experienced by our customers or suppliers could have an adverse effect on our business, results of operations and financial condition.</span></div><div><span><br/></span></div><div><span style=\"color:#000000;font-family:\\'Times New Roman\\',sans-serif;font-size:10pt;font-weight:700;line-height:120%\">Unexpected events may increase our cost of doing business or disrupt our operations.</span></div><div><span style=\"color:#000000;font-family:\\'Times New Roman\\',sans-serif;font-size:10pt;font-weight:400;line-height:120%\">&#160;</span></div><div><span style=\"color:#000000;font-family:\\'Times New Roman\\',sans-serif;font-size:10pt;font-weight:400;line-height:120%\">The occurrence of one or more unexpected events, including war, acts of terrorism or violence, civil unrest, fires, tornadoes, tsunamis, hurricanes, earthquakes, floods and other forms of severe weather in the United States or in other countries in which we operate or in which our suppliers are located could adversely affect our operations and financial performance.&#160; Natural disasters, pandemic illness, including the current COVID-19 outbreak, equipment failures, power outages or other unexpected events could result in physical damage to and complete or partial closure of one or more of our manufacturing facilities or distribution centers, temporary or long-term disruption in the supply of component products from some local and international suppliers, and disruption and delay in the transport of our products to dealers, end-users and distribution centers.&#160; Existing insurance coverage may not provide protection for all of the costs that may arise from such events.</span></div><div><span><br/></span></div><div><span style=\"color:#000000;font-family:\\'Times New Roman\\',sans-serif;font-size:10pt;font-weight:700;line-height:120%\">FINANCIAL RISKS</span></div><div><span><br/></span></div><div><span style=\"color:#000000;font-family:\\'Times New Roman\\',sans-serif;font-size:10pt;font-weight:700;line-height:120%\">Disruptions or volatility in global financial markets could limit our sources of liquidity, or the liquidity of our customers, dealers and suppliers.</span></div><div><span style=\"color:#000000;font-family:\\'Times New Roman\\',sans-serif;font-size:10pt;font-weight:400;line-height:120%\">&#160;</span></div><div><span style=\"color:#000000;font-family:\\'Times New Roman\\',sans-serif;font-size:10pt;font-weight:400;line-height:120%\">Continuing to meet our cash requirements over the long-term requires substantial liquidity and access to varied sources of funds, including capital and credit markets. Global economic conditions may cause volatility and disruptions in the capital and credit markets. Market volatility, changes in counterparty credit risk, the impact of government intervention in financial markets and general economic conditions may also adversely impact our ability to access capital and credit markets to fund operating needs.&#160; Global or regional economic downturns could cause financial markets to decrease the availability of liquidity, credit and credit capacity for certain issuers, including certain customers, dealers and suppliers. An inability to access capital and credit markets may have an adverse effect on our business, results of operations, financial condition and competitive position.  Furthermore, changes in global economic conditions, including material cost increases and decreases in economic activity in key markets we serve, and the success of plans to manage cost increases, inventory and other important elements of our business may significantly impact our ability to generate funds from operations.&#160;</span></div><div style=\"text-align:center\"><span style=\"color:#000000;font-family:\\'Times New Roman\\',sans-serif;font-size:10pt;font-weight:400;line-height:120%\">&#160;</span></div><div><span style=\"color:#000000;font-family:\\'Times New Roman\\',sans-serif;font-size:10pt;font-weight:400;line-height:120%\">In addition, demand for our products generally depends on customers&#8217; ability to pay for our products, which, in turn, depends on their access to funds. Changes in global economic conditions may result in customers experiencing increased difficulty in generating funds from operations. Capital and credit market volatility and uncertainty may cause financial institutions to revise their lending standards, resulting in customers&#8217; decreased access to capital. If capital and credit market volatility occurs, customers&#8217; liquidity may decline which, in turn, would reduce their ability to purchase our products.</span></div><div><span><br/></span></div><div style=\"height:42.75pt;position:relative;width:100%\"><div style=\"bottom:0;position:absolute;width:100%\"><div style=\"text-align:center\"><span style=\"color:#000000;font-family:\\'Times New Roman\\',sans-serif;font-size:10pt;font-weight:400;line-height:120%\">15</span></div></div></div><hr style=\"page-break-after:always\"/><div style=\"min-height:42.75pt;width:100%\"><div><span style=\"color:#0000ff;font-family:\\'Times New Roman\\',sans-serif;font-size:10pt;font-weight:400;line-height:120%;text-decoration:underline\"><a style=\"color:#0000ff;font-family:\\'Times New Roman\\',sans-serif;font-size:10pt;font-weight:400;line-height:120%;text-decoration:underline\" href=\"#if6412df6b19e4bea8ee4f990dd75a3de_7\">Table of Contents</a></span></div></div><div><span style=\"color:#000000;font-family:\\'Times New Roman\\',sans-serif;font-size:10pt;font-weight:700;line-height:120%\">Failure to maintain our credit ratings would increase our cost of borrowing and could adversely affect our cost of funds, liquidity, competitive position and access to capital markets.</span></div><div><span style=\"color:#000000;font-family:\\'Times New Roman\\',sans-serif;font-size:10pt;font-weight:400;line-height:120%\">&#160;</span></div><div><span style=\"color:#000000;font-family:\\'Times New Roman\\',sans-serif;font-size:10pt;font-weight:400;line-height:120%\">Each of Caterpillar&#8217;s and Cat Financial&#8217;s costs of borrowing and their respective ability to access the capital markets are affected not only by market conditions but also by the short- and long-term credit ratings assigned to their respective debt by the major credit rating agencies.&#160; These ratings are based, in significant part, on each of Caterpillar&#8217;s and Cat Financial&#8217;s performance as measured by financial metrics such as net worth, interest coverage and leverage ratios, as well as transparency with rating agencies and timeliness of financial reporting.&#160; There can be no assurance that Caterpillar and Cat Financial will be able to maintain their credit ratings.  We receive debt ratings from the major credit rating agencies.&#160; Moody&#8217;s </span></div><div><span style=\"color:#000000;font-family:\\'Times New Roman\\',sans-serif;font-size:10pt;font-weight:400;line-height:120%\">long- and short-term ratings of Caterpillar and Cat Financial are A3 and Prime-2 (&#8220;low-A&#8221;), while other major credit rating agencies maintain a &#8220;mid-A&#8221; debt rating.  A downgrade of our credit rating by any of the major credit rating agencies would result in increased borrowing costs and could adversely affect Caterpillar&#8217;s and Cat Financial&#8217;s liquidity, competitive position and access to the capital markets, including restricting, in whole or in part, access to the commercial paper market.&#160; There can be no assurance that the commercial paper market will continue to be a reliable source of short-term financing for Cat Financial or an available source of short-term financing for Caterpillar. An inability to access the capital markets could have an adverse effect on our cash flow, results of operations and financial condition.</span></div><div><span style=\"color:#000000;font-family:\\'Times New Roman\\',sans-serif;font-size:10pt;font-weight:400;line-height:120%\">&#160;</span></div><div><span style=\"color:#000000;font-family:\\'Times New Roman\\',sans-serif;font-size:10pt;font-weight:700;line-height:120%\">Our Financial Products segment is subject to risks associated with the financial services industry.</span></div><div><span style=\"color:#000000;font-family:\\'Times New Roman\\',sans-serif;font-size:10pt;font-weight:400;line-height:120%\">&#160;</span></div><div><span style=\"color:#000000;font-family:\\'Times New Roman\\',sans-serif;font-size:10pt;font-weight:400;line-height:120%\">Cat Financial is significant to our operations and provides financing support for a significant share of our global sales. The inability of Cat Financial to access funds to support its financing activities to our customers could have an adverse effect on our business, results of operations and financial condition.</span></div><div><span><br/></span></div><div><span style=\"color:#000000;font-family:\\'Times New Roman\\',sans-serif;font-size:10pt;font-weight:400;line-height:120%\">Continuing to meet Cat Financial\\'s cash requirements over the long-term could require substantial liquidity and access to sources of funds, including capital and credit markets. Cat Financial has continued to maintain access to key global medium term note and commercial paper markets, but there can be no assurance that such markets will continue to represent a reliable source of financing. If global economic conditions were to deteriorate, Cat Financial could face materially higher financing costs, become unable to access adequate funding to operate and grow its business and/or meet its debt service obligations as they mature, and be required to draw upon contractually committed lending agreements and/or seek other funding sources. However, there can be no assurance that such agreements and other funding sources would be available or sufficient under extreme market conditions.&#160; Any of these events could negatively impact Cat Financial&#8217;s business, as well as our and Cat Financial\\'s results of operations and financial condition. </span></div><div><span style=\"color:#000000;font-family:\\'Times New Roman\\',sans-serif;font-size:10pt;font-weight:400;line-height:120%\">&#160;</span></div><div><span style=\"color:#000000;font-family:\\'Times New Roman\\',sans-serif;font-size:10pt;font-weight:400;line-height:120%\">Market disruption and volatility may also lead to a number of other risks in connection with these events, including but not limited to:</span></div><div><span><br/></span></div><div style=\"padding-left:36pt;text-indent:-18pt\"><span style=\"color:#000000;font-family:\\'Times New Roman\\',sans-serif;font-size:10pt;font-weight:400;line-height:120%\">&#8226;</span><span style=\"color:#000000;font-family:\\'Times New Roman\\',sans-serif;font-size:10pt;font-weight:400;line-height:120%;padding-left:14.5pt\">Market developments that may affect customer confidence levels and cause declines in the demand for financing and adverse changes in payment patterns, causing increases in delinquencies and default rates, which could impact Cat Financial&#8217;s write-offs and provision for credit losses.</span></div><div><span><br/></span></div><div style=\"padding-left:36pt;text-indent:-18pt\"><span style=\"color:#000000;font-family:\\'Times New Roman\\',sans-serif;font-size:10pt;font-weight:400;line-height:120%\">&#8226;</span><span style=\"color:#000000;font-family:\\'Times New Roman\\',sans-serif;font-size:10pt;font-weight:400;line-height:120%;padding-left:14.5pt\">The process Cat Financial uses to estimate losses inherent in its credit exposure requires a high degree of management&#8217;s judgment regarding numerous subjective qualitative factors, including forecasts of economic conditions and how economic predictors might impair the ability of its borrowers to repay their loans.&#160; Financial market disruption and volatility may impact the accuracy of these judgments.</span></div><div><span><br/></span></div><div style=\"padding-left:36pt;text-indent:-18pt\"><span style=\"color:#000000;font-family:\\'Times New Roman\\',sans-serif;font-size:10pt;font-weight:400;line-height:120%\">&#8226;</span><span style=\"color:#000000;font-family:\\'Times New Roman\\',sans-serif;font-size:10pt;font-weight:400;line-height:120%;padding-left:14.5pt\">Cat Financial&#8217;s ability to engage in routine funding transactions or borrow from other financial institutions on acceptable terms or at all could be adversely affected by disruptions in the capital markets or other events, including actions by rating agencies and deteriorating investor expectations.</span></div><div><span><br/></span></div><div style=\"padding-left:36pt;text-indent:-18pt\"><span style=\"color:#000000;font-family:\\'Times New Roman\\',sans-serif;font-size:10pt;font-weight:400;line-height:120%\">&#8226;</span><span style=\"color:#000000;font-family:\\'Times New Roman\\',sans-serif;font-size:10pt;font-weight:400;line-height:120%;padding-left:14.5pt\">As Cat Financial&#8217;s lending agreements are primarily with financial institutions, their ability to perform in accordance with any of its underlying agreements could be adversely affected by market volatility and/or disruptions in financial markets.</span></div><div style=\"height:42.75pt;position:relative;width:100%\"><div style=\"bottom:0;position:absolute;width:100%\"><div style=\"text-align:center\"><span style=\"color:#000000;font-family:\\'Times New Roman\\',sans-serif;font-size:10pt;font-weight:400;line-height:120%\">16</span></div></div></div><hr style=\"page-break-after:always\"/><div style=\"min-height:42.75pt;width:100%\"><div><span style=\"color:#0000ff;font-family:\\'Times New Roman\\',sans-serif;font-size:10pt;font-weight:400;line-height:120%;text-decoration:underline\"><a style=\"color:#0000ff;font-family:\\'Times New Roman\\',sans-serif;font-size:10pt;font-weight:400;line-height:120%;text-decoration:underline\" href=\"#if6412df6b19e4bea8ee4f990dd75a3de_7\">Table of Contents</a></span></div></div><div><span style=\"color:#000000;font-family:\\'Times New Roman\\',sans-serif;font-size:10pt;font-weight:700;line-height:120%\">Changes in interest rates or market liquidity conditions could adversely affect Cat Financial\\'s and our earnings and/or cash flow.</span></div><div><span style=\"color:#000000;font-family:\\'Times New Roman\\',sans-serif;font-size:10pt;font-weight:400;line-height:115%\">Changes in interest rates and market liquidity conditions could have an adverse impact on Cat Financial\\'s and our earnings and cash flows. Because a significant number of the loans made by Cat Financial are made at fixed interest rates, its business results are subject to fluctuations in interest rates. Certain loans made by Cat Financial and various financing extended to Cat Financial are made at variable rates that use LIBOR as a benchmark for establishing the interest rate.&#160; LIBOR is the subject of recent proposals for reform.&#160; On July 27, 2017, the United Kingdom&#8217;s Financial Conduct Authority (\"FCA\")  announced that it intends to stop persuading or compelling banks to submit LIBOR rates after 2021.&#160; On November 18, 2020, ICE Benchmark Administration (\"IBA\"), the administrator of USD LIBOR, announced plans to consult on its intention to cease the publication of all GBP, EUR, CHF and JPY LIBOR settings immediately following the LIBOR publication on December 31, 2021. On November 30, 2020, IBA, with the support of the United States Federal Reserve and the FCA, announced plans to consult on ceasing publication of USD LIBOR on December 31, 2021 for only the one week and two month USD LIBOR tenors, and on June 30, 2023 for all other USD LIBOR tenors.  While the November 30th announcement extends the transition period to June 2023, the United States Federal Reserve concurrently issued a statement advising banks to stop new USD LIBOR issuances by the end of 2021. These reforms may cause LIBOR to cease to exist, new methods of calculating LIBOR to be established such that LIBOR continues to exist after 2021 or the establishment of an alternative reference rate(s).&#160; Several offerings of securities that include such an alternative reference rate have now been completed by other companies. The consequences of these developments cannot be entirely predicted and could have an adverse impact on the market value for or value of LIBOR-linked securities, loans, derivatives, and other financial obligations or extensions of credit held by or due to Cat Financial, as well as the revenue and expenses associated with those securities, loans and financial instruments. Cat Financial has created a cross-functional team that will assess risk across multiple categories as it relates to the use of LIBOR in securities, loans, derivatives, and other financial obligations or extensions of credit held by or due to us. Other changes in market interest rates may influence Cat Financial&#8217;s  borrowing costs and could reduce its and our earnings and cash flows, returns on financial investments and the valuation of derivative contracts. Cat Financial manages interest rate and market liquidity risks through a variety of techniques that include a match funding strategy, the selective use of derivatives and a broadly diversified funding program. There can be no assurance, however, that fluctuations in interest rates and market liquidity conditions will not have an adverse impact on its and our earnings and cash flows. If any of the variety of instruments and strategies Cat Financial uses to hedge its exposure to these types of risk is ineffective, this may have an adverse impact on our earnings and cash flows.&#160; With respect to Insurance Services\\' investment activities, changes in the equity and bond markets could result in a decline in value of its investment portfolio, resulting in an unfavorable impact to earnings. </span></div><div><span><br/></span></div><div><span style=\"color:#000000;font-family:\\'Times New Roman\\',sans-serif;font-size:10pt;font-weight:700;line-height:120%\">An increase in delinquencies, repossessions or net losses of Cat Financial customers could adversely affect its results.</span></div><div><span style=\"color:#000000;font-family:\\'Times New Roman\\',sans-serif;font-size:10pt;font-weight:400;line-height:120%\">&#160;</span></div><div><span style=\"color:#000000;font-family:\\'Times New Roman\\',sans-serif;font-size:10pt;font-weight:400;line-height:120%\">Inherent in the operation of Cat Financial is the credit risk associated with its customers. The creditworthiness of each customer and the rate of delinquencies, repossessions and net losses on customer obligations are directly impacted by several factors, including relevant industry and economic conditions, the availability of capital, the experience and expertise of the customer\\'s management team, commodity prices, political events and the sustained value of the underlying collateral. Any increase in delinquencies, repossessions and net losses on customer obligations could have a material adverse effect on Cat Financial\\'s and our earnings and cash flows. In addition, although Cat Financial evaluates and adjusts its allowance for credit losses related to past due and non-performing receivables on a regular basis, adverse economic conditions or other factors that might cause deterioration of the financial health of its customers could change the timing and level of payments received and necessitate an increase in Cat Financial\\'s estimated losses, which could also have a material adverse effect on Cat Financial\\'s and our earnings and cash flows.</span></div><div><span><br/></span></div><div><span style=\"color:#000000;font-family:\\'Times New Roman\\',sans-serif;font-size:10pt;font-weight:700;line-height:120%\">Currency exchange rate fluctuations affect our results of operations.</span></div><div><span style=\"color:#000000;font-family:\\'Times New Roman\\',sans-serif;font-size:10pt;font-weight:400;line-height:120%\">&#160;</span></div><div><span style=\"color:#000000;font-family:\\'Times New Roman\\',sans-serif;font-size:10pt;font-weight:400;line-height:120%\">We conduct operations in many countries involving transactions denominated in a variety of currencies.&#160; We are subject to currency exchange rate risk to the extent that our costs are denominated in currencies other than those in which we earn revenues.&#160; Fluctuations in currency exchange rates have had, and will continue to have, an impact on our results as expressed in U.S. dollars.&#160; There can be no assurance that currency exchange rate fluctuations will not adversely affect our results of operations, financial condition and cash flows. While the use of currency hedging instruments may provide us with protection from adverse fluctuations in currency exchange rates, by utilizing these instruments we potentially forego the benefits that might result from favorable fluctuations in currency exchange rates. In addition, our outlooks do not assume fluctuations in currency exchange rates. Adverse fluctuations in currency exchange rates from the date of our outlooks could cause our actual results to differ materially from those anticipated in our outlooks and adversely impact our business, results of operations and financial condition. </span></div><div><span style=\"color:#000000;font-family:\\'Times New Roman\\',sans-serif;font-size:10pt;font-weight:400;line-height:120%\">&#160;</span></div><div style=\"height:42.75pt;position:relative;width:100%\"><div style=\"bottom:0;position:absolute;width:100%\"><div style=\"text-align:center\"><span style=\"color:#000000;font-family:\\'Times New Roman\\',sans-serif;font-size:10pt;font-weight:400;line-height:120%\">17</span></div></div></div><hr style=\"page-break-after:always\"/><div style=\"min-height:42.75pt;width:100%\"><div><span style=\"color:#0000ff;font-family:\\'Times New Roman\\',sans-serif;font-size:10pt;font-weight:400;line-height:120%;text-decoration:underline\"><a style=\"color:#0000ff;font-family:\\'Times New Roman\\',sans-serif;font-size:10pt;font-weight:400;line-height:120%;text-decoration:underline\" href=\"#if6412df6b19e4bea8ee4f990dd75a3de_7\">Table of Contents</a></span></div></div><div><span style=\"color:#000000;font-family:\\'Times New Roman\\',sans-serif;font-size:10pt;font-weight:400;line-height:120%\">We also face risks arising from the imposition of exchange controls and currency devaluations. Exchange controls may limit our ability to convert foreign currencies into U.S. dollars or to remit dividends and other payments by our foreign subsidiaries or businesses located in or conducted within a country imposing controls. Currency devaluations result in a diminished value of funds denominated in the currency of the country instituting the devaluation.</span></div><div><span style=\"color:#000000;font-family:\\'Times New Roman\\',sans-serif;font-size:10pt;font-weight:400;line-height:120%\">&#160;</span></div><div><span style=\"color:#000000;font-family:\\'Times New Roman\\',sans-serif;font-size:10pt;font-weight:700;line-height:120%\">Restrictive covenants in our debt agreements could limit our financial and operating flexibility.</span></div><div><span style=\"color:#000000;font-family:\\'Times New Roman\\',sans-serif;font-size:10pt;font-weight:400;line-height:120%\">&#160;</span></div><div><span style=\"color:#000000;font-family:\\'Times New Roman\\',sans-serif;font-size:10pt;font-weight:400;line-height:120%\">We maintain a number of credit facilities to support general corporate purposes (facilities) and have issued debt securities to manage liquidity and fund operations (debt securities).&#160; The agreements relating to a number of the facilities and the debt securities contain certain restrictive covenants applicable to us and certain subsidiaries, including Cat Financial.&#160; These covenants include maintaining a minimum consolidated net worth (defined as the consolidated shareholder&#8217;s equity including preferred stock but excluding the pension and other post-retirement benefits balance within accumulated other comprehensive income (loss)), limitations on the incurrence of liens and certain restrictions on consolidation and merger. Cat Financial has also agreed under certain of these agreements not to exceed a certain leverage ratio (consolidated debt to consolidated net worth, calculated (1)&#160;on a monthly basis as the average of the leverage ratios determined on the last day of each of the six preceding calendar months and (2)&#160;at each December&#160;31), to maintain a minimum interest coverage ratio (profit excluding income taxes, interest expense and net gain/(loss) from interest rate derivatives to interest expense, calculated at the end of each calendar quarter for the rolling four quarter period then most recently ended) and not to terminate, amend or modify its support agreement with us.</span></div><div><span style=\"color:#000000;font-family:\\'Times New Roman\\',sans-serif;font-size:10pt;font-weight:400;line-height:120%\">&#160;</span></div><div><span style=\"color:#000000;font-family:\\'Times New Roman\\',sans-serif;font-size:10pt;font-weight:400;line-height:120%\">A breach of one or more of the covenants could result in adverse consequences that could negatively impact our business, results of operations and financial condition. These consequences may include the acceleration of amounts outstanding under certain of the facilities, triggering of an obligation to redeem certain debt securities, termination of existing unused commitments by our lenders, refusal by our lenders to extend further credit under one or more of the facilities or to enter into new facilities or the lowering or modification of our credit ratings or those of one or more of our subsidiaries.</span></div><div><span style=\"color:#000000;font-family:\\'Times New Roman\\',sans-serif;font-size:10pt;font-weight:400;line-height:120%\">&#160;</span></div><div><span style=\"color:#000000;font-family:\\'Times New Roman\\',sans-serif;font-size:10pt;font-weight:700;line-height:120%\">Sustained increases in funding obligations under our pension plans may impair our liquidity or financial condition.</span></div><div><span style=\"color:#000000;font-family:\\'Times New Roman\\',sans-serif;font-size:10pt;font-weight:400;line-height:120%\">&#160;</span></div><div><span style=\"color:#000000;font-family:\\'Times New Roman\\',sans-serif;font-size:10pt;font-weight:400;line-height:120%\">We maintain certain defined benefit pension plans for our employees, which impose on us certain funding obligations. In determining our future payment obligations under the plans, we assume certain rates of return on the plan assets and a certain level of future benefit payments.  Significant adverse changes in credit or capital markets could result in actual rates of return being materially lower than projected and result in increased contribution requirements.&#160; Our assumptions for future benefit payments may also change over time and could be materially higher than originally projected. We expect to make contributions to our pension plans in the future, and may be required to make contributions that could be material.&#160; We may fund contributions through the use of cash on hand, the proceeds of borrowings, shares of our common stock or a combination of the foregoing, as permitted by applicable law.  Our assumptions for future benefit payments may change over time and could be materially higher than projected.&#160; These factors could significantly increase our payment obligations under the plans, and as a result, adversely affect our business and overall financial condition.</span></div><div><span><br/></span></div><div><span style=\"color:#000000;font-family:\\'Times New Roman\\',sans-serif;font-size:10pt;font-weight:700;line-height:120%\">LEGAL &amp; REGULATORY RISKS</span></div><div><span><br/></span></div><div><span style=\"color:#000000;font-family:\\'Times New Roman\\',sans-serif;font-size:10pt;font-weight:700;line-height:120%\">Our global operations are subject to a wide-range of trade and anti-corruption laws and regulations.</span></div><div><span style=\"color:#000000;font-family:\\'Times New Roman\\',sans-serif;font-size:10pt;font-weight:400;line-height:120%\">&#160;</span></div><div><span style=\"color:#000000;font-family:\\'Times New Roman\\',sans-serif;font-size:10pt;font-weight:400;line-height:120%\">Due to the international scope of our operations, we are subject to a complex system of import- and export-related laws and regulations, including U.S. regulations issued by Customs and Border Protection, the Bureau of Industry and Security, the Office of Antiboycott Compliance, the Directorate of Defense Trade Controls and the Office of Foreign Assets Control, as well as the counterparts of these agencies in other countries.&#160; Any alleged or actual violations may subject us to increased government scrutiny, investigation and civil and criminal penalties, and may limit our ability to import or export our products or to provide services outside the United States.&#160; Furthermore, embargoes and sanctions imposed by the U.S. and other governments restricting or prohibiting sales to specific persons or countries or based on product classification may expose us to potential criminal and civil sanctions. We cannot predict the nature, scope or effect of future regulatory requirements to which our operations might be subject or in certain locations the manner in which existing laws might be administered or interpreted.</span></div><div><span style=\"color:#000000;font-family:\\'Times New Roman\\',sans-serif;font-size:10pt;font-weight:400;line-height:120%\">&#160;</span></div><div style=\"height:42.75pt;position:relative;width:100%\"><div style=\"bottom:0;position:absolute;width:100%\"><div style=\"text-align:center\"><span style=\"color:#000000;font-family:\\'Times New Roman\\',sans-serif;font-size:10pt;font-weight:400;line-height:120%\">18</span></div></div></div><hr style=\"page-break-after:always\"/><div style=\"min-height:42.75pt;width:100%\"><div><span style=\"color:#0000ff;font-family:\\'Times New Roman\\',sans-serif;font-size:10pt;font-weight:400;line-height:120%;text-decoration:underline\"><a style=\"color:#0000ff;font-family:\\'Times New Roman\\',sans-serif;font-size:10pt;font-weight:400;line-height:120%;text-decoration:underline\" href=\"#if6412df6b19e4bea8ee4f990dd75a3de_7\">Table of Contents</a></span></div></div><div><span style=\"color:#000000;font-family:\\'Times New Roman\\',sans-serif;font-size:10pt;font-weight:400;line-height:120%\">In addition, the U.S. Foreign Corrupt Practices Act and similar foreign anti-corruption laws generally prohibit companies and their intermediaries from making improper payments or providing anything of value to improperly influence foreign government officials for the purpose of obtaining or retaining business, or obtaining an unfair advantage. Recent years have seen a substantial increase in the global enforcement of anti-corruption laws.&#160; Our operations outside the United States, including in developing countries, expose us to the risk of such violations.  Violations of anti-corruption laws or regulations by our employees, intermediaries acting on our behalf, or our joint venture partners may result in severe criminal or civil sanctions, could disrupt our business, and result in an adverse effect on our reputation, business and results of operations or financial condition.</span></div><div><span><br/></span></div><div><span style=\"color:#000000;font-family:\\'Times New Roman\\',sans-serif;font-size:10pt;font-weight:700;line-height:120%\">International trade policies may impact demand for our products and our competitive position.</span></div><div><span style=\"color:#000000;font-family:\\'Times New Roman\\',sans-serif;font-size:10pt;font-weight:400;line-height:120%\">&#160;</span></div><div><span style=\"color:#000000;font-family:\\'Times New Roman\\',sans-serif;font-size:10pt;font-weight:400;line-height:120%\">Government policies on international trade and investment such as import quotas, capital controls or tariffs, whether adopted by individual governments or addressed by regional trade blocs, can affect the demand for our products and services, impact the competitive position of our products or prevent us from being able to sell products in certain countries.&#160; The implementation of more restrictive trade policies, such as more detailed inspections, higher tariffs or new barriers to entry, in countries where we sell large quantities of products and services could negatively impact our business, results of operations and financial condition.&#160; For example, a government&#8217;s adoption of &#8220;buy national&#8221; policies or retaliation by another government against such policies could have a negative impact on our results of operations.</span></div><div><span><br/></span></div><div><span style=\"color:#000000;font-family:\\'Times New Roman\\',sans-serif;font-size:10pt;font-weight:700;line-height:120%\">We may incur additional tax expense or become subject to additional tax exposure.</span></div><div><span style=\"color:#000000;font-family:\\'Times New Roman\\',sans-serif;font-size:10pt;font-weight:400;line-height:120%\">&#160;</span></div><div><span style=\"color:#000000;font-family:\\'Times New Roman\\',sans-serif;font-size:10pt;font-weight:400;line-height:120%\">We are subject to income taxes in the United States and numerous other jurisdictions. Our future results of operations could be adversely affected by changes in the effective tax rate as a result of a change in the mix of earnings between U.S. and non-U.S. jurisdictions or among jurisdictions with differing statutory tax rates, changes in our overall profitability, changes in tax laws or treaties or in their application or interpretation, changes in tax rates, changes in generally accepted accounting principles, changes in the valuation of deferred tax assets and liabilities, changes in the amount of earnings indefinitely reinvested in certain non-U.S. jurisdictions, the results of audits and examinations of previously filed tax returns and continuing assessments of our tax exposures. We are also subject to the continuous examination of our income tax returns by the U.S. Internal Revenue Service and other tax authorities. We regularly assess the likelihood of an adverse outcome resulting from these examinations. If our effective tax rates were to increase, or if the ultimate determination of our taxes owed is for an amount in excess of amounts previously accrued, our operating results, cash flows and financial condition could be adversely affected. For information regarding additional legal matters related to our taxes, please see Note 6 &#8212; &#8220;Income taxes&#8221; and Note 22 &#8212; &#8220;Environmental and legal matters&#8221; of Part II, Item 8 &#8220;Financial Statements and Supplementary Data&#8221; to this Annual Report on Form 10-K</span><span style=\"color:#1f497d;font-family:\\'Times New Roman\\',sans-serif;font-size:10pt;font-weight:400;line-height:120%\">. </span></div><div><span><br/></span></div><div><span style=\"color:#000000;font-family:\\'Times New Roman\\',sans-serif;font-size:10pt;font-weight:700;line-height:120%\">Costs associated with lawsuits or investigations or adverse rulings in enforcement or other legal proceedings may have an adverse effect on our results of operations.</span></div><div><span style=\"color:#000000;font-family:\\'Times New Roman\\',sans-serif;font-size:10pt;font-weight:400;line-height:120%\">&#160;</span></div><div><span style=\"color:#000000;font-family:\\'Times New Roman\\',sans-serif;font-size:10pt;font-weight:400;line-height:120%\">We are subject to a variety of legal proceedings and legal compliance risks in virtually every part of the world. We face risk of exposure to various types of claims, lawsuits and government investigations. We are involved in various claims and lawsuits related to product design, manufacture and performance liability (including claimed asbestos exposure), contracts, employment issues, environmental matters, intellectual property rights, tax, securities and other legal proceedings that arise in and outside of the ordinary course of our business.&#160; The industries in which we operate are also periodically reviewed or investigated by regulators, which could lead to enforcement actions, fines and penalties or the assertion of private litigation claims.&#160; It is not possible to predict with certainty the outcome of claims, investigations and lawsuits, and we could in the future incur judgments, fines or penalties or enter into settlements of lawsuits and claims that could have an adverse effect on our reputation, business, results of operations or financial condition in any particular period.&#160;</span></div><div><span><br/></span></div><div><span style=\"color:#000000;font-family:\\'Times New Roman\\',sans-serif;font-size:10pt;font-weight:400;line-height:120%\">The global and diverse nature of our operations means that legal and compliance risks will continue to exist and additional legal proceedings and other contingencies, the outcome of which cannot be predicted with certainty, may arise from time to time. In addition, subsequent developments in legal proceedings may affect our assessment and estimates of loss contingencies recorded as a reserve and require us to make payments in excess of our reserves, which could have an adverse effect on our reputation, business and results of operations or financial condition.</span></div><div><span><br/></span></div><div style=\"height:42.75pt;position:relative;width:100%\"><div style=\"bottom:0;position:absolute;width:100%\"><div style=\"text-align:center\"><span style=\"color:#000000;font-family:\\'Times New Roman\\',sans-serif;font-size:10pt;font-weight:400;line-height:120%\">19</span></div></div></div><hr style=\"page-break-after:always\"/><div style=\"min-height:42.75pt;width:100%\"><div><span style=\"color:#0000ff;font-family:\\'Times New Roman\\',sans-serif;font-size:10pt;font-weight:400;line-height:120%;text-decoration:underline\"><a style=\"color:#0000ff;font-family:\\'Times New Roman\\',sans-serif;font-size:10pt;font-weight:400;line-height:120%;text-decoration:underline\" href=\"#if6412df6b19e4bea8ee4f990dd75a3de_7\">Table of Contents</a></span></div></div><div><span style=\"color:#000000;font-family:\\'Times New Roman\\',sans-serif;font-size:10pt;font-weight:700;line-height:120%\">New regulations or changes in financial services regulation could adversely impact Caterpillar and Cat Financial.</span></div><div><span style=\"color:#000000;font-family:\\'Times New Roman\\',sans-serif;font-size:10pt;font-weight:400;line-height:120%\">&#160;</span></div><div><span style=\"color:#000000;font-family:\\'Times New Roman\\',sans-serif;font-size:10pt;font-weight:400;line-height:120%\">Cat Financial&#8217;s operations are highly regulated by governmental authorities in the locations where it operates, which can impose significant additional costs and/or restrictions on its business. In the United States, for example, certain Cat Financial activities are subject to the U.S. Dodd-Frank Wall Street Reform and Consumer Protection Act (Dodd-Frank), which includes extensive provisions regulating the financial services industry. As a result, Cat Financial has become and could continue to become subject to additional regulatory costs that could be significant</span><span style=\"color:#000000;font-family:\\'Times New Roman\\',sans-serif;font-size:11pt;font-weight:400;line-height:120%\"> </span><span style=\"color:#000000;font-family:\\'Times New Roman\\',sans-serif;font-size:10pt;font-weight:400;line-height:120%\">and have an adverse effect on Cat Financial</span><span style=\"color:#000000;font-family:\\'Times New Roman\\',sans-serif;font-size:11pt;font-weight:400;line-height:120%\">&#8217;</span><span style=\"color:#000000;font-family:\\'Times New Roman\\',sans-serif;font-size:10pt;font-weight:400;line-height:120%\">s and our results of operations and financial condition. Changes in regulations or additional regulations in the United States or internationally impacting the financial services industry could also add significant cost or operational constraints that might have an adverse effect on Cat Financial</span><span style=\"color:#000000;font-family:\\'Times New Roman\\',sans-serif;font-size:11pt;font-weight:400;line-height:120%\">&#8217;</span><span style=\"color:#000000;font-family:\\'Times New Roman\\',sans-serif;font-size:10pt;font-weight:400;line-height:120%\">s and our results of operations and financial condition. </span></div><div><span><br/></span></div><div><span style=\"color:#000000;font-family:\\'Times New Roman\\',sans-serif;font-size:10pt;font-weight:700;line-height:120%\">We are subject to stringent environmental laws and regulations that impose significant compliance costs.</span></div><div><span style=\"color:#000000;font-family:\\'Times New Roman\\',sans-serif;font-size:10pt;font-weight:400;line-height:120%\">&#160;</span></div><div><span style=\"color:#000000;font-family:\\'Times New Roman\\',sans-serif;font-size:10pt;font-weight:400;line-height:120%\">Our facilities, operations and products are subject to increasingly stringent environmental laws and regulations globally, including laws and regulations governing emissions to noise, air, releases to soil and discharges to water and the generation, handling, storage, transportation, treatment and disposal of non-hazardous and hazardous waste materials. Some environmental laws impose strict, retroactive and joint and several liability for the remediation of the release of hazardous substances, even for conduct that was lawful at the time it occurred, or for the conduct of, or conditions caused by, prior operators, predecessors or other third parties. Failure to comply with environmental laws could expose us to penalties or clean-up costs, civil or criminal liability and sanctions on certain of our activities, as well as damage to property or natural resources. The potential liabilities, sanctions, damages and remediation efforts related to any non-compliance with such laws and regulations could negatively impact our ability to conduct our operations and our '"
      ]
     },
     "execution_count": 145,
     "metadata": {},
     "output_type": "execute_result"
    }
   ],
   "source": [
    "doc_10k[1087900:1132112]"
   ]
  },
  {
   "cell_type": "code",
   "execution_count": 96,
   "metadata": {},
   "outputs": [
    {
     "ename": "TypeError",
     "evalue": "expected string or bytes-like object",
     "output_type": "error",
     "traceback": [
      "\u001b[0;31m---------------------------------------------------------------------------\u001b[0m",
      "\u001b[0;31mTypeError\u001b[0m                                 Traceback (most recent call last)",
      "\u001b[0;32m<ipython-input-96-da367217c6f2>\u001b[0m in \u001b[0;36m<module>\u001b[0;34m\u001b[0m\n\u001b[1;32m      1\u001b[0m \u001b[0;31m#i7 = 'management&#8217;s discussion and analysis of financial condition and results of operations'\u001b[0m\u001b[0;34m\u001b[0m\u001b[0;34m\u001b[0m\u001b[0;34m\u001b[0m\u001b[0m\n\u001b[1;32m      2\u001b[0m \u001b[0mi7\u001b[0m \u001b[0;34m=\u001b[0m \u001b[0;34m\"s discussion and analysis of financial condition and results of operations\"\u001b[0m\u001b[0;34m\u001b[0m\u001b[0;34m\u001b[0m\u001b[0m\n\u001b[0;32m----> 3\u001b[0;31m \u001b[0msec7_find\u001b[0m \u001b[0;34m=\u001b[0m \u001b[0mre\u001b[0m\u001b[0;34m.\u001b[0m\u001b[0mfinditer\u001b[0m\u001b[0;34m(\u001b[0m\u001b[0mi7\u001b[0m\u001b[0;34m,\u001b[0m \u001b[0mdoc_10k\u001b[0m\u001b[0;34m)\u001b[0m\u001b[0;34m\u001b[0m\u001b[0;34m\u001b[0m\u001b[0m\n\u001b[0m\u001b[1;32m      4\u001b[0m \u001b[0mi7a\u001b[0m \u001b[0;34m=\u001b[0m \u001b[0;34m'quantitative and qualitative disclosures about market risk'\u001b[0m\u001b[0;34m\u001b[0m\u001b[0;34m\u001b[0m\u001b[0m\n\u001b[1;32m      5\u001b[0m \u001b[0msec7a_find\u001b[0m \u001b[0;34m=\u001b[0m \u001b[0mre\u001b[0m\u001b[0;34m.\u001b[0m\u001b[0mfinditer\u001b[0m\u001b[0;34m(\u001b[0m\u001b[0mi7a\u001b[0m\u001b[0;34m,\u001b[0m \u001b[0mdoc_10k\u001b[0m\u001b[0;34m)\u001b[0m\u001b[0;34m\u001b[0m\u001b[0;34m\u001b[0m\u001b[0m\n",
      "\u001b[0;32m~/.pyenv/versions/3.7.3/lib/python3.7/re.py\u001b[0m in \u001b[0;36mfinditer\u001b[0;34m(pattern, string, flags)\u001b[0m\n\u001b[1;32m    228\u001b[0m \u001b[0;34m\u001b[0m\u001b[0m\n\u001b[1;32m    229\u001b[0m     Empty matches are included in the result.\"\"\"\n\u001b[0;32m--> 230\u001b[0;31m     \u001b[0;32mreturn\u001b[0m \u001b[0m_compile\u001b[0m\u001b[0;34m(\u001b[0m\u001b[0mpattern\u001b[0m\u001b[0;34m,\u001b[0m \u001b[0mflags\u001b[0m\u001b[0;34m)\u001b[0m\u001b[0;34m.\u001b[0m\u001b[0mfinditer\u001b[0m\u001b[0;34m(\u001b[0m\u001b[0mstring\u001b[0m\u001b[0;34m)\u001b[0m\u001b[0;34m\u001b[0m\u001b[0;34m\u001b[0m\u001b[0m\n\u001b[0m\u001b[1;32m    231\u001b[0m \u001b[0;34m\u001b[0m\u001b[0m\n\u001b[1;32m    232\u001b[0m \u001b[0;32mdef\u001b[0m \u001b[0mcompile\u001b[0m\u001b[0;34m(\u001b[0m\u001b[0mpattern\u001b[0m\u001b[0;34m,\u001b[0m \u001b[0mflags\u001b[0m\u001b[0;34m=\u001b[0m\u001b[0;36m0\u001b[0m\u001b[0;34m)\u001b[0m\u001b[0;34m:\u001b[0m\u001b[0;34m\u001b[0m\u001b[0;34m\u001b[0m\u001b[0m\n",
      "\u001b[0;31mTypeError\u001b[0m: expected string or bytes-like object"
     ]
    }
   ],
   "source": [
    "#i7 = 'management&#8217;s discussion and analysis of financial condition and results of operations'\n",
    "i7 = \"s discussion and analysis of financial condition and results of operations\"\n",
    "sec7_find = re.finditer(i7, doc_10k)\n",
    "i7a = 'quantitative and qualitative disclosures about market risk' \n",
    "sec7a_find = re.finditer(i7a, doc_10k)\n",
    "    \n",
    "# moving keyword range to dataframe\n",
    "sec7_start_range = []\n",
    "sec7_end_range = []\n",
    "for x in sec7_find: \n",
    "    print(x.start())\n",
    "    print(x.end())\n",
    "    sec7_start_range.append(x.start())\n",
    "    sec7_end_range.append(x.end())\n",
    "    sec7_df = pd.DataFrame({'start': sec7_start_range,'end': sec7_end_range})\n",
    "sec7a_start_range = []\n",
    "sec7a_end_range = []    \n",
    "for x in sec7a_find: \n",
    "    print(x.start())\n",
    "    print(x.end())\n",
    "    sec7a_start_range.append(x.start())\n",
    "    sec7a_end_range.append(x.end())\n",
    "    sec7a_df = pd.DataFrame({'start': sec7a_start_range,'end': sec7a_end_range})\n",
    "    \n",
    "#qc check\n",
    "for index, row in sec7_df.iterrows():\n",
    "    print(row['start'], row['end'])\n",
    "    print('7aaaa')\n",
    "for index, row in sec7a_df.iterrows():\n",
    "    print(row['start'], row['end'])\n"
   ]
  },
  {
   "cell_type": "code",
   "execution_count": 114,
   "metadata": {},
   "outputs": [],
   "source": [
    "    \n",
    "# get possible ranges \n",
    "possible_start_range = []\n",
    "possible_end_range = []\n",
    "for index, row7a in sec7a_df.iterrows():\n",
    "    filtered = []\n",
    "    for i, row7 in sec7_df.iterrows():\n",
    "        if row7['end'] < row7a['start']:\n",
    "            filtered.append(row7['end'])\n",
    "    #print(filtered)\n",
    "    max_y = max(filtered)\n",
    "    possible_start_range.append(max_y)\n",
    "    possible_end_range.append(row7a['start']-1)\n",
    "    \n",
    "    # qc \n",
    "    #for x in possible_start_range:\n",
    "    #    print(x)\n",
    "    \n",
    "    # get the largest possible range\n",
    "possible_df = pd.DataFrame({'start': possible_start_range,'end': possible_end_range})\n",
    "possible_df['delta'] = possible_df['end'] - possible_df['start']\n",
    "    \n",
    "possible_df = possible_df.loc[possible_df['delta'].idxmax()]\n"
   ]
  },
  {
   "cell_type": "code",
   "execution_count": 115,
   "metadata": {},
   "outputs": [
    {
     "data": {
      "text/plain": [
       "start    45884\n",
       "end      46460\n",
       "delta      576\n",
       "Name: 0, dtype: int64"
      ]
     },
     "execution_count": 115,
     "metadata": {},
     "output_type": "execute_result"
    }
   ],
   "source": [
    "possible_df"
   ]
  },
  {
   "cell_type": "code",
   "execution_count": 116,
   "metadata": {},
   "outputs": [],
   "source": [
    "item_7_content = doc_10k[possible_df['start']:possible_df['end']]\n",
    "sss = preprocess(item_7_content)\n",
    "bagOfWordsA = sss.split(' ')"
   ]
  },
  {
   "cell_type": "code",
   "execution_count": 117,
   "metadata": {},
   "outputs": [
    {
     "data": {
      "text/plain": [
       "['amp',\n",
       " 'vgp',\n",
       " 'amp',\n",
       " 'jmo',\n",
       " 'xouqw',\n",
       " 'cqgi',\n",
       " 'amp',\n",
       " 'hwb',\n",
       " 'amp',\n",
       " 'ebedj',\n",
       " 'hly',\n",
       " 'mfdh',\n",
       " 'amp',\n",
       " 'ipftsh',\n",
       " 'yck',\n",
       " 'ynn',\n",
       " 'yphbtxx',\n",
       " 'tksj',\n",
       " 'lgf',\n",
       " 'gwonu',\n",
       " 'amp',\n",
       " 'mwekkacmz',\n",
       " 'amp',\n",
       " 'naibt',\n",
       " 'kkf',\n",
       " 'bizxh',\n",
       " 'amp']"
      ]
     },
     "execution_count": 117,
     "metadata": {},
     "output_type": "execute_result"
    }
   ],
   "source": [
    "bagOfWordsA"
   ]
  },
  {
   "cell_type": "code",
   "execution_count": null,
   "metadata": {},
   "outputs": [],
   "source": []
  }
 ],
 "metadata": {
  "kernelspec": {
   "display_name": "Python 3.7.3 64-bit ('3.7.3': pyenv)",
   "language": "python",
   "name": "python37364bit373pyenv2732a8268b3e4c21a7f9024113089ae8"
  },
  "language_info": {
   "codemirror_mode": {
    "name": "ipython",
    "version": 3
   },
   "file_extension": ".py",
   "mimetype": "text/x-python",
   "name": "python",
   "nbconvert_exporter": "python",
   "pygments_lexer": "ipython3",
   "version": "3.7.3"
  }
 },
 "nbformat": 4,
 "nbformat_minor": 4
}

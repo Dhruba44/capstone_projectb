{
 "cells": [
  {
   "cell_type": "code",
   "execution_count": 3,
   "id": "c22a4789",
   "metadata": {},
   "outputs": [
    {
     "data": {
      "text/plain": [
       "'1.4.1'"
      ]
     },
     "execution_count": 3,
     "metadata": {},
     "output_type": "execute_result"
    }
   ],
   "source": [
    "import pandas as pd\n",
    "pd.__version__\n"
   ]
  },
  {
   "cell_type": "code",
   "execution_count": 2,
   "id": "c00ce984",
   "metadata": {},
   "outputs": [
    {
     "name": "stdout",
     "output_type": "stream",
     "text": [
      "Collecting pandas==1.4.1\n",
      "  Downloading pandas-1.4.1-cp38-cp38-macosx_10_9_x86_64.whl (11.4 MB)\n",
      "\u001b[2K     \u001b[90m━━━━━━━━━━━━━━━━━━━━━━━━━━━━━━━━━━━━━━━━\u001b[0m \u001b[32m11.4/11.4 MB\u001b[0m \u001b[31m15.7 MB/s\u001b[0m eta \u001b[36m0:00:00\u001b[0m00:01\u001b[0m00:01\u001b[0m\n",
      "\u001b[?25hRequirement already satisfied: python-dateutil>=2.8.1 in /Users/wailunchung/.pyenv/versions/3.8.12/lib/python3.8/site-packages (from pandas==1.4.1) (2.8.2)\n",
      "Collecting pytz>=2020.1\n",
      "  Downloading pytz-2022.1-py2.py3-none-any.whl (503 kB)\n",
      "\u001b[2K     \u001b[90m━━━━━━━━━━━━━━━━━━━━━━━━━━━━━━━━━━━━━━\u001b[0m \u001b[32m503.5/503.5 KB\u001b[0m \u001b[31m14.8 MB/s\u001b[0m eta \u001b[36m0:00:00\u001b[0m\n",
      "\u001b[?25hCollecting numpy>=1.18.5\n",
      "  Downloading numpy-1.22.3-cp38-cp38-macosx_10_14_x86_64.whl (17.6 MB)\n",
      "\u001b[2K     \u001b[90m━━━━━━━━━━━━━━━━━━━━━━━━━━━━━━━━━━━━━━━━\u001b[0m \u001b[32m17.6/17.6 MB\u001b[0m \u001b[31m13.7 MB/s\u001b[0m eta \u001b[36m0:00:00\u001b[0m00:01\u001b[0m00:01\u001b[0m\n",
      "\u001b[?25hRequirement already satisfied: six>=1.5 in /Users/wailunchung/.pyenv/versions/3.8.12/lib/python3.8/site-packages (from python-dateutil>=2.8.1->pandas==1.4.1) (1.16.0)\n",
      "Installing collected packages: pytz, numpy, pandas\n",
      "Successfully installed numpy-1.22.3 pandas-1.4.1 pytz-2022.1\n"
     ]
    }
   ],
   "source": [
    "!pip3 install --upgrade pandas==1.4.1"
   ]
  },
  {
   "cell_type": "code",
   "execution_count": 9,
   "id": "b3f477d2",
   "metadata": {},
   "outputs": [
    {
     "name": "stdout",
     "output_type": "stream",
     "text": [
      "Collecting pickle5\n",
      "  Using cached pickle5-0.0.11.tar.gz (132 kB)\n",
      "  Preparing metadata (setup.py) ... \u001b[?25ldone\n",
      "\u001b[?25hUsing legacy 'setup.py install' for pickle5, since package 'wheel' is not installed.\n",
      "Installing collected packages: pickle5\n",
      "  Running setup.py install for pickle5 ... \u001b[?25ldone\n",
      "\u001b[?25hSuccessfully installed pickle5-0.0.11\n"
     ]
    }
   ],
   "source": [
    "!pip3 install pickle5"
   ]
  },
  {
   "cell_type": "code",
   "execution_count": 10,
   "id": "80f052cc",
   "metadata": {},
   "outputs": [
    {
     "name": "stdout",
     "output_type": "stream",
     "text": [
      "1.0.2\n"
     ]
    }
   ],
   "source": [
    "import sklearn \n",
    "print(sklearn.__version__)"
   ]
  },
  {
   "cell_type": "code",
   "execution_count": 8,
   "id": "06bdeebc",
   "metadata": {},
   "outputs": [
    {
     "name": "stdout",
     "output_type": "stream",
     "text": [
      "Collecting scikit-learn==1.0.2\n",
      "  Downloading scikit_learn-1.0.2-cp38-cp38-macosx_10_13_x86_64.whl (7.9 MB)\n",
      "\u001b[2K     \u001b[90m━━━━━━━━━━━━━━━━━━━━━━━━━━━━━━━━━━━━━━━━\u001b[0m \u001b[32m7.9/7.9 MB\u001b[0m \u001b[31m14.7 MB/s\u001b[0m eta \u001b[36m0:00:00\u001b[0m00:01\u001b[0m00:01\u001b[0m\n",
      "\u001b[?25hRequirement already satisfied: numpy>=1.14.6 in /Users/wailunchung/.pyenv/versions/3.8.12/lib/python3.8/site-packages (from scikit-learn==1.0.2) (1.22.3)\n",
      "Collecting joblib>=0.11\n",
      "  Downloading joblib-1.1.0-py2.py3-none-any.whl (306 kB)\n",
      "\u001b[2K     \u001b[90m━━━━━━━━━━━━━━━━━━━━━━━━━━━━━━━━━━━━━━\u001b[0m \u001b[32m307.0/307.0 KB\u001b[0m \u001b[31m23.8 MB/s\u001b[0m eta \u001b[36m0:00:00\u001b[0m\n",
      "\u001b[?25hCollecting threadpoolctl>=2.0.0\n",
      "  Downloading threadpoolctl-3.1.0-py3-none-any.whl (14 kB)\n",
      "Collecting scipy>=1.1.0\n",
      "  Downloading scipy-1.8.0-cp38-cp38-macosx_12_0_universal2.macosx_10_9_x86_64.whl (55.3 MB)\n",
      "\u001b[2K     \u001b[90m━━━━━━━━━━━━━━━━━━━━━━━━━━━━━━━━━━━━━━━━\u001b[0m \u001b[32m55.3/55.3 MB\u001b[0m \u001b[31m11.3 MB/s\u001b[0m eta \u001b[36m0:00:00\u001b[0m00:01\u001b[0m00:01\u001b[0m\n",
      "\u001b[?25hInstalling collected packages: threadpoolctl, scipy, joblib, scikit-learn\n",
      "Successfully installed joblib-1.1.0 scikit-learn-1.0.2 scipy-1.8.0 threadpoolctl-3.1.0\n"
     ]
    }
   ],
   "source": [
    "!pip3 install scikit-learn==1.0.2"
   ]
  },
  {
   "cell_type": "code",
   "execution_count": 11,
   "id": "0b0fe215",
   "metadata": {},
   "outputs": [],
   "source": [
    "file_in = '/Users/wailunchung/Downloads/index_sec'\n",
    "import pickle5 as pickle \n",
    "with open(file_in, \"rb\") as fh:\n",
    "    data2 = pickle.load(fh)"
   ]
  },
  {
   "cell_type": "code",
   "execution_count": 12,
   "id": "13aeae9a",
   "metadata": {},
   "outputs": [
    {
     "data": {
      "text/html": [
       "<div>\n",
       "<style scoped>\n",
       "    .dataframe tbody tr th:only-of-type {\n",
       "        vertical-align: middle;\n",
       "    }\n",
       "\n",
       "    .dataframe tbody tr th {\n",
       "        vertical-align: top;\n",
       "    }\n",
       "\n",
       "    .dataframe thead th {\n",
       "        text-align: right;\n",
       "    }\n",
       "</style>\n",
       "<table border=\"1\" class=\"dataframe\">\n",
       "  <thead>\n",
       "    <tr style=\"text-align: right;\">\n",
       "      <th></th>\n",
       "      <th>CompanyCIK</th>\n",
       "      <th>CompanyName</th>\n",
       "      <th>FileType</th>\n",
       "      <th>FileDate</th>\n",
       "      <th>EdgarTextUrl</th>\n",
       "      <th>EdgarHtmlUrl</th>\n",
       "      <th>AccessionNumber</th>\n",
       "      <th>SecFileName</th>\n",
       "      <th>CompanyTicker</th>\n",
       "      <th>FileDate_ClosingPrice</th>\n",
       "      <th>FileDate_Plus_20</th>\n",
       "      <th>FileDate_Plus_20_Price</th>\n",
       "      <th>Pct_Change_20</th>\n",
       "      <th>Share_Unit_Value_Raw</th>\n",
       "      <th>FileName</th>\n",
       "      <th>f_text</th>\n",
       "      <th>file_text_length</th>\n",
       "    </tr>\n",
       "    <tr>\n",
       "      <th>FileDate</th>\n",
       "      <th></th>\n",
       "      <th></th>\n",
       "      <th></th>\n",
       "      <th></th>\n",
       "      <th></th>\n",
       "      <th></th>\n",
       "      <th></th>\n",
       "      <th></th>\n",
       "      <th></th>\n",
       "      <th></th>\n",
       "      <th></th>\n",
       "      <th></th>\n",
       "      <th></th>\n",
       "      <th></th>\n",
       "      <th></th>\n",
       "      <th></th>\n",
       "      <th></th>\n",
       "    </tr>\n",
       "  </thead>\n",
       "  <tbody>\n",
       "    <tr>\n",
       "      <th>2019-01-03</th>\n",
       "      <td>717954</td>\n",
       "      <td>UNIFIRST CORP</td>\n",
       "      <td>10-Q</td>\n",
       "      <td>2019-01-03</td>\n",
       "      <td>edgar/data/717954/0001284084-19-000002.txt</td>\n",
       "      <td>edgar/data/717954/0001284084-19-000002-index.html</td>\n",
       "      <td>0001284084-19-000002</td>\n",
       "      <td>2019-QTR1</td>\n",
       "      <td>UNF</td>\n",
       "      <td>133.860001</td>\n",
       "      <td>2019-01-23</td>\n",
       "      <td>136.509995</td>\n",
       "      <td>1.979676</td>\n",
       "      <td>2.649994</td>\n",
       "      <td>717954_0001284084-19-000002.txt</td>\n",
       "      <td>[various estimate, the result, timely decision...</td>\n",
       "      <td>1870</td>\n",
       "    </tr>\n",
       "    <tr>\n",
       "      <th>2019-01-03</th>\n",
       "      <td>1084765</td>\n",
       "      <td>RESOURCES CONNECTION INC</td>\n",
       "      <td>10-Q</td>\n",
       "      <td>2019-01-03</td>\n",
       "      <td>edgar/data/1084765/0001193125-19-001543.txt</td>\n",
       "      <td>edgar/data/1084765/0001193125-19-001543-index....</td>\n",
       "      <td>0001193125-19-001543</td>\n",
       "      <td>2019-QTR1</td>\n",
       "      <td>RGP</td>\n",
       "      <td>13.600000</td>\n",
       "      <td>2019-01-23</td>\n",
       "      <td>16.590000</td>\n",
       "      <td>21.985292</td>\n",
       "      <td>2.990000</td>\n",
       "      <td>1084765_0001193125-19-001543.txt</td>\n",
       "      <td>[asc topic contract term, limited number, the ...</td>\n",
       "      <td>2305</td>\n",
       "    </tr>\n",
       "    <tr>\n",
       "      <th>2019-01-03</th>\n",
       "      <td>1702744</td>\n",
       "      <td>Simply Good Foods Co</td>\n",
       "      <td>10-Q</td>\n",
       "      <td>2019-01-03</td>\n",
       "      <td>edgar/data/1702744/0001702744-19-000004.txt</td>\n",
       "      <td>edgar/data/1702744/0001702744-19-000004-index....</td>\n",
       "      <td>0001702744-19-000004</td>\n",
       "      <td>2019-QTR1</td>\n",
       "      <td>SMPL</td>\n",
       "      <td>19.920000</td>\n",
       "      <td>2019-01-23</td>\n",
       "      <td>19.650000</td>\n",
       "      <td>-1.355424</td>\n",
       "      <td>-0.270000</td>\n",
       "      <td>1702744_0001702744-19-000004.txt</td>\n",
       "      <td>[year table, pointintime, tra liability curren...</td>\n",
       "      <td>1342</td>\n",
       "    </tr>\n",
       "    <tr>\n",
       "      <th>2019-01-04</th>\n",
       "      <td>33002</td>\n",
       "      <td>ENNIS, INC.</td>\n",
       "      <td>10-Q</td>\n",
       "      <td>2019-01-04</td>\n",
       "      <td>edgar/data/33002/0001564590-19-000166.txt</td>\n",
       "      <td>edgar/data/33002/0001564590-19-000166-index.html</td>\n",
       "      <td>0001564590-19-000166</td>\n",
       "      <td>2019-QTR1</td>\n",
       "      <td>EBF</td>\n",
       "      <td>19.790001</td>\n",
       "      <td>2019-01-24</td>\n",
       "      <td>19.850000</td>\n",
       "      <td>0.303181</td>\n",
       "      <td>0.059999</td>\n",
       "      <td>33002_0001564590-19-000166.txt</td>\n",
       "      <td>[to three increase, our operational cost depen...</td>\n",
       "      <td>1475</td>\n",
       "    </tr>\n",
       "  </tbody>\n",
       "</table>\n",
       "</div>"
      ],
      "text/plain": [
       "            CompanyCIK               CompanyName FileType   FileDate  \\\n",
       "FileDate                                                               \n",
       "2019-01-03      717954             UNIFIRST CORP     10-Q 2019-01-03   \n",
       "2019-01-03     1084765  RESOURCES CONNECTION INC     10-Q 2019-01-03   \n",
       "2019-01-03     1702744      Simply Good Foods Co     10-Q 2019-01-03   \n",
       "2019-01-04       33002               ENNIS, INC.     10-Q 2019-01-04   \n",
       "\n",
       "                                           EdgarTextUrl  \\\n",
       "FileDate                                                  \n",
       "2019-01-03   edgar/data/717954/0001284084-19-000002.txt   \n",
       "2019-01-03  edgar/data/1084765/0001193125-19-001543.txt   \n",
       "2019-01-03  edgar/data/1702744/0001702744-19-000004.txt   \n",
       "2019-01-04    edgar/data/33002/0001564590-19-000166.txt   \n",
       "\n",
       "                                                 EdgarHtmlUrl  \\\n",
       "FileDate                                                        \n",
       "2019-01-03  edgar/data/717954/0001284084-19-000002-index.html   \n",
       "2019-01-03  edgar/data/1084765/0001193125-19-001543-index....   \n",
       "2019-01-03  edgar/data/1702744/0001702744-19-000004-index....   \n",
       "2019-01-04   edgar/data/33002/0001564590-19-000166-index.html   \n",
       "\n",
       "                 AccessionNumber SecFileName CompanyTicker  \\\n",
       "FileDate                                                     \n",
       "2019-01-03  0001284084-19-000002   2019-QTR1           UNF   \n",
       "2019-01-03  0001193125-19-001543   2019-QTR1           RGP   \n",
       "2019-01-03  0001702744-19-000004   2019-QTR1          SMPL   \n",
       "2019-01-04  0001564590-19-000166   2019-QTR1           EBF   \n",
       "\n",
       "            FileDate_ClosingPrice FileDate_Plus_20  FileDate_Plus_20_Price  \\\n",
       "FileDate                                                                     \n",
       "2019-01-03             133.860001       2019-01-23              136.509995   \n",
       "2019-01-03              13.600000       2019-01-23               16.590000   \n",
       "2019-01-03              19.920000       2019-01-23               19.650000   \n",
       "2019-01-04              19.790001       2019-01-24               19.850000   \n",
       "\n",
       "            Pct_Change_20  Share_Unit_Value_Raw  \\\n",
       "FileDate                                          \n",
       "2019-01-03       1.979676              2.649994   \n",
       "2019-01-03      21.985292              2.990000   \n",
       "2019-01-03      -1.355424             -0.270000   \n",
       "2019-01-04       0.303181              0.059999   \n",
       "\n",
       "                                    FileName  \\\n",
       "FileDate                                       \n",
       "2019-01-03   717954_0001284084-19-000002.txt   \n",
       "2019-01-03  1084765_0001193125-19-001543.txt   \n",
       "2019-01-03  1702744_0001702744-19-000004.txt   \n",
       "2019-01-04    33002_0001564590-19-000166.txt   \n",
       "\n",
       "                                                       f_text  \\\n",
       "FileDate                                                        \n",
       "2019-01-03  [various estimate, the result, timely decision...   \n",
       "2019-01-03  [asc topic contract term, limited number, the ...   \n",
       "2019-01-03  [year table, pointintime, tra liability curren...   \n",
       "2019-01-04  [to three increase, our operational cost depen...   \n",
       "\n",
       "            file_text_length  \n",
       "FileDate                      \n",
       "2019-01-03              1870  \n",
       "2019-01-03              2305  \n",
       "2019-01-03              1342  \n",
       "2019-01-04              1475  "
      ]
     },
     "execution_count": 12,
     "metadata": {},
     "output_type": "execute_result"
    }
   ],
   "source": [
    "data2.head(4)"
   ]
  },
  {
   "cell_type": "code",
   "execution_count": 13,
   "id": "d840a685",
   "metadata": {},
   "outputs": [
    {
     "name": "stdout",
     "output_type": "stream",
     "text": [
      "/Users/wailunchung/Documents/GitHub/DS6120_Capstone_A_dey_chung\n"
     ]
    }
   ],
   "source": [
    "import os\n",
    "currentDirectory = os.getcwd()\n",
    "print(currentDirectory)\n",
    "parent_dir = os.path.abspath(os.path.join(currentDirectory, os.pardir))\n",
    "file_in = parent_dir + '/Capstone_data/index_sec'"
   ]
  },
  {
   "cell_type": "code",
   "execution_count": null,
   "id": "f2098706",
   "metadata": {},
   "outputs": [],
   "source": []
  }
 ],
 "metadata": {
  "kernelspec": {
   "display_name": "Python 3.8.12",
   "language": "python",
   "name": "python3812"
  },
  "language_info": {
   "codemirror_mode": {
    "name": "ipython",
    "version": 3
   },
   "file_extension": ".py",
   "mimetype": "text/x-python",
   "name": "python",
   "nbconvert_exporter": "python",
   "pygments_lexer": "ipython3",
   "version": "3.8.12"
  }
 },
 "nbformat": 4,
 "nbformat_minor": 5
}
